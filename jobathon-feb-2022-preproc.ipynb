{
 "cells": [
  {
   "cell_type": "code",
   "execution_count": 18,
   "metadata": {
    "_cell_guid": "b1076dfc-b9ad-4769-8c92-a6c4dae69d19",
    "_uuid": "8f2839f25d086af736a60e9eeb907d3b93b6e0e5",
    "execution": {
     "iopub.execute_input": "2022-02-11T09:58:03.569948Z",
     "iopub.status.busy": "2022-02-11T09:58:03.569612Z",
     "iopub.status.idle": "2022-02-11T09:58:03.601945Z",
     "shell.execute_reply": "2022-02-11T09:58:03.600868Z",
     "shell.execute_reply.started": "2022-02-11T09:58:03.569861Z"
    }
   },
   "outputs": [],
   "source": [
    "# This Python 3 environment comes with many helpful analytics libraries installed\n",
    "# It is defined by the kaggle/python Docker image: https://github.com/kaggle/docker-python\n",
    "# For example, here's several helpful packages to load\n",
    "\n",
    "import numpy as np # linear algebra\n",
    "import pandas as pd # data processing, CSV file I/O (e.g. pd.read_csv)\n",
    "\n",
    "# Input data files are available in the read-only \"../input/\" directory\n",
    "# For example, running this (by clicking run or pressing Shift+Enter) will list all files under the input directory\n",
    "\n",
    "import os\n",
    "for dirname, _, filenames in os.walk('/kaggle/input'):\n",
    "    for filename in filenames:\n",
    "        print(os.path.join(dirname, filename))\n",
    "\n",
    "# You can write up to 20GB to the current directory (/kaggle/working/) that gets preserved as output when you create a version using \"Save & Run All\" \n",
    "# You can also write temporary files to /kaggle/temp/, but they won't be saved outside of the current session"
   ]
  },
  {
   "cell_type": "code",
   "execution_count": 19,
   "metadata": {
    "execution": {
     "iopub.execute_input": "2022-02-11T09:58:03.604482Z",
     "iopub.status.busy": "2022-02-11T09:58:03.603618Z",
     "iopub.status.idle": "2022-02-11T09:58:03.609249Z",
     "shell.execute_reply": "2022-02-11T09:58:03.608376Z",
     "shell.execute_reply.started": "2022-02-11T09:58:03.604432Z"
    }
   },
   "outputs": [],
   "source": [
    "pd.options.display.max_columns = 500\n",
    "pd.options.display.max_rows = 500"
   ]
  },
  {
   "cell_type": "code",
   "execution_count": 20,
   "metadata": {
    "execution": {
     "iopub.execute_input": "2022-02-11T09:58:03.611481Z",
     "iopub.status.busy": "2022-02-11T09:58:03.610825Z",
     "iopub.status.idle": "2022-02-11T09:58:51.958070Z",
     "shell.execute_reply": "2022-02-11T09:58:51.956945Z",
     "shell.execute_reply.started": "2022-02-11T09:58:03.611436Z"
    }
   },
   "outputs": [],
   "source": [
    "!pip install pycaret"
   ]
  },
  {
   "cell_type": "code",
   "execution_count": 79,
   "metadata": {
    "execution": {
     "iopub.execute_input": "2022-02-11T09:58:51.961536Z",
     "iopub.status.busy": "2022-02-11T09:58:51.960982Z",
     "iopub.status.idle": "2022-02-11T09:58:52.625562Z",
     "shell.execute_reply": "2022-02-11T09:58:52.624668Z",
     "shell.execute_reply.started": "2022-02-11T09:58:51.961484Z"
    }
   },
   "outputs": [],
   "source": [
    "#import modules\n",
    "import matplotlib.pyplot as plt # for plotting graphs\n",
    "import seaborn as sns # for plotting graphs\n",
    "from sklearn.preprocessing import LabelEncoder\n",
    "from sklearn.metrics import r2_score\n",
    "from category_encoders import TargetEncoder\n",
    "from sklearn.compose import ColumnTransformer\n",
    "from sklearn.pipeline import Pipeline\n",
    "%matplotlib inline"
   ]
  },
  {
   "cell_type": "code",
   "execution_count": 80,
   "metadata": {},
   "outputs": [],
   "source": [
    "KAGGLE=False"
   ]
  },
  {
   "cell_type": "code",
   "execution_count": 26,
   "metadata": {},
   "outputs": [],
   "source": [
    "if KAGGLE:\n",
    "    path='../input/jobathonfebruary2022/'\n",
    "else:\n",
    "    path=''"
   ]
  },
  {
   "cell_type": "code",
   "execution_count": 27,
   "metadata": {
    "execution": {
     "iopub.execute_input": "2022-02-11T09:58:52.627765Z",
     "iopub.status.busy": "2022-02-11T09:58:52.627414Z",
     "iopub.status.idle": "2022-02-11T09:58:52.801961Z",
     "shell.execute_reply": "2022-02-11T09:58:52.801129Z",
     "shell.execute_reply.started": "2022-02-11T09:58:52.627735Z"
    }
   },
   "outputs": [],
   "source": [
    "train = pd.read_csv(path+'train_0OECtn8.csv')\n",
    "test = pd.read_csv(path+'test_1zqHu22.csv')\n",
    "subm = pd.read_csv(path+'sample_submission_JPlpRcN.csv')"
   ]
  },
  {
   "cell_type": "code",
   "execution_count": 28,
   "metadata": {
    "execution": {
     "iopub.execute_input": "2022-02-11T09:58:52.803658Z",
     "iopub.status.busy": "2022-02-11T09:58:52.803411Z",
     "iopub.status.idle": "2022-02-11T09:58:52.808674Z",
     "shell.execute_reply": "2022-02-11T09:58:52.807905Z",
     "shell.execute_reply.started": "2022-02-11T09:58:52.803624Z"
    }
   },
   "outputs": [
    {
     "name": "stdout",
     "output_type": "stream",
     "text": [
      "(89197, 10)\n",
      "(11121, 9)\n"
     ]
    }
   ],
   "source": [
    "print(train.shape)\n",
    "print(test.shape)"
   ]
  },
  {
   "cell_type": "code",
   "execution_count": 29,
   "metadata": {
    "execution": {
     "iopub.execute_input": "2022-02-11T09:58:52.810259Z",
     "iopub.status.busy": "2022-02-11T09:58:52.809706Z",
     "iopub.status.idle": "2022-02-11T09:58:52.820565Z",
     "shell.execute_reply": "2022-02-11T09:58:52.819784Z",
     "shell.execute_reply.started": "2022-02-11T09:58:52.810213Z"
    }
   },
   "outputs": [],
   "source": [
    "def preproc(train,test):\n",
    "    label_encoder = LabelEncoder()\n",
    "\n",
    "    train['gender']= label_encoder.fit_transform(train['gender'])\n",
    "    test['gender']= label_encoder.transform(test['gender'])\n",
    "    \n",
    "    #ordinal encoding of profession\n",
    "    prof_map = {'Other':0,'Student':1,'Working Professional':2}\n",
    "    train['profession'] = train['profession'].map(prof_map)\n",
    "    test['profession'] = test['profession'].map(prof_map)"
   ]
  },
  {
   "cell_type": "code",
   "execution_count": 30,
   "metadata": {
    "execution": {
     "iopub.execute_input": "2022-02-11T09:58:52.822561Z",
     "iopub.status.busy": "2022-02-11T09:58:52.821794Z",
     "iopub.status.idle": "2022-02-11T09:58:52.870351Z",
     "shell.execute_reply": "2022-02-11T09:58:52.869669Z",
     "shell.execute_reply.started": "2022-02-11T09:58:52.822524Z"
    }
   },
   "outputs": [],
   "source": [
    "preproc(train,test)"
   ]
  },
  {
   "cell_type": "code",
   "execution_count": 31,
   "metadata": {
    "execution": {
     "iopub.execute_input": "2022-02-11T09:58:52.871706Z",
     "iopub.status.busy": "2022-02-11T09:58:52.871303Z",
     "iopub.status.idle": "2022-02-11T09:58:52.876838Z",
     "shell.execute_reply": "2022-02-11T09:58:52.875598Z",
     "shell.execute_reply.started": "2022-02-11T09:58:52.871649Z"
    }
   },
   "outputs": [],
   "source": [
    "targetcol = 'engagement_score'\n",
    "target = train[targetcol]"
   ]
  },
  {
   "cell_type": "code",
   "execution_count": 198,
   "metadata": {
    "execution": {
     "iopub.execute_input": "2022-02-11T09:59:09.043820Z",
     "iopub.status.busy": "2022-02-11T09:59:09.043545Z",
     "iopub.status.idle": "2022-02-11T09:59:09.049603Z",
     "shell.execute_reply": "2022-02-11T09:59:09.048731Z",
     "shell.execute_reply.started": "2022-02-11T09:59:09.043791Z"
    }
   },
   "outputs": [
    {
     "name": "stdout",
     "output_type": "stream",
     "text": [
      "9\n",
      "['user_id', 'category_id', 'video_id', 'age', 'gender', 'profession', 'followers', 'views', 'engagement_score']\n"
     ]
    }
   ],
   "source": [
    "exclude_cols =['row_id']\n",
    "features =[col for col in train.columns if col not in exclude_cols]\n",
    "print(len(features))\n",
    "print(features)\n",
    "features_excl_target = [col for col in features if col!=targetcol]"
   ]
  },
  {
   "cell_type": "code",
   "execution_count": 199,
   "metadata": {
    "execution": {
     "iopub.execute_input": "2022-02-11T09:59:24.425428Z",
     "iopub.status.busy": "2022-02-11T09:59:24.424869Z",
     "iopub.status.idle": "2022-02-11T09:59:24.433242Z",
     "shell.execute_reply": "2022-02-11T09:59:24.430818Z",
     "shell.execute_reply.started": "2022-02-11T09:59:24.425378Z"
    }
   },
   "outputs": [
    {
     "name": "stdout",
     "output_type": "stream",
     "text": [
      "['user_id', 'category_id', 'video_id', 'age', 'profession', 'followers', 'views']\n"
     ]
    }
   ],
   "source": [
    "# catcols = ['user_id','category_id','video_id','gender']\n",
    "# catcols = ['category_id','video_id','gender']\n",
    "catcols = ['gender']\n",
    "numeric_cols = [col for col in features if col not in catcols+[targetcol]]\n",
    "print(numeric_cols)"
   ]
  },
  {
   "cell_type": "code",
   "execution_count": 74,
   "metadata": {
    "execution": {
     "iopub.execute_input": "2022-02-11T09:59:26.061452Z",
     "iopub.status.busy": "2022-02-11T09:59:26.061154Z",
     "iopub.status.idle": "2022-02-11T09:59:28.628472Z",
     "shell.execute_reply": "2022-02-11T09:59:28.627517Z",
     "shell.execute_reply.started": "2022-02-11T09:59:26.061417Z"
    }
   },
   "outputs": [],
   "source": [
    "from pycaret.regression import *"
   ]
  },
  {
   "cell_type": "code",
   "execution_count": 200,
   "metadata": {},
   "outputs": [],
   "source": [
    "preprocessor = ('Target encoding', TargetEncoder(cols=['user_id','category_id', 'video_id'],\n",
    "                                                min_samples_leaf=2, smoothing=0.1) )"
   ]
  },
  {
   "cell_type": "code",
   "execution_count": 201,
   "metadata": {},
   "outputs": [
    {
     "data": {
      "text/html": [
       "<div>\n",
       "<style scoped>\n",
       "    .dataframe tbody tr th:only-of-type {\n",
       "        vertical-align: middle;\n",
       "    }\n",
       "\n",
       "    .dataframe tbody tr th {\n",
       "        vertical-align: top;\n",
       "    }\n",
       "\n",
       "    .dataframe thead th {\n",
       "        text-align: right;\n",
       "    }\n",
       "</style>\n",
       "<table border=\"1\" class=\"dataframe\">\n",
       "  <thead>\n",
       "    <tr style=\"text-align: right;\">\n",
       "      <th></th>\n",
       "      <th>row_id</th>\n",
       "      <th>user_id</th>\n",
       "      <th>category_id</th>\n",
       "      <th>video_id</th>\n",
       "      <th>age</th>\n",
       "      <th>gender</th>\n",
       "      <th>profession</th>\n",
       "      <th>followers</th>\n",
       "      <th>views</th>\n",
       "      <th>engagement_score</th>\n",
       "    </tr>\n",
       "  </thead>\n",
       "  <tbody>\n",
       "    <tr>\n",
       "      <th>0</th>\n",
       "      <td>1</td>\n",
       "      <td>4.673280</td>\n",
       "      <td>3.314751</td>\n",
       "      <td>3.325765</td>\n",
       "      <td>24</td>\n",
       "      <td>1</td>\n",
       "      <td>1</td>\n",
       "      <td>180</td>\n",
       "      <td>1000</td>\n",
       "      <td>4.33</td>\n",
       "    </tr>\n",
       "    <tr>\n",
       "      <th>1</th>\n",
       "      <td>2</td>\n",
       "      <td>3.080000</td>\n",
       "      <td>3.442341</td>\n",
       "      <td>3.414046</td>\n",
       "      <td>14</td>\n",
       "      <td>0</td>\n",
       "      <td>1</td>\n",
       "      <td>330</td>\n",
       "      <td>714</td>\n",
       "      <td>1.79</td>\n",
       "    </tr>\n",
       "    <tr>\n",
       "      <th>2</th>\n",
       "      <td>3</td>\n",
       "      <td>4.193301</td>\n",
       "      <td>3.571666</td>\n",
       "      <td>3.478865</td>\n",
       "      <td>19</td>\n",
       "      <td>1</td>\n",
       "      <td>1</td>\n",
       "      <td>180</td>\n",
       "      <td>138</td>\n",
       "      <td>4.35</td>\n",
       "    </tr>\n",
       "    <tr>\n",
       "      <th>3</th>\n",
       "      <td>4</td>\n",
       "      <td>3.410004</td>\n",
       "      <td>3.955189</td>\n",
       "      <td>3.877502</td>\n",
       "      <td>19</td>\n",
       "      <td>1</td>\n",
       "      <td>1</td>\n",
       "      <td>220</td>\n",
       "      <td>613</td>\n",
       "      <td>3.77</td>\n",
       "    </tr>\n",
       "    <tr>\n",
       "      <th>4</th>\n",
       "      <td>5</td>\n",
       "      <td>3.152500</td>\n",
       "      <td>3.955189</td>\n",
       "      <td>3.877502</td>\n",
       "      <td>27</td>\n",
       "      <td>1</td>\n",
       "      <td>2</td>\n",
       "      <td>220</td>\n",
       "      <td>613</td>\n",
       "      <td>3.13</td>\n",
       "    </tr>\n",
       "  </tbody>\n",
       "</table>\n",
       "</div>"
      ],
      "text/plain": [
       "   row_id   user_id  category_id  video_id  age  gender  profession  \\\n",
       "0       1  4.673280     3.314751  3.325765   24       1           1   \n",
       "1       2  3.080000     3.442341  3.414046   14       0           1   \n",
       "2       3  4.193301     3.571666  3.478865   19       1           1   \n",
       "3       4  3.410004     3.955189  3.877502   19       1           1   \n",
       "4       5  3.152500     3.955189  3.877502   27       1           2   \n",
       "\n",
       "   followers  views  engagement_score  \n",
       "0        180   1000              4.33  \n",
       "1        330    714              1.79  \n",
       "2        180    138              4.35  \n",
       "3        220    613              3.77  \n",
       "4        220    613              3.13  "
      ]
     },
     "execution_count": 201,
     "metadata": {},
     "output_type": "execute_result"
    }
   ],
   "source": [
    "ce_target=TargetEncoder(cols=['user_id','category_id', 'video_id'],\n",
    "                       min_samples_leaf=2, smoothing=0.1)\n",
    "ce_target.fit(train,target)\n",
    "\n",
    "ret =ce_target.transform(train,target)\n",
    "ret.head()"
   ]
  },
  {
   "cell_type": "code",
   "execution_count": 194,
   "metadata": {},
   "outputs": [
    {
     "data": {
      "text/plain": [
       "6247"
      ]
     },
     "execution_count": 194,
     "metadata": {},
     "output_type": "execute_result"
    }
   ],
   "source": [
    "ret['user_id'].nunique()"
   ]
  },
  {
   "cell_type": "code",
   "execution_count": 190,
   "metadata": {},
   "outputs": [
    {
     "data": {
      "text/html": [
       "<div>\n",
       "<style scoped>\n",
       "    .dataframe tbody tr th:only-of-type {\n",
       "        vertical-align: middle;\n",
       "    }\n",
       "\n",
       "    .dataframe tbody tr th {\n",
       "        vertical-align: top;\n",
       "    }\n",
       "\n",
       "    .dataframe thead th {\n",
       "        text-align: right;\n",
       "    }\n",
       "</style>\n",
       "<table border=\"1\" class=\"dataframe\">\n",
       "  <thead>\n",
       "    <tr style=\"text-align: right;\">\n",
       "      <th></th>\n",
       "      <th>row_id</th>\n",
       "      <th>user_id</th>\n",
       "      <th>category_id</th>\n",
       "      <th>video_id</th>\n",
       "      <th>age</th>\n",
       "      <th>gender</th>\n",
       "      <th>profession</th>\n",
       "      <th>followers</th>\n",
       "      <th>views</th>\n",
       "      <th>engagement_score</th>\n",
       "    </tr>\n",
       "  </thead>\n",
       "  <tbody>\n",
       "    <tr>\n",
       "      <th>0</th>\n",
       "      <td>1</td>\n",
       "      <td>19990</td>\n",
       "      <td>37</td>\n",
       "      <td>128</td>\n",
       "      <td>24</td>\n",
       "      <td>1</td>\n",
       "      <td>1</td>\n",
       "      <td>180</td>\n",
       "      <td>1000</td>\n",
       "      <td>4.33</td>\n",
       "    </tr>\n",
       "    <tr>\n",
       "      <th>1</th>\n",
       "      <td>2</td>\n",
       "      <td>5304</td>\n",
       "      <td>32</td>\n",
       "      <td>132</td>\n",
       "      <td>14</td>\n",
       "      <td>0</td>\n",
       "      <td>1</td>\n",
       "      <td>330</td>\n",
       "      <td>714</td>\n",
       "      <td>1.79</td>\n",
       "    </tr>\n",
       "    <tr>\n",
       "      <th>2</th>\n",
       "      <td>3</td>\n",
       "      <td>1840</td>\n",
       "      <td>12</td>\n",
       "      <td>24</td>\n",
       "      <td>19</td>\n",
       "      <td>1</td>\n",
       "      <td>1</td>\n",
       "      <td>180</td>\n",
       "      <td>138</td>\n",
       "      <td>4.35</td>\n",
       "    </tr>\n",
       "    <tr>\n",
       "      <th>3</th>\n",
       "      <td>4</td>\n",
       "      <td>12597</td>\n",
       "      <td>23</td>\n",
       "      <td>112</td>\n",
       "      <td>19</td>\n",
       "      <td>1</td>\n",
       "      <td>1</td>\n",
       "      <td>220</td>\n",
       "      <td>613</td>\n",
       "      <td>3.77</td>\n",
       "    </tr>\n",
       "    <tr>\n",
       "      <th>4</th>\n",
       "      <td>5</td>\n",
       "      <td>13626</td>\n",
       "      <td>23</td>\n",
       "      <td>112</td>\n",
       "      <td>27</td>\n",
       "      <td>1</td>\n",
       "      <td>2</td>\n",
       "      <td>220</td>\n",
       "      <td>613</td>\n",
       "      <td>3.13</td>\n",
       "    </tr>\n",
       "  </tbody>\n",
       "</table>\n",
       "</div>"
      ],
      "text/plain": [
       "   row_id  user_id  category_id  video_id  age  gender  profession  followers  \\\n",
       "0       1    19990           37       128   24       1           1        180   \n",
       "1       2     5304           32       132   14       0           1        330   \n",
       "2       3     1840           12        24   19       1           1        180   \n",
       "3       4    12597           23       112   19       1           1        220   \n",
       "4       5    13626           23       112   27       1           2        220   \n",
       "\n",
       "   views  engagement_score  \n",
       "0   1000              4.33  \n",
       "1    714              1.79  \n",
       "2    138              4.35  \n",
       "3    613              3.77  \n",
       "4    613              3.13  "
      ]
     },
     "execution_count": 190,
     "metadata": {},
     "output_type": "execute_result"
    }
   ],
   "source": [
    "train.head()"
   ]
  },
  {
   "cell_type": "code",
   "execution_count": 202,
   "metadata": {
    "execution": {
     "iopub.execute_input": "2022-02-11T09:59:34.826342Z",
     "iopub.status.busy": "2022-02-11T09:59:34.826048Z",
     "iopub.status.idle": "2022-02-11T09:59:36.614784Z",
     "shell.execute_reply": "2022-02-11T09:59:36.613864Z",
     "shell.execute_reply.started": "2022-02-11T09:59:34.826309Z"
    }
   },
   "outputs": [
    {
     "data": {
      "text/html": [
       "<style type=\"text/css\">\n",
       "#T_2dce7_row42_col1 {\n",
       "  background-color: lightgreen;\n",
       "}\n",
       "</style>\n",
       "<table id=\"T_2dce7_\">\n",
       "  <thead>\n",
       "    <tr>\n",
       "      <th class=\"blank level0\" >&nbsp;</th>\n",
       "      <th class=\"col_heading level0 col0\" >Description</th>\n",
       "      <th class=\"col_heading level0 col1\" >Value</th>\n",
       "    </tr>\n",
       "  </thead>\n",
       "  <tbody>\n",
       "    <tr>\n",
       "      <th id=\"T_2dce7_level0_row0\" class=\"row_heading level0 row0\" >0</th>\n",
       "      <td id=\"T_2dce7_row0_col0\" class=\"data row0 col0\" >session_id</td>\n",
       "      <td id=\"T_2dce7_row0_col1\" class=\"data row0 col1\" >100</td>\n",
       "    </tr>\n",
       "    <tr>\n",
       "      <th id=\"T_2dce7_level0_row1\" class=\"row_heading level0 row1\" >1</th>\n",
       "      <td id=\"T_2dce7_row1_col0\" class=\"data row1 col0\" >Target</td>\n",
       "      <td id=\"T_2dce7_row1_col1\" class=\"data row1 col1\" >engagement_score</td>\n",
       "    </tr>\n",
       "    <tr>\n",
       "      <th id=\"T_2dce7_level0_row2\" class=\"row_heading level0 row2\" >2</th>\n",
       "      <td id=\"T_2dce7_row2_col0\" class=\"data row2 col0\" >Original Data</td>\n",
       "      <td id=\"T_2dce7_row2_col1\" class=\"data row2 col1\" >(89197, 9)</td>\n",
       "    </tr>\n",
       "    <tr>\n",
       "      <th id=\"T_2dce7_level0_row3\" class=\"row_heading level0 row3\" >3</th>\n",
       "      <td id=\"T_2dce7_row3_col0\" class=\"data row3 col0\" >Missing Values</td>\n",
       "      <td id=\"T_2dce7_row3_col1\" class=\"data row3 col1\" >False</td>\n",
       "    </tr>\n",
       "    <tr>\n",
       "      <th id=\"T_2dce7_level0_row4\" class=\"row_heading level0 row4\" >4</th>\n",
       "      <td id=\"T_2dce7_row4_col0\" class=\"data row4 col0\" >Numeric Features</td>\n",
       "      <td id=\"T_2dce7_row4_col1\" class=\"data row4 col1\" >7</td>\n",
       "    </tr>\n",
       "    <tr>\n",
       "      <th id=\"T_2dce7_level0_row5\" class=\"row_heading level0 row5\" >5</th>\n",
       "      <td id=\"T_2dce7_row5_col0\" class=\"data row5 col0\" >Categorical Features</td>\n",
       "      <td id=\"T_2dce7_row5_col1\" class=\"data row5 col1\" >1</td>\n",
       "    </tr>\n",
       "    <tr>\n",
       "      <th id=\"T_2dce7_level0_row6\" class=\"row_heading level0 row6\" >6</th>\n",
       "      <td id=\"T_2dce7_row6_col0\" class=\"data row6 col0\" >Ordinal Features</td>\n",
       "      <td id=\"T_2dce7_row6_col1\" class=\"data row6 col1\" >False</td>\n",
       "    </tr>\n",
       "    <tr>\n",
       "      <th id=\"T_2dce7_level0_row7\" class=\"row_heading level0 row7\" >7</th>\n",
       "      <td id=\"T_2dce7_row7_col0\" class=\"data row7 col0\" >High Cardinality Features</td>\n",
       "      <td id=\"T_2dce7_row7_col1\" class=\"data row7 col1\" >False</td>\n",
       "    </tr>\n",
       "    <tr>\n",
       "      <th id=\"T_2dce7_level0_row8\" class=\"row_heading level0 row8\" >8</th>\n",
       "      <td id=\"T_2dce7_row8_col0\" class=\"data row8 col0\" >High Cardinality Method</td>\n",
       "      <td id=\"T_2dce7_row8_col1\" class=\"data row8 col1\" >None</td>\n",
       "    </tr>\n",
       "    <tr>\n",
       "      <th id=\"T_2dce7_level0_row9\" class=\"row_heading level0 row9\" >9</th>\n",
       "      <td id=\"T_2dce7_row9_col0\" class=\"data row9 col0\" >Transformed Train Set</td>\n",
       "      <td id=\"T_2dce7_row9_col1\" class=\"data row9 col1\" >(62437, 8)</td>\n",
       "    </tr>\n",
       "    <tr>\n",
       "      <th id=\"T_2dce7_level0_row10\" class=\"row_heading level0 row10\" >10</th>\n",
       "      <td id=\"T_2dce7_row10_col0\" class=\"data row10 col0\" >Transformed Test Set</td>\n",
       "      <td id=\"T_2dce7_row10_col1\" class=\"data row10 col1\" >(26760, 8)</td>\n",
       "    </tr>\n",
       "    <tr>\n",
       "      <th id=\"T_2dce7_level0_row11\" class=\"row_heading level0 row11\" >11</th>\n",
       "      <td id=\"T_2dce7_row11_col0\" class=\"data row11 col0\" >Shuffle Train-Test</td>\n",
       "      <td id=\"T_2dce7_row11_col1\" class=\"data row11 col1\" >True</td>\n",
       "    </tr>\n",
       "    <tr>\n",
       "      <th id=\"T_2dce7_level0_row12\" class=\"row_heading level0 row12\" >12</th>\n",
       "      <td id=\"T_2dce7_row12_col0\" class=\"data row12 col0\" >Stratify Train-Test</td>\n",
       "      <td id=\"T_2dce7_row12_col1\" class=\"data row12 col1\" >False</td>\n",
       "    </tr>\n",
       "    <tr>\n",
       "      <th id=\"T_2dce7_level0_row13\" class=\"row_heading level0 row13\" >13</th>\n",
       "      <td id=\"T_2dce7_row13_col0\" class=\"data row13 col0\" >Fold Generator</td>\n",
       "      <td id=\"T_2dce7_row13_col1\" class=\"data row13 col1\" >KFold</td>\n",
       "    </tr>\n",
       "    <tr>\n",
       "      <th id=\"T_2dce7_level0_row14\" class=\"row_heading level0 row14\" >14</th>\n",
       "      <td id=\"T_2dce7_row14_col0\" class=\"data row14 col0\" >Fold Number</td>\n",
       "      <td id=\"T_2dce7_row14_col1\" class=\"data row14 col1\" >10</td>\n",
       "    </tr>\n",
       "    <tr>\n",
       "      <th id=\"T_2dce7_level0_row15\" class=\"row_heading level0 row15\" >15</th>\n",
       "      <td id=\"T_2dce7_row15_col0\" class=\"data row15 col0\" >CPU Jobs</td>\n",
       "      <td id=\"T_2dce7_row15_col1\" class=\"data row15 col1\" >-1</td>\n",
       "    </tr>\n",
       "    <tr>\n",
       "      <th id=\"T_2dce7_level0_row16\" class=\"row_heading level0 row16\" >16</th>\n",
       "      <td id=\"T_2dce7_row16_col0\" class=\"data row16 col0\" >Use GPU</td>\n",
       "      <td id=\"T_2dce7_row16_col1\" class=\"data row16 col1\" >False</td>\n",
       "    </tr>\n",
       "    <tr>\n",
       "      <th id=\"T_2dce7_level0_row17\" class=\"row_heading level0 row17\" >17</th>\n",
       "      <td id=\"T_2dce7_row17_col0\" class=\"data row17 col0\" >Log Experiment</td>\n",
       "      <td id=\"T_2dce7_row17_col1\" class=\"data row17 col1\" >False</td>\n",
       "    </tr>\n",
       "    <tr>\n",
       "      <th id=\"T_2dce7_level0_row18\" class=\"row_heading level0 row18\" >18</th>\n",
       "      <td id=\"T_2dce7_row18_col0\" class=\"data row18 col0\" >Experiment Name</td>\n",
       "      <td id=\"T_2dce7_row18_col1\" class=\"data row18 col1\" >reg-default-name</td>\n",
       "    </tr>\n",
       "    <tr>\n",
       "      <th id=\"T_2dce7_level0_row19\" class=\"row_heading level0 row19\" >19</th>\n",
       "      <td id=\"T_2dce7_row19_col0\" class=\"data row19 col0\" >USI</td>\n",
       "      <td id=\"T_2dce7_row19_col1\" class=\"data row19 col1\" >8557</td>\n",
       "    </tr>\n",
       "    <tr>\n",
       "      <th id=\"T_2dce7_level0_row20\" class=\"row_heading level0 row20\" >20</th>\n",
       "      <td id=\"T_2dce7_row20_col0\" class=\"data row20 col0\" >Imputation Type</td>\n",
       "      <td id=\"T_2dce7_row20_col1\" class=\"data row20 col1\" >simple</td>\n",
       "    </tr>\n",
       "    <tr>\n",
       "      <th id=\"T_2dce7_level0_row21\" class=\"row_heading level0 row21\" >21</th>\n",
       "      <td id=\"T_2dce7_row21_col0\" class=\"data row21 col0\" >Iterative Imputation Iteration</td>\n",
       "      <td id=\"T_2dce7_row21_col1\" class=\"data row21 col1\" >None</td>\n",
       "    </tr>\n",
       "    <tr>\n",
       "      <th id=\"T_2dce7_level0_row22\" class=\"row_heading level0 row22\" >22</th>\n",
       "      <td id=\"T_2dce7_row22_col0\" class=\"data row22 col0\" >Numeric Imputer</td>\n",
       "      <td id=\"T_2dce7_row22_col1\" class=\"data row22 col1\" >mean</td>\n",
       "    </tr>\n",
       "    <tr>\n",
       "      <th id=\"T_2dce7_level0_row23\" class=\"row_heading level0 row23\" >23</th>\n",
       "      <td id=\"T_2dce7_row23_col0\" class=\"data row23 col0\" >Iterative Imputation Numeric Model</td>\n",
       "      <td id=\"T_2dce7_row23_col1\" class=\"data row23 col1\" >None</td>\n",
       "    </tr>\n",
       "    <tr>\n",
       "      <th id=\"T_2dce7_level0_row24\" class=\"row_heading level0 row24\" >24</th>\n",
       "      <td id=\"T_2dce7_row24_col0\" class=\"data row24 col0\" >Categorical Imputer</td>\n",
       "      <td id=\"T_2dce7_row24_col1\" class=\"data row24 col1\" >constant</td>\n",
       "    </tr>\n",
       "    <tr>\n",
       "      <th id=\"T_2dce7_level0_row25\" class=\"row_heading level0 row25\" >25</th>\n",
       "      <td id=\"T_2dce7_row25_col0\" class=\"data row25 col0\" >Iterative Imputation Categorical Model</td>\n",
       "      <td id=\"T_2dce7_row25_col1\" class=\"data row25 col1\" >None</td>\n",
       "    </tr>\n",
       "    <tr>\n",
       "      <th id=\"T_2dce7_level0_row26\" class=\"row_heading level0 row26\" >26</th>\n",
       "      <td id=\"T_2dce7_row26_col0\" class=\"data row26 col0\" >Unknown Categoricals Handling</td>\n",
       "      <td id=\"T_2dce7_row26_col1\" class=\"data row26 col1\" >least_frequent</td>\n",
       "    </tr>\n",
       "    <tr>\n",
       "      <th id=\"T_2dce7_level0_row27\" class=\"row_heading level0 row27\" >27</th>\n",
       "      <td id=\"T_2dce7_row27_col0\" class=\"data row27 col0\" >Normalize</td>\n",
       "      <td id=\"T_2dce7_row27_col1\" class=\"data row27 col1\" >False</td>\n",
       "    </tr>\n",
       "    <tr>\n",
       "      <th id=\"T_2dce7_level0_row28\" class=\"row_heading level0 row28\" >28</th>\n",
       "      <td id=\"T_2dce7_row28_col0\" class=\"data row28 col0\" >Normalize Method</td>\n",
       "      <td id=\"T_2dce7_row28_col1\" class=\"data row28 col1\" >None</td>\n",
       "    </tr>\n",
       "    <tr>\n",
       "      <th id=\"T_2dce7_level0_row29\" class=\"row_heading level0 row29\" >29</th>\n",
       "      <td id=\"T_2dce7_row29_col0\" class=\"data row29 col0\" >Transformation</td>\n",
       "      <td id=\"T_2dce7_row29_col1\" class=\"data row29 col1\" >False</td>\n",
       "    </tr>\n",
       "    <tr>\n",
       "      <th id=\"T_2dce7_level0_row30\" class=\"row_heading level0 row30\" >30</th>\n",
       "      <td id=\"T_2dce7_row30_col0\" class=\"data row30 col0\" >Transformation Method</td>\n",
       "      <td id=\"T_2dce7_row30_col1\" class=\"data row30 col1\" >None</td>\n",
       "    </tr>\n",
       "    <tr>\n",
       "      <th id=\"T_2dce7_level0_row31\" class=\"row_heading level0 row31\" >31</th>\n",
       "      <td id=\"T_2dce7_row31_col0\" class=\"data row31 col0\" >PCA</td>\n",
       "      <td id=\"T_2dce7_row31_col1\" class=\"data row31 col1\" >False</td>\n",
       "    </tr>\n",
       "    <tr>\n",
       "      <th id=\"T_2dce7_level0_row32\" class=\"row_heading level0 row32\" >32</th>\n",
       "      <td id=\"T_2dce7_row32_col0\" class=\"data row32 col0\" >PCA Method</td>\n",
       "      <td id=\"T_2dce7_row32_col1\" class=\"data row32 col1\" >None</td>\n",
       "    </tr>\n",
       "    <tr>\n",
       "      <th id=\"T_2dce7_level0_row33\" class=\"row_heading level0 row33\" >33</th>\n",
       "      <td id=\"T_2dce7_row33_col0\" class=\"data row33 col0\" >PCA Components</td>\n",
       "      <td id=\"T_2dce7_row33_col1\" class=\"data row33 col1\" >None</td>\n",
       "    </tr>\n",
       "    <tr>\n",
       "      <th id=\"T_2dce7_level0_row34\" class=\"row_heading level0 row34\" >34</th>\n",
       "      <td id=\"T_2dce7_row34_col0\" class=\"data row34 col0\" >Ignore Low Variance</td>\n",
       "      <td id=\"T_2dce7_row34_col1\" class=\"data row34 col1\" >False</td>\n",
       "    </tr>\n",
       "    <tr>\n",
       "      <th id=\"T_2dce7_level0_row35\" class=\"row_heading level0 row35\" >35</th>\n",
       "      <td id=\"T_2dce7_row35_col0\" class=\"data row35 col0\" >Combine Rare Levels</td>\n",
       "      <td id=\"T_2dce7_row35_col1\" class=\"data row35 col1\" >False</td>\n",
       "    </tr>\n",
       "    <tr>\n",
       "      <th id=\"T_2dce7_level0_row36\" class=\"row_heading level0 row36\" >36</th>\n",
       "      <td id=\"T_2dce7_row36_col0\" class=\"data row36 col0\" >Rare Level Threshold</td>\n",
       "      <td id=\"T_2dce7_row36_col1\" class=\"data row36 col1\" >None</td>\n",
       "    </tr>\n",
       "    <tr>\n",
       "      <th id=\"T_2dce7_level0_row37\" class=\"row_heading level0 row37\" >37</th>\n",
       "      <td id=\"T_2dce7_row37_col0\" class=\"data row37 col0\" >Numeric Binning</td>\n",
       "      <td id=\"T_2dce7_row37_col1\" class=\"data row37 col1\" >False</td>\n",
       "    </tr>\n",
       "    <tr>\n",
       "      <th id=\"T_2dce7_level0_row38\" class=\"row_heading level0 row38\" >38</th>\n",
       "      <td id=\"T_2dce7_row38_col0\" class=\"data row38 col0\" >Remove Outliers</td>\n",
       "      <td id=\"T_2dce7_row38_col1\" class=\"data row38 col1\" >False</td>\n",
       "    </tr>\n",
       "    <tr>\n",
       "      <th id=\"T_2dce7_level0_row39\" class=\"row_heading level0 row39\" >39</th>\n",
       "      <td id=\"T_2dce7_row39_col0\" class=\"data row39 col0\" >Outliers Threshold</td>\n",
       "      <td id=\"T_2dce7_row39_col1\" class=\"data row39 col1\" >None</td>\n",
       "    </tr>\n",
       "    <tr>\n",
       "      <th id=\"T_2dce7_level0_row40\" class=\"row_heading level0 row40\" >40</th>\n",
       "      <td id=\"T_2dce7_row40_col0\" class=\"data row40 col0\" >Remove Multicollinearity</td>\n",
       "      <td id=\"T_2dce7_row40_col1\" class=\"data row40 col1\" >False</td>\n",
       "    </tr>\n",
       "    <tr>\n",
       "      <th id=\"T_2dce7_level0_row41\" class=\"row_heading level0 row41\" >41</th>\n",
       "      <td id=\"T_2dce7_row41_col0\" class=\"data row41 col0\" >Multicollinearity Threshold</td>\n",
       "      <td id=\"T_2dce7_row41_col1\" class=\"data row41 col1\" >None</td>\n",
       "    </tr>\n",
       "    <tr>\n",
       "      <th id=\"T_2dce7_level0_row42\" class=\"row_heading level0 row42\" >42</th>\n",
       "      <td id=\"T_2dce7_row42_col0\" class=\"data row42 col0\" >Remove Perfect Collinearity</td>\n",
       "      <td id=\"T_2dce7_row42_col1\" class=\"data row42 col1\" >True</td>\n",
       "    </tr>\n",
       "    <tr>\n",
       "      <th id=\"T_2dce7_level0_row43\" class=\"row_heading level0 row43\" >43</th>\n",
       "      <td id=\"T_2dce7_row43_col0\" class=\"data row43 col0\" >Clustering</td>\n",
       "      <td id=\"T_2dce7_row43_col1\" class=\"data row43 col1\" >False</td>\n",
       "    </tr>\n",
       "    <tr>\n",
       "      <th id=\"T_2dce7_level0_row44\" class=\"row_heading level0 row44\" >44</th>\n",
       "      <td id=\"T_2dce7_row44_col0\" class=\"data row44 col0\" >Clustering Iteration</td>\n",
       "      <td id=\"T_2dce7_row44_col1\" class=\"data row44 col1\" >None</td>\n",
       "    </tr>\n",
       "    <tr>\n",
       "      <th id=\"T_2dce7_level0_row45\" class=\"row_heading level0 row45\" >45</th>\n",
       "      <td id=\"T_2dce7_row45_col0\" class=\"data row45 col0\" >Polynomial Features</td>\n",
       "      <td id=\"T_2dce7_row45_col1\" class=\"data row45 col1\" >False</td>\n",
       "    </tr>\n",
       "    <tr>\n",
       "      <th id=\"T_2dce7_level0_row46\" class=\"row_heading level0 row46\" >46</th>\n",
       "      <td id=\"T_2dce7_row46_col0\" class=\"data row46 col0\" >Polynomial Degree</td>\n",
       "      <td id=\"T_2dce7_row46_col1\" class=\"data row46 col1\" >None</td>\n",
       "    </tr>\n",
       "    <tr>\n",
       "      <th id=\"T_2dce7_level0_row47\" class=\"row_heading level0 row47\" >47</th>\n",
       "      <td id=\"T_2dce7_row47_col0\" class=\"data row47 col0\" >Trignometry Features</td>\n",
       "      <td id=\"T_2dce7_row47_col1\" class=\"data row47 col1\" >False</td>\n",
       "    </tr>\n",
       "    <tr>\n",
       "      <th id=\"T_2dce7_level0_row48\" class=\"row_heading level0 row48\" >48</th>\n",
       "      <td id=\"T_2dce7_row48_col0\" class=\"data row48 col0\" >Polynomial Threshold</td>\n",
       "      <td id=\"T_2dce7_row48_col1\" class=\"data row48 col1\" >None</td>\n",
       "    </tr>\n",
       "    <tr>\n",
       "      <th id=\"T_2dce7_level0_row49\" class=\"row_heading level0 row49\" >49</th>\n",
       "      <td id=\"T_2dce7_row49_col0\" class=\"data row49 col0\" >Group Features</td>\n",
       "      <td id=\"T_2dce7_row49_col1\" class=\"data row49 col1\" >False</td>\n",
       "    </tr>\n",
       "    <tr>\n",
       "      <th id=\"T_2dce7_level0_row50\" class=\"row_heading level0 row50\" >50</th>\n",
       "      <td id=\"T_2dce7_row50_col0\" class=\"data row50 col0\" >Feature Selection</td>\n",
       "      <td id=\"T_2dce7_row50_col1\" class=\"data row50 col1\" >False</td>\n",
       "    </tr>\n",
       "    <tr>\n",
       "      <th id=\"T_2dce7_level0_row51\" class=\"row_heading level0 row51\" >51</th>\n",
       "      <td id=\"T_2dce7_row51_col0\" class=\"data row51 col0\" >Feature Selection Method</td>\n",
       "      <td id=\"T_2dce7_row51_col1\" class=\"data row51 col1\" >classic</td>\n",
       "    </tr>\n",
       "    <tr>\n",
       "      <th id=\"T_2dce7_level0_row52\" class=\"row_heading level0 row52\" >52</th>\n",
       "      <td id=\"T_2dce7_row52_col0\" class=\"data row52 col0\" >Features Selection Threshold</td>\n",
       "      <td id=\"T_2dce7_row52_col1\" class=\"data row52 col1\" >None</td>\n",
       "    </tr>\n",
       "    <tr>\n",
       "      <th id=\"T_2dce7_level0_row53\" class=\"row_heading level0 row53\" >53</th>\n",
       "      <td id=\"T_2dce7_row53_col0\" class=\"data row53 col0\" >Feature Interaction</td>\n",
       "      <td id=\"T_2dce7_row53_col1\" class=\"data row53 col1\" >False</td>\n",
       "    </tr>\n",
       "    <tr>\n",
       "      <th id=\"T_2dce7_level0_row54\" class=\"row_heading level0 row54\" >54</th>\n",
       "      <td id=\"T_2dce7_row54_col0\" class=\"data row54 col0\" >Feature Ratio</td>\n",
       "      <td id=\"T_2dce7_row54_col1\" class=\"data row54 col1\" >False</td>\n",
       "    </tr>\n",
       "    <tr>\n",
       "      <th id=\"T_2dce7_level0_row55\" class=\"row_heading level0 row55\" >55</th>\n",
       "      <td id=\"T_2dce7_row55_col0\" class=\"data row55 col0\" >Interaction Threshold</td>\n",
       "      <td id=\"T_2dce7_row55_col1\" class=\"data row55 col1\" >None</td>\n",
       "    </tr>\n",
       "    <tr>\n",
       "      <th id=\"T_2dce7_level0_row56\" class=\"row_heading level0 row56\" >56</th>\n",
       "      <td id=\"T_2dce7_row56_col0\" class=\"data row56 col0\" >Transform Target</td>\n",
       "      <td id=\"T_2dce7_row56_col1\" class=\"data row56 col1\" >False</td>\n",
       "    </tr>\n",
       "    <tr>\n",
       "      <th id=\"T_2dce7_level0_row57\" class=\"row_heading level0 row57\" >57</th>\n",
       "      <td id=\"T_2dce7_row57_col0\" class=\"data row57 col0\" >Transform Target Method</td>\n",
       "      <td id=\"T_2dce7_row57_col1\" class=\"data row57 col1\" >box-cox</td>\n",
       "    </tr>\n",
       "  </tbody>\n",
       "</table>\n"
      ],
      "text/plain": [
       "<pandas.io.formats.style.Styler at 0x7fcddd524790>"
      ]
     },
     "metadata": {},
     "output_type": "display_data"
    }
   ],
   "source": [
    "s = setup(train[features], session_id=100,\n",
    "          silent=True,\n",
    "          numeric_features=numeric_cols,\n",
    "          categorical_features=catcols,\n",
    "          target = targetcol,\n",
    "          custom_pipeline=preprocessor,\n",
    "          fold=10,fold_shuffle=False,\n",
    "#           high_cardinality_features=['user_id'],\n",
    "#           high_cardinality_method='frequency',\n",
    "#           preprocess=False,\n",
    "#           use_gpu=True,\n",
    "#           normalize=True,# normalize_method='minmax',\n",
    "          )"
   ]
  },
  {
   "cell_type": "code",
   "execution_count": 145,
   "metadata": {
    "execution": {
     "iopub.execute_input": "2022-02-11T09:59:41.765912Z",
     "iopub.status.busy": "2022-02-11T09:59:41.765530Z",
     "iopub.status.idle": "2022-02-11T09:59:41.781396Z",
     "shell.execute_reply": "2022-02-11T09:59:41.780310Z",
     "shell.execute_reply.started": "2022-02-11T09:59:41.765881Z"
    }
   },
   "outputs": [
    {
     "name": "stdout",
     "output_type": "stream",
     "text": [
      "7\n"
     ]
    },
    {
     "data": {
      "text/plain": [
       "Index(['category_id', 'video_id', 'age', 'profession', 'followers', 'views',\n",
       "       'gender_0'],\n",
       "      dtype='object')"
      ]
     },
     "execution_count": 145,
     "metadata": {},
     "output_type": "execute_result"
    }
   ],
   "source": [
    "X_train = get_config('X_train')\n",
    "print(len(X_train.columns))\n",
    "X_train.columns"
   ]
  },
  {
   "cell_type": "code",
   "execution_count": null,
   "metadata": {},
   "outputs": [],
   "source": [
    "# fold_gen=get_config('fold_generator')\n",
    "# fold_gen\n",
    "# X = get_config('X')\n",
    "# y = get_config('y')\n",
    "\n",
    "# for train_index, test_index in fold_gen.split(X):\n",
    "#      print(\"TRAIN:\", train_index, \"TEST:\", test_index)\n",
    "#      tr, val = train.iloc[train_index], train.iloc[test_index]\n",
    "#      print(val.shape)\n",
    "#      print(val['user_id'].nunique())\n",
    "#      print(val['video_id'].nunique())\n",
    "#      print(val['category_id'].nunique())\n",
    "#      y_tr, y_val = y[train_index], y[test_index]"
   ]
  },
  {
   "cell_type": "code",
   "execution_count": 203,
   "metadata": {
    "execution": {
     "iopub.execute_input": "2022-02-11T09:59:48.344707Z",
     "iopub.status.busy": "2022-02-11T09:59:48.344437Z",
     "iopub.status.idle": "2022-02-11T09:59:56.130516Z",
     "shell.execute_reply": "2022-02-11T09:59:56.129680Z",
     "shell.execute_reply.started": "2022-02-11T09:59:48.344679Z"
    }
   },
   "outputs": [
    {
     "data": {
      "text/html": [
       "<style type=\"text/css\">\n",
       "#T_ae27e_row10_col0, #T_ae27e_row10_col1, #T_ae27e_row10_col2, #T_ae27e_row10_col3, #T_ae27e_row10_col4, #T_ae27e_row10_col5 {\n",
       "  background: yellow;\n",
       "}\n",
       "</style>\n",
       "<table id=\"T_ae27e_\">\n",
       "  <thead>\n",
       "    <tr>\n",
       "      <th class=\"blank level0\" >&nbsp;</th>\n",
       "      <th class=\"col_heading level0 col0\" >MAE</th>\n",
       "      <th class=\"col_heading level0 col1\" >MSE</th>\n",
       "      <th class=\"col_heading level0 col2\" >RMSE</th>\n",
       "      <th class=\"col_heading level0 col3\" >R2</th>\n",
       "      <th class=\"col_heading level0 col4\" >RMSLE</th>\n",
       "      <th class=\"col_heading level0 col5\" >MAPE</th>\n",
       "    </tr>\n",
       "  </thead>\n",
       "  <tbody>\n",
       "    <tr>\n",
       "      <th id=\"T_ae27e_level0_row0\" class=\"row_heading level0 row0\" >0</th>\n",
       "      <td id=\"T_ae27e_row0_col0\" class=\"data row0 col0\" >0.5050</td>\n",
       "      <td id=\"T_ae27e_row0_col1\" class=\"data row0 col1\" >0.4740</td>\n",
       "      <td id=\"T_ae27e_row0_col2\" class=\"data row0 col2\" >0.6885</td>\n",
       "      <td id=\"T_ae27e_row0_col3\" class=\"data row0 col3\" >0.3920</td>\n",
       "      <td id=\"T_ae27e_row0_col4\" class=\"data row0 col4\" >0.1933</td>\n",
       "      <td id=\"T_ae27e_row0_col5\" class=\"data row0 col5\" >0.2429</td>\n",
       "    </tr>\n",
       "    <tr>\n",
       "      <th id=\"T_ae27e_level0_row1\" class=\"row_heading level0 row1\" >1</th>\n",
       "      <td id=\"T_ae27e_row1_col0\" class=\"data row1 col0\" >0.5061</td>\n",
       "      <td id=\"T_ae27e_row1_col1\" class=\"data row1 col1\" >0.4615</td>\n",
       "      <td id=\"T_ae27e_row1_col2\" class=\"data row1 col2\" >0.6793</td>\n",
       "      <td id=\"T_ae27e_row1_col3\" class=\"data row1 col3\" >0.3743</td>\n",
       "      <td id=\"T_ae27e_row1_col4\" class=\"data row1 col4\" >0.1836</td>\n",
       "      <td id=\"T_ae27e_row1_col5\" class=\"data row1 col5\" >0.2429</td>\n",
       "    </tr>\n",
       "    <tr>\n",
       "      <th id=\"T_ae27e_level0_row2\" class=\"row_heading level0 row2\" >2</th>\n",
       "      <td id=\"T_ae27e_row2_col0\" class=\"data row2 col0\" >0.5144</td>\n",
       "      <td id=\"T_ae27e_row2_col1\" class=\"data row2 col1\" >0.4864</td>\n",
       "      <td id=\"T_ae27e_row2_col2\" class=\"data row2 col2\" >0.6975</td>\n",
       "      <td id=\"T_ae27e_row2_col3\" class=\"data row2 col3\" >0.3691</td>\n",
       "      <td id=\"T_ae27e_row2_col4\" class=\"data row2 col4\" >0.1921</td>\n",
       "      <td id=\"T_ae27e_row2_col5\" class=\"data row2 col5\" >0.2821</td>\n",
       "    </tr>\n",
       "    <tr>\n",
       "      <th id=\"T_ae27e_level0_row3\" class=\"row_heading level0 row3\" >3</th>\n",
       "      <td id=\"T_ae27e_row3_col0\" class=\"data row3 col0\" >0.5082</td>\n",
       "      <td id=\"T_ae27e_row3_col1\" class=\"data row3 col1\" >0.4663</td>\n",
       "      <td id=\"T_ae27e_row3_col2\" class=\"data row3 col2\" >0.6828</td>\n",
       "      <td id=\"T_ae27e_row3_col3\" class=\"data row3 col3\" >0.3686</td>\n",
       "      <td id=\"T_ae27e_row3_col4\" class=\"data row3 col4\" >0.1859</td>\n",
       "      <td id=\"T_ae27e_row3_col5\" class=\"data row3 col5\" >0.2265</td>\n",
       "    </tr>\n",
       "    <tr>\n",
       "      <th id=\"T_ae27e_level0_row4\" class=\"row_heading level0 row4\" >4</th>\n",
       "      <td id=\"T_ae27e_row4_col0\" class=\"data row4 col0\" >0.5074</td>\n",
       "      <td id=\"T_ae27e_row4_col1\" class=\"data row4 col1\" >0.4721</td>\n",
       "      <td id=\"T_ae27e_row4_col2\" class=\"data row4 col2\" >0.6871</td>\n",
       "      <td id=\"T_ae27e_row4_col3\" class=\"data row4 col3\" >0.3773</td>\n",
       "      <td id=\"T_ae27e_row4_col4\" class=\"data row4 col4\" >0.1889</td>\n",
       "      <td id=\"T_ae27e_row4_col5\" class=\"data row4 col5\" >0.1977</td>\n",
       "    </tr>\n",
       "    <tr>\n",
       "      <th id=\"T_ae27e_level0_row5\" class=\"row_heading level0 row5\" >5</th>\n",
       "      <td id=\"T_ae27e_row5_col0\" class=\"data row5 col0\" >0.5126</td>\n",
       "      <td id=\"T_ae27e_row5_col1\" class=\"data row5 col1\" >0.4805</td>\n",
       "      <td id=\"T_ae27e_row5_col2\" class=\"data row5 col2\" >0.6932</td>\n",
       "      <td id=\"T_ae27e_row5_col3\" class=\"data row5 col3\" >0.3556</td>\n",
       "      <td id=\"T_ae27e_row5_col4\" class=\"data row5 col4\" >0.1873</td>\n",
       "      <td id=\"T_ae27e_row5_col5\" class=\"data row5 col5\" >0.2263</td>\n",
       "    </tr>\n",
       "    <tr>\n",
       "      <th id=\"T_ae27e_level0_row6\" class=\"row_heading level0 row6\" >6</th>\n",
       "      <td id=\"T_ae27e_row6_col0\" class=\"data row6 col0\" >0.5010</td>\n",
       "      <td id=\"T_ae27e_row6_col1\" class=\"data row6 col1\" >0.4524</td>\n",
       "      <td id=\"T_ae27e_row6_col2\" class=\"data row6 col2\" >0.6726</td>\n",
       "      <td id=\"T_ae27e_row6_col3\" class=\"data row6 col3\" >0.3805</td>\n",
       "      <td id=\"T_ae27e_row6_col4\" class=\"data row6 col4\" >0.1801</td>\n",
       "      <td id=\"T_ae27e_row6_col5\" class=\"data row6 col5\" >0.1922</td>\n",
       "    </tr>\n",
       "    <tr>\n",
       "      <th id=\"T_ae27e_level0_row7\" class=\"row_heading level0 row7\" >7</th>\n",
       "      <td id=\"T_ae27e_row7_col0\" class=\"data row7 col0\" >0.5071</td>\n",
       "      <td id=\"T_ae27e_row7_col1\" class=\"data row7 col1\" >0.4686</td>\n",
       "      <td id=\"T_ae27e_row7_col2\" class=\"data row7 col2\" >0.6845</td>\n",
       "      <td id=\"T_ae27e_row7_col3\" class=\"data row7 col3\" >0.3773</td>\n",
       "      <td id=\"T_ae27e_row7_col4\" class=\"data row7 col4\" >0.1869</td>\n",
       "      <td id=\"T_ae27e_row7_col5\" class=\"data row7 col5\" >0.2341</td>\n",
       "    </tr>\n",
       "    <tr>\n",
       "      <th id=\"T_ae27e_level0_row8\" class=\"row_heading level0 row8\" >8</th>\n",
       "      <td id=\"T_ae27e_row8_col0\" class=\"data row8 col0\" >0.4981</td>\n",
       "      <td id=\"T_ae27e_row8_col1\" class=\"data row8 col1\" >0.4487</td>\n",
       "      <td id=\"T_ae27e_row8_col2\" class=\"data row8 col2\" >0.6699</td>\n",
       "      <td id=\"T_ae27e_row8_col3\" class=\"data row8 col3\" >0.3801</td>\n",
       "      <td id=\"T_ae27e_row8_col4\" class=\"data row8 col4\" >0.1801</td>\n",
       "      <td id=\"T_ae27e_row8_col5\" class=\"data row8 col5\" >0.2387</td>\n",
       "    </tr>\n",
       "    <tr>\n",
       "      <th id=\"T_ae27e_level0_row9\" class=\"row_heading level0 row9\" >9</th>\n",
       "      <td id=\"T_ae27e_row9_col0\" class=\"data row9 col0\" >0.5076</td>\n",
       "      <td id=\"T_ae27e_row9_col1\" class=\"data row9 col1\" >0.4678</td>\n",
       "      <td id=\"T_ae27e_row9_col2\" class=\"data row9 col2\" >0.6839</td>\n",
       "      <td id=\"T_ae27e_row9_col3\" class=\"data row9 col3\" >0.3812</td>\n",
       "      <td id=\"T_ae27e_row9_col4\" class=\"data row9 col4\" >0.1886</td>\n",
       "      <td id=\"T_ae27e_row9_col5\" class=\"data row9 col5\" >0.2603</td>\n",
       "    </tr>\n",
       "    <tr>\n",
       "      <th id=\"T_ae27e_level0_row10\" class=\"row_heading level0 row10\" >Mean</th>\n",
       "      <td id=\"T_ae27e_row10_col0\" class=\"data row10 col0\" >0.5067</td>\n",
       "      <td id=\"T_ae27e_row10_col1\" class=\"data row10 col1\" >0.4678</td>\n",
       "      <td id=\"T_ae27e_row10_col2\" class=\"data row10 col2\" >0.6839</td>\n",
       "      <td id=\"T_ae27e_row10_col3\" class=\"data row10 col3\" >0.3756</td>\n",
       "      <td id=\"T_ae27e_row10_col4\" class=\"data row10 col4\" >0.1867</td>\n",
       "      <td id=\"T_ae27e_row10_col5\" class=\"data row10 col5\" >0.2344</td>\n",
       "    </tr>\n",
       "    <tr>\n",
       "      <th id=\"T_ae27e_level0_row11\" class=\"row_heading level0 row11\" >SD</th>\n",
       "      <td id=\"T_ae27e_row11_col0\" class=\"data row11 col0\" >0.0046</td>\n",
       "      <td id=\"T_ae27e_row11_col1\" class=\"data row11 col1\" >0.0110</td>\n",
       "      <td id=\"T_ae27e_row11_col2\" class=\"data row11 col2\" >0.0081</td>\n",
       "      <td id=\"T_ae27e_row11_col3\" class=\"data row11 col3\" >0.0092</td>\n",
       "      <td id=\"T_ae27e_row11_col4\" class=\"data row11 col4\" >0.0042</td>\n",
       "      <td id=\"T_ae27e_row11_col5\" class=\"data row11 col5\" >0.0252</td>\n",
       "    </tr>\n",
       "  </tbody>\n",
       "</table>\n"
      ],
      "text/plain": [
       "<pandas.io.formats.style.Styler at 0x7fce220ca790>"
      ]
     },
     "metadata": {},
     "output_type": "display_data"
    },
    {
     "name": "stdout",
     "output_type": "stream",
     "text": [
      "CPU times: user 2.57 s, sys: 212 ms, total: 2.78 s\n",
      "Wall time: 5.64 s\n"
     ]
    },
    {
     "data": {
      "text/plain": [
       "LGBMRegressor(boosting_type='gbdt', class_weight=None, colsample_bytree=1.0,\n",
       "              importance_type='split', learning_rate=0.1, max_depth=-1,\n",
       "              min_child_samples=20, min_child_weight=0.001, min_split_gain=0.0,\n",
       "              n_estimators=100, n_jobs=-1, num_leaves=31, objective=None,\n",
       "              random_state=100, reg_alpha=0.0, reg_lambda=0.0, silent='warn',\n",
       "              subsample=1.0, subsample_for_bin=200000, subsample_freq=0)"
      ]
     },
     "execution_count": 203,
     "metadata": {},
     "output_type": "execute_result"
    }
   ],
   "source": [
    "%%time\n",
    "lgbm = create_model('lightgbm')\n",
    "lgbm"
   ]
  },
  {
   "cell_type": "code",
   "execution_count": 204,
   "metadata": {},
   "outputs": [
    {
     "data": {
      "image/png": "[encoded data removed]",
      "text/plain": [
       "<Figure size 800x500 with 1 Axes>"
      ]
     },
     "metadata": {
      "needs_background": "light"
     },
     "output_type": "display_data"
    }
   ],
   "source": [
    "plot_model(lgbm,'feature')"
   ]
  },
  {
   "cell_type": "code",
   "execution_count": 205,
   "metadata": {
    "execution": {
     "iopub.execute_input": "2022-02-11T10:09:15.709201Z",
     "iopub.status.busy": "2022-02-11T10:09:15.708690Z",
     "iopub.status.idle": "2022-02-11T10:09:25.138798Z",
     "shell.execute_reply": "2022-02-11T10:09:25.137926Z",
     "shell.execute_reply.started": "2022-02-11T10:09:15.709155Z"
    }
   },
   "outputs": [
    {
     "name": "stdout",
     "output_type": "stream",
     "text": [
      "   row_id  user_id  category_id  video_id  age  gender  profession  followers  \\\n",
      "0   89198     7986           12        42   14       1           1        180   \n",
      "1   89199    11278           34       115   14       1           1        230   \n",
      "2   89200    17245            8       110   44       0           2        280   \n",
      "3   89201     9851           16       137   18       1           1        270   \n",
      "4   89202    16008           34        96   47       0           0        230   \n",
      "\n",
      "   views     Label  \n",
      "0    138  4.112984  \n",
      "1    840  4.053822  \n",
      "2    628  2.280464  \n",
      "3    462  2.774671  \n",
      "4    840  2.028275  \n",
      "CPU times: user 3.73 s, sys: 29 ms, total: 3.76 s\n",
      "Wall time: 3.17 s\n"
     ]
    }
   ],
   "source": [
    "%%time\n",
    "# predict_model(lgbm)\n",
    "final_model = finalize_model(lgbm)\n",
    "test_preds = predict_model(final_model, data=test)\n",
    "print(test_preds.head())"
   ]
  },
  {
   "cell_type": "code",
   "execution_count": 206,
   "metadata": {},
   "outputs": [
    {
     "name": "stdout",
     "output_type": "stream",
     "text": [
      "   row_id  user_id  category_id  video_id  age  gender  profession  followers  \\\n",
      "0       1    19990           37       128   24       1           1        180   \n",
      "1       2     5304           32       132   14       0           1        330   \n",
      "2       3     1840           12        24   19       1           1        180   \n",
      "3       4    12597           23       112   19       1           1        220   \n",
      "4       5    13626           23       112   27       1           2        220   \n",
      "\n",
      "   views  engagement_score     Label  \n",
      "0   1000              4.33  4.601303  \n",
      "1    714              1.79  2.944964  \n",
      "2    138              4.35  4.294389  \n",
      "3    613              3.77  3.526533  \n",
      "4    613              3.13  3.304621  \n",
      "0.6860737121862293\n",
      "CPU times: user 4.02 s, sys: 31 ms, total: 4.05 s\n",
      "Wall time: 3.22 s\n"
     ]
    }
   ],
   "source": [
    "%%time\n",
    "# predict_model(lgbm)\n",
    "final_model = finalize_model(lgbm)\n",
    "train_preds = predict_model(final_model, data=train)\n",
    "print(train_preds.head())\n",
    "print(r2_score(target,train_preds['Label']))"
   ]
  },
  {
   "cell_type": "code",
   "execution_count": 207,
   "metadata": {
    "execution": {
     "iopub.execute_input": "2022-02-11T10:09:51.206657Z",
     "iopub.status.busy": "2022-02-11T10:09:51.206359Z",
     "iopub.status.idle": "2022-02-11T10:09:51.212905Z",
     "shell.execute_reply": "2022-02-11T10:09:51.212077Z",
     "shell.execute_reply.started": "2022-02-11T10:09:51.206628Z"
    }
   },
   "outputs": [
    {
     "data": {
      "text/plain": [
       "LGBMRegressor(boosting_type='gbdt', class_weight=None, colsample_bytree=1.0,\n",
       "              importance_type='split', learning_rate=0.1, max_depth=-1,\n",
       "              min_child_samples=20, min_child_weight=0.001, min_split_gain=0.0,\n",
       "              n_estimators=100, n_jobs=-1, num_leaves=31, objective=None,\n",
       "              random_state=100, reg_alpha=0.0, reg_lambda=0.0, silent='warn',\n",
       "              subsample=1.0, subsample_for_bin=200000, subsample_freq=0)"
      ]
     },
     "execution_count": 207,
     "metadata": {},
     "output_type": "execute_result"
    }
   ],
   "source": [
    "lgbm"
   ]
  },
  {
   "cell_type": "code",
   "execution_count": 208,
   "metadata": {
    "execution": {
     "iopub.execute_input": "2022-02-11T10:10:19.533343Z",
     "iopub.status.busy": "2022-02-11T10:10:19.532348Z",
     "iopub.status.idle": "2022-02-11T10:10:19.879208Z",
     "shell.execute_reply": "2022-02-11T10:10:19.878149Z",
     "shell.execute_reply.started": "2022-02-11T10:10:19.533298Z"
    }
   },
   "outputs": [
    {
     "data": {
      "image/png": "[encoded data removed]",
      "text/plain": [
       "<Figure size 800x500 with 1 Axes>"
      ]
     },
     "metadata": {
      "needs_background": "light"
     },
     "output_type": "display_data"
    }
   ],
   "source": [
    "plot_model(lgbm,'feature')"
   ]
  },
  {
   "cell_type": "code",
   "execution_count": 209,
   "metadata": {
    "execution": {
     "iopub.execute_input": "2022-02-11T10:09:52.402418Z",
     "iopub.status.busy": "2022-02-11T10:09:52.402078Z",
     "iopub.status.idle": "2022-02-11T10:09:52.438367Z",
     "shell.execute_reply": "2022-02-11T10:09:52.437298Z",
     "shell.execute_reply.started": "2022-02-11T10:09:52.402384Z"
    }
   },
   "outputs": [],
   "source": [
    "submission = test_preds[['row_id','Label']]\n",
    "submission=submission.rename(columns={'Label':'engagement_score'})\n",
    "submission[['row_id','engagement_score']].to_csv('submission.csv',index=False)"
   ]
  },
  {
   "cell_type": "code",
   "execution_count": 210,
   "metadata": {
    "execution": {
     "iopub.execute_input": "2022-02-11T10:09:53.888767Z",
     "iopub.status.busy": "2022-02-11T10:09:53.888087Z",
     "iopub.status.idle": "2022-02-11T10:09:53.901750Z",
     "shell.execute_reply": "2022-02-11T10:09:53.900359Z",
     "shell.execute_reply.started": "2022-02-11T10:09:53.888715Z"
    }
   },
   "outputs": [],
   "source": [
    "test_sub = pd.read_csv('submission.csv')"
   ]
  },
  {
   "cell_type": "code",
   "execution_count": 211,
   "metadata": {
    "execution": {
     "iopub.execute_input": "2022-02-11T10:09:54.805678Z",
     "iopub.status.busy": "2022-02-11T10:09:54.805403Z",
     "iopub.status.idle": "2022-02-11T10:09:54.816282Z",
     "shell.execute_reply": "2022-02-11T10:09:54.815449Z",
     "shell.execute_reply.started": "2022-02-11T10:09:54.805651Z"
    }
   },
   "outputs": [
    {
     "name": "stdout",
     "output_type": "stream",
     "text": [
      "(11121, 2)\n"
     ]
    },
    {
     "data": {
      "text/html": [
       "<div>\n",
       "<style scoped>\n",
       "    .dataframe tbody tr th:only-of-type {\n",
       "        vertical-align: middle;\n",
       "    }\n",
       "\n",
       "    .dataframe tbody tr th {\n",
       "        vertical-align: top;\n",
       "    }\n",
       "\n",
       "    .dataframe thead th {\n",
       "        text-align: right;\n",
       "    }\n",
       "</style>\n",
       "<table border=\"1\" class=\"dataframe\">\n",
       "  <thead>\n",
       "    <tr style=\"text-align: right;\">\n",
       "      <th></th>\n",
       "      <th>row_id</th>\n",
       "      <th>engagement_score</th>\n",
       "    </tr>\n",
       "  </thead>\n",
       "  <tbody>\n",
       "    <tr>\n",
       "      <th>0</th>\n",
       "      <td>89198</td>\n",
       "      <td>4.112984</td>\n",
       "    </tr>\n",
       "    <tr>\n",
       "      <th>1</th>\n",
       "      <td>89199</td>\n",
       "      <td>4.053822</td>\n",
       "    </tr>\n",
       "    <tr>\n",
       "      <th>2</th>\n",
       "      <td>89200</td>\n",
       "      <td>2.280464</td>\n",
       "    </tr>\n",
       "    <tr>\n",
       "      <th>3</th>\n",
       "      <td>89201</td>\n",
       "      <td>2.774671</td>\n",
       "    </tr>\n",
       "    <tr>\n",
       "      <th>4</th>\n",
       "      <td>89202</td>\n",
       "      <td>2.028275</td>\n",
       "    </tr>\n",
       "  </tbody>\n",
       "</table>\n",
       "</div>"
      ],
      "text/plain": [
       "   row_id  engagement_score\n",
       "0   89198          4.112984\n",
       "1   89199          4.053822\n",
       "2   89200          2.280464\n",
       "3   89201          2.774671\n",
       "4   89202          2.028275"
      ]
     },
     "execution_count": 211,
     "metadata": {},
     "output_type": "execute_result"
    }
   ],
   "source": [
    "print(test_sub.shape)\n",
    "test_sub.head()"
   ]
  },
  {
   "cell_type": "code",
   "execution_count": null,
   "metadata": {},
   "outputs": [],
   "source": []
  }
 ],
 "metadata": {
  "kernelspec": {
   "display_name": "Python 3 (ipykernel)",
   "language": "python",
   "name": "python3"
  },
  "language_info": {
   "codemirror_mode": {
    "name": "ipython",
    "version": 3
   },
   "file_extension": ".py",
   "mimetype": "text/x-python",
   "name": "python",
   "nbconvert_exporter": "python",
   "pygments_lexer": "ipython3",
   "version": "3.7.12"
  }
 },
 "nbformat": 4,
 "nbformat_minor": 4
}
