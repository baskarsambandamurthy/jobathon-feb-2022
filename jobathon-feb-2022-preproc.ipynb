{
 "cells": [
  {
   "cell_type": "code",
   "execution_count": 1,
   "metadata": {
    "_cell_guid": "b1076dfc-b9ad-4769-8c92-a6c4dae69d19",
    "_uuid": "8f2839f25d086af736a60e9eeb907d3b93b6e0e5",
    "execution": {
     "iopub.execute_input": "2022-02-11T09:58:03.569948Z",
     "iopub.status.busy": "2022-02-11T09:58:03.569612Z",
     "iopub.status.idle": "2022-02-11T09:58:03.601945Z",
     "shell.execute_reply": "2022-02-11T09:58:03.600868Z",
     "shell.execute_reply.started": "2022-02-11T09:58:03.569861Z"
    }
   },
   "outputs": [],
   "source": [
    "import numpy as np \n",
    "import pandas as pd \n",
    "\n",
    "import os\n",
    "for dirname, _, filenames in os.walk('/kaggle/input'):\n",
    "    for filename in filenames:\n",
    "        print(os.path.join(dirname, filename))\n"
   ]
  },
  {
   "cell_type": "code",
   "execution_count": 2,
   "metadata": {
    "execution": {
     "iopub.execute_input": "2022-02-11T09:58:03.604482Z",
     "iopub.status.busy": "2022-02-11T09:58:03.603618Z",
     "iopub.status.idle": "2022-02-11T09:58:03.609249Z",
     "shell.execute_reply": "2022-02-11T09:58:03.608376Z",
     "shell.execute_reply.started": "2022-02-11T09:58:03.604432Z"
    }
   },
   "outputs": [],
   "source": [
    "pd.options.display.max_columns = 500\n",
    "pd.options.display.max_rows = 500"
   ]
  },
  {
   "cell_type": "markdown",
   "metadata": {},
   "source": [
    "**Pycaret package Installation** <br>\n",
    "\n",
    "This module uses pycaret package for model training, evaluation and predictions . So the pycaret package need to be installed separately.<br>\n",
    "\n",
    "<u>Pycaret references:</u>\n",
    "\n",
    "Click the link(s) to view pycaret references\n",
    "\n",
    "<a  href='https://pycaret.gitbook.io/docs/get-started/tutorials'>Pycaret Tutorial</a> <br>\n",
    "<a  href='https://pycaret.readthedocs.io/en/latest/api/regression.html'>Pycaret Regression API</a>"
   ]
  },
  {
   "cell_type": "code",
   "execution_count": 3,
   "metadata": {
    "execution": {
     "iopub.execute_input": "2022-02-11T09:58:03.611481Z",
     "iopub.status.busy": "2022-02-11T09:58:03.610825Z",
     "iopub.status.idle": "2022-02-11T09:58:51.958070Z",
     "shell.execute_reply": "2022-02-11T09:58:51.956945Z",
     "shell.execute_reply.started": "2022-02-11T09:58:03.611436Z"
    }
   },
   "outputs": [
    {
     "name": "stdout",
     "output_type": "stream",
     "text": [
      "Collecting pycaret\n",
      "  Downloading pycaret-2.3.6-py3-none-any.whl (301 kB)\n",
      "     |████████████████████████████████| 301 kB 18.7 MB/s            \n",
      "\u001b[?25hCollecting gensim<4.0.0\n",
      "  Downloading gensim-3.8.3-cp37-cp37m-manylinux1_x86_64.whl (24.2 MB)\n",
      "     |████████████████████████████████| 24.2 MB 23.1 MB/s            \n",
      "\u001b[?25hRequirement already satisfied: yellowbrick>=1.0.1 in /opt/conda/lib/python3.7/site-packages (from pycaret) (1.3.post1)\n",
      "Requirement already satisfied: textblob in /opt/conda/lib/python3.7/site-packages (from pycaret) (0.17.1)\n",
      "Requirement already satisfied: pyLDAvis in /opt/conda/lib/python3.7/site-packages (from pycaret) (3.2.2)\n",
      "Requirement already satisfied: mlxtend>=0.17.0 in /opt/conda/lib/python3.7/site-packages (from pycaret) (0.19.0)\n",
      "Requirement already satisfied: Boruta in /opt/conda/lib/python3.7/site-packages (from pycaret) (0.3)\n",
      "Collecting pyyaml<6.0.0\n",
      "  Downloading PyYAML-5.4.1-cp37-cp37m-manylinux1_x86_64.whl (636 kB)\n",
      "     |████████████████████████████████| 636 kB 42.7 MB/s            \n",
      "\u001b[?25hCollecting scipy<=1.5.4\n",
      "  Downloading scipy-1.5.4-cp37-cp37m-manylinux1_x86_64.whl (25.9 MB)\n",
      "     |████████████████████████████████| 25.9 MB 21.3 MB/s            \n",
      "\u001b[?25hRequirement already satisfied: pandas-profiling>=2.8.0 in /opt/conda/lib/python3.7/site-packages (from pycaret) (3.0.0)\n",
      "Requirement already satisfied: plotly>=4.4.1 in /opt/conda/lib/python3.7/site-packages (from pycaret) (5.5.0)\n",
      "Requirement already satisfied: cufflinks>=0.17.0 in /opt/conda/lib/python3.7/site-packages (from pycaret) (0.17.3)\n",
      "Requirement already satisfied: nltk in /opt/conda/lib/python3.7/site-packages (from pycaret) (3.2.4)\n",
      "Requirement already satisfied: umap-learn in /opt/conda/lib/python3.7/site-packages (from pycaret) (0.5.2)\n",
      "Requirement already satisfied: wordcloud in /opt/conda/lib/python3.7/site-packages (from pycaret) (1.8.1)\n",
      "Collecting pyod\n",
      "  Downloading pyod-0.9.7.tar.gz (114 kB)\n",
      "     |████████████████████████████████| 114 kB 39.2 MB/s            \n",
      "\u001b[?25h  Preparing metadata (setup.py) ... \u001b[?25ldone\n",
      "\u001b[?25hRequirement already satisfied: scikit-plot in /opt/conda/lib/python3.7/site-packages (from pycaret) (0.3.7)\n",
      "Requirement already satisfied: lightgbm>=2.3.1 in /opt/conda/lib/python3.7/site-packages (from pycaret) (3.3.1)\n",
      "Requirement already satisfied: IPython in /opt/conda/lib/python3.7/site-packages (from pycaret) (7.30.1)\n",
      "Requirement already satisfied: seaborn in /opt/conda/lib/python3.7/site-packages (from pycaret) (0.11.2)\n",
      "Requirement already satisfied: joblib in /opt/conda/lib/python3.7/site-packages (from pycaret) (1.1.0)\n",
      "Collecting spacy<2.4.0\n",
      "  Downloading spacy-2.3.7-cp37-cp37m-manylinux_2_17_x86_64.manylinux2014_x86_64.whl (10.4 MB)\n",
      "     |████████████████████████████████| 10.4 MB 22.6 MB/s            \n",
      "\u001b[?25hCollecting imbalanced-learn==0.7.0\n",
      "  Downloading imbalanced_learn-0.7.0-py3-none-any.whl (167 kB)\n",
      "     |████████████████████████████████| 167 kB 39.1 MB/s            \n",
      "\u001b[?25hRequirement already satisfied: matplotlib in /opt/conda/lib/python3.7/site-packages (from pycaret) (3.5.1)\n",
      "Requirement already satisfied: ipywidgets in /opt/conda/lib/python3.7/site-packages (from pycaret) (7.6.5)\n",
      "Requirement already satisfied: kmodes>=0.10.1 in /opt/conda/lib/python3.7/site-packages (from pycaret) (0.11.1)\n",
      "Requirement already satisfied: scikit-learn==0.23.2 in /opt/conda/lib/python3.7/site-packages (from pycaret) (0.23.2)\n",
      "Requirement already satisfied: pandas in /opt/conda/lib/python3.7/site-packages (from pycaret) (1.3.5)\n",
      "Collecting mlflow\n",
      "  Downloading mlflow-1.23.1-py3-none-any.whl (15.6 MB)\n",
      "     |████████████████████████████████| 15.6 MB 41.7 MB/s            \n",
      "\u001b[?25hRequirement already satisfied: numpy>=1.13.3 in /opt/conda/lib/python3.7/site-packages (from imbalanced-learn==0.7.0->pycaret) (1.20.3)\n",
      "Requirement already satisfied: threadpoolctl>=2.0.0 in /opt/conda/lib/python3.7/site-packages (from scikit-learn==0.23.2->pycaret) (3.0.0)\n",
      "Requirement already satisfied: setuptools>=34.4.1 in /opt/conda/lib/python3.7/site-packages (from cufflinks>=0.17.0->pycaret) (59.5.0)\n",
      "Requirement already satisfied: colorlover>=0.2.1 in /opt/conda/lib/python3.7/site-packages (from cufflinks>=0.17.0->pycaret) (0.3.0)\n",
      "Requirement already satisfied: six>=1.9.0 in /opt/conda/lib/python3.7/site-packages (from cufflinks>=0.17.0->pycaret) (1.16.0)\n",
      "Requirement already satisfied: smart-open>=1.8.1 in /opt/conda/lib/python3.7/site-packages (from gensim<4.0.0->pycaret) (5.2.1)\n",
      "Requirement already satisfied: jedi>=0.16 in /opt/conda/lib/python3.7/site-packages (from IPython->pycaret) (0.18.1)\n",
      "Requirement already satisfied: pygments in /opt/conda/lib/python3.7/site-packages (from IPython->pycaret) (2.10.0)\n",
      "Requirement already satisfied: prompt-toolkit!=3.0.0,!=3.0.1,<3.1.0,>=2.0.0 in /opt/conda/lib/python3.7/site-packages (from IPython->pycaret) (3.0.24)\n",
      "Requirement already satisfied: traitlets>=4.2 in /opt/conda/lib/python3.7/site-packages (from IPython->pycaret) (5.1.1)\n",
      "Requirement already satisfied: pickleshare in /opt/conda/lib/python3.7/site-packages (from IPython->pycaret) (0.7.5)\n",
      "Requirement already satisfied: backcall in /opt/conda/lib/python3.7/site-packages (from IPython->pycaret) (0.2.0)\n",
      "Requirement already satisfied: decorator in /opt/conda/lib/python3.7/site-packages (from IPython->pycaret) (5.1.0)\n",
      "Requirement already satisfied: matplotlib-inline in /opt/conda/lib/python3.7/site-packages (from IPython->pycaret) (0.1.3)\n",
      "Requirement already satisfied: pexpect>4.3 in /opt/conda/lib/python3.7/site-packages (from IPython->pycaret) (4.8.0)\n",
      "Requirement already satisfied: ipython-genutils~=0.2.0 in /opt/conda/lib/python3.7/site-packages (from ipywidgets->pycaret) (0.2.0)\n",
      "Requirement already satisfied: jupyterlab-widgets>=1.0.0 in /opt/conda/lib/python3.7/site-packages (from ipywidgets->pycaret) (1.0.2)\n",
      "Requirement already satisfied: nbformat>=4.2.0 in /opt/conda/lib/python3.7/site-packages (from ipywidgets->pycaret) (5.1.3)\n",
      "Requirement already satisfied: ipykernel>=4.5.1 in /opt/conda/lib/python3.7/site-packages (from ipywidgets->pycaret) (6.6.0)\n",
      "Requirement already satisfied: widgetsnbextension~=3.5.0 in /opt/conda/lib/python3.7/site-packages (from ipywidgets->pycaret) (3.5.2)\n",
      "Requirement already satisfied: wheel in /opt/conda/lib/python3.7/site-packages (from lightgbm>=2.3.1->pycaret) (0.37.0)\n",
      "Requirement already satisfied: pillow>=6.2.0 in /opt/conda/lib/python3.7/site-packages (from matplotlib->pycaret) (8.2.0)\n",
      "Requirement already satisfied: cycler>=0.10 in /opt/conda/lib/python3.7/site-packages (from matplotlib->pycaret) (0.11.0)\n",
      "Requirement already satisfied: fonttools>=4.22.0 in /opt/conda/lib/python3.7/site-packages (from matplotlib->pycaret) (4.28.4)\n",
      "Requirement already satisfied: python-dateutil>=2.7 in /opt/conda/lib/python3.7/site-packages (from matplotlib->pycaret) (2.8.2)\n",
      "Requirement already satisfied: pyparsing>=2.2.1 in /opt/conda/lib/python3.7/site-packages (from matplotlib->pycaret) (3.0.6)\n",
      "Requirement already satisfied: packaging>=20.0 in /opt/conda/lib/python3.7/site-packages (from matplotlib->pycaret) (21.3)\n",
      "Requirement already satisfied: kiwisolver>=1.0.1 in /opt/conda/lib/python3.7/site-packages (from matplotlib->pycaret) (1.3.2)\n",
      "Requirement already satisfied: pytz>=2017.3 in /opt/conda/lib/python3.7/site-packages (from pandas->pycaret) (2021.3)\n",
      "Requirement already satisfied: requests>=2.24.0 in /opt/conda/lib/python3.7/site-packages (from pandas-profiling>=2.8.0->pycaret) (2.26.0)\n",
      "Requirement already satisfied: tqdm>=4.48.2 in /opt/conda/lib/python3.7/site-packages (from pandas-profiling>=2.8.0->pycaret) (4.62.3)\n",
      "Requirement already satisfied: phik>=0.11.1 in /opt/conda/lib/python3.7/site-packages (from pandas-profiling>=2.8.0->pycaret) (0.12.0)\n",
      "Requirement already satisfied: jinja2>=2.11.1 in /opt/conda/lib/python3.7/site-packages (from pandas-profiling>=2.8.0->pycaret) (3.0.3)\n",
      "Requirement already satisfied: pydantic>=1.8.1 in /opt/conda/lib/python3.7/site-packages (from pandas-profiling>=2.8.0->pycaret) (1.8.2)\n",
      "Requirement already satisfied: tangled-up-in-unicode==0.1.0 in /opt/conda/lib/python3.7/site-packages (from pandas-profiling>=2.8.0->pycaret) (0.1.0)\n",
      "Requirement already satisfied: visions[type_image_path]==0.7.1 in /opt/conda/lib/python3.7/site-packages (from pandas-profiling>=2.8.0->pycaret) (0.7.1)\n",
      "Requirement already satisfied: missingno>=0.4.2 in /opt/conda/lib/python3.7/site-packages (from pandas-profiling>=2.8.0->pycaret) (0.4.2)\n",
      "Requirement already satisfied: htmlmin>=0.1.12 in /opt/conda/lib/python3.7/site-packages (from pandas-profiling>=2.8.0->pycaret) (0.1.12)\n",
      "Requirement already satisfied: bottleneck in /opt/conda/lib/python3.7/site-packages (from visions[type_image_path]==0.7.1->pandas-profiling>=2.8.0->pycaret) (1.3.2)\n",
      "Requirement already satisfied: attrs>=19.3.0 in /opt/conda/lib/python3.7/site-packages (from visions[type_image_path]==0.7.1->pandas-profiling>=2.8.0->pycaret) (21.2.0)\n",
      "Requirement already satisfied: multimethod==1.4 in /opt/conda/lib/python3.7/site-packages (from visions[type_image_path]==0.7.1->pandas-profiling>=2.8.0->pycaret) (1.4)\n",
      "Requirement already satisfied: networkx>=2.4 in /opt/conda/lib/python3.7/site-packages (from visions[type_image_path]==0.7.1->pandas-profiling>=2.8.0->pycaret) (2.6.3)\n",
      "Requirement already satisfied: imagehash in /opt/conda/lib/python3.7/site-packages (from visions[type_image_path]==0.7.1->pandas-profiling>=2.8.0->pycaret) (4.2.1)\n",
      "Requirement already satisfied: tenacity>=6.2.0 in /opt/conda/lib/python3.7/site-packages (from plotly>=4.4.1->pycaret) (8.0.1)\n",
      "Requirement already satisfied: murmurhash<1.1.0,>=0.28.0 in /opt/conda/lib/python3.7/site-packages (from spacy<2.4.0->pycaret) (1.0.6)\n",
      "Collecting srsly<1.1.0,>=1.0.2\n",
      "  Downloading srsly-1.0.5-cp37-cp37m-manylinux2014_x86_64.whl (184 kB)\n",
      "     |████████████████████████████████| 184 kB 37.9 MB/s            \n",
      "\u001b[?25hRequirement already satisfied: cymem<2.1.0,>=2.0.2 in /opt/conda/lib/python3.7/site-packages (from spacy<2.4.0->pycaret) (2.0.6)\n",
      "Collecting thinc<7.5.0,>=7.4.1\n",
      "  Downloading thinc-7.4.5-cp37-cp37m-manylinux2014_x86_64.whl (1.0 MB)\n",
      "     |████████████████████████████████| 1.0 MB 33.0 MB/s            \n",
      "\u001b[?25hRequirement already satisfied: wasabi<1.1.0,>=0.4.0 in /opt/conda/lib/python3.7/site-packages (from spacy<2.4.0->pycaret) (0.9.0)\n",
      "Collecting catalogue<1.1.0,>=0.0.7\n",
      "  Downloading catalogue-1.0.0-py2.py3-none-any.whl (7.7 kB)\n",
      "Requirement already satisfied: preshed<3.1.0,>=3.0.2 in /opt/conda/lib/python3.7/site-packages (from spacy<2.4.0->pycaret) (3.0.6)\n",
      "Collecting plac<1.2.0,>=0.9.6\n",
      "  Downloading plac-1.1.3-py2.py3-none-any.whl (20 kB)\n",
      "Requirement already satisfied: blis<0.8.0,>=0.4.0 in /opt/conda/lib/python3.7/site-packages (from spacy<2.4.0->pycaret) (0.7.5)\n",
      "Collecting numpy>=1.13.3\n",
      "  Downloading numpy-1.19.5-cp37-cp37m-manylinux2010_x86_64.whl (14.8 MB)\n",
      "     |████████████████████████████████| 14.8 MB 19.4 MB/s            \n",
      "\u001b[?25hRequirement already satisfied: entrypoints in /opt/conda/lib/python3.7/site-packages (from mlflow->pycaret) (0.3)\n",
      "Collecting databricks-cli>=0.8.7\n",
      "  Downloading databricks-cli-0.16.4.tar.gz (58 kB)\n",
      "     |████████████████████████████████| 58 kB 7.2 MB/s             \n",
      "\u001b[?25h  Preparing metadata (setup.py) ... \u001b[?25ldone\n",
      "\u001b[?25hRequirement already satisfied: sqlparse>=0.3.1 in /opt/conda/lib/python3.7/site-packages (from mlflow->pycaret) (0.4.2)\n",
      "Collecting gunicorn\n",
      "  Downloading gunicorn-20.1.0-py3-none-any.whl (79 kB)\n",
      "     |████████████████████████████████| 79 kB 11.6 MB/s            \n",
      "\u001b[?25hRequirement already satisfied: click>=7.0 in /opt/conda/lib/python3.7/site-packages (from mlflow->pycaret) (8.0.3)\n",
      "Requirement already satisfied: docker>=4.0.0 in /opt/conda/lib/python3.7/site-packages (from mlflow->pycaret) (5.0.3)\n",
      "Requirement already satisfied: protobuf>=3.7.0 in /opt/conda/lib/python3.7/site-packages (from mlflow->pycaret) (3.19.1)\n",
      "Requirement already satisfied: gitpython>=2.1.0 in /opt/conda/lib/python3.7/site-packages (from mlflow->pycaret) (3.1.24)\n",
      "Requirement already satisfied: importlib-metadata!=4.7.0,>=3.7.0 in /opt/conda/lib/python3.7/site-packages (from mlflow->pycaret) (4.10.1)\n",
      "Requirement already satisfied: Flask in /opt/conda/lib/python3.7/site-packages (from mlflow->pycaret) (2.0.2)\n",
      "Collecting prometheus-flask-exporter\n",
      "  Downloading prometheus_flask_exporter-0.18.7-py3-none-any.whl (17 kB)\n",
      "Requirement already satisfied: sqlalchemy in /opt/conda/lib/python3.7/site-packages (from mlflow->pycaret) (1.4.28)\n",
      "Collecting querystring-parser\n",
      "  Downloading querystring_parser-1.2.4-py2.py3-none-any.whl (7.9 kB)\n",
      "Requirement already satisfied: cloudpickle in /opt/conda/lib/python3.7/site-packages (from mlflow->pycaret) (2.0.0)\n",
      "Requirement already satisfied: alembic in /opt/conda/lib/python3.7/site-packages (from mlflow->pycaret) (1.7.6)\n",
      "Requirement already satisfied: future in /opt/conda/lib/python3.7/site-packages (from pyLDAvis->pycaret) (0.18.2)\n",
      "Requirement already satisfied: funcy in /opt/conda/lib/python3.7/site-packages (from pyLDAvis->pycaret) (1.17)\n",
      "Requirement already satisfied: numexpr in /opt/conda/lib/python3.7/site-packages (from pyLDAvis->pycaret) (2.8.1)\n",
      "Requirement already satisfied: numba>=0.35 in /opt/conda/lib/python3.7/site-packages (from pyod->pycaret) (0.54.1)\n",
      "Requirement already satisfied: statsmodels in /opt/conda/lib/python3.7/site-packages (from pyod->pycaret) (0.13.1)\n",
      "Requirement already satisfied: pynndescent>=0.5 in /opt/conda/lib/python3.7/site-packages (from umap-learn->pycaret) (0.5.6)\n",
      "Requirement already satisfied: tabulate>=0.7.7 in /opt/conda/lib/python3.7/site-packages (from databricks-cli>=0.8.7->mlflow->pycaret) (0.8.9)\n",
      "Requirement already satisfied: websocket-client>=0.32.0 in /opt/conda/lib/python3.7/site-packages (from docker>=4.0.0->mlflow->pycaret) (1.2.3)\n",
      "Requirement already satisfied: typing-extensions>=3.7.4.3 in /opt/conda/lib/python3.7/site-packages (from gitpython>=2.1.0->mlflow->pycaret) (4.0.1)\n",
      "Requirement already satisfied: gitdb<5,>=4.0.1 in /opt/conda/lib/python3.7/site-packages (from gitpython>=2.1.0->mlflow->pycaret) (4.0.9)\n",
      "Requirement already satisfied: zipp>=0.5 in /opt/conda/lib/python3.7/site-packages (from importlib-metadata!=4.7.0,>=3.7.0->mlflow->pycaret) (3.6.0)\n",
      "Requirement already satisfied: jupyter-client<8.0 in /opt/conda/lib/python3.7/site-packages (from ipykernel>=4.5.1->ipywidgets->pycaret) (7.1.0)\n",
      "Requirement already satisfied: tornado<7.0,>=4.2 in /opt/conda/lib/python3.7/site-packages (from ipykernel>=4.5.1->ipywidgets->pycaret) (6.1)\n",
      "Requirement already satisfied: debugpy<2.0,>=1.0.0 in /opt/conda/lib/python3.7/site-packages (from ipykernel>=4.5.1->ipywidgets->pycaret) (1.5.1)\n",
      "Requirement already satisfied: argcomplete>=1.12.3 in /opt/conda/lib/python3.7/site-packages (from ipykernel>=4.5.1->ipywidgets->pycaret) (1.12.3)\n",
      "Requirement already satisfied: parso<0.9.0,>=0.8.0 in /opt/conda/lib/python3.7/site-packages (from jedi>=0.16->IPython->pycaret) (0.8.3)\n",
      "Requirement already satisfied: MarkupSafe>=2.0 in /opt/conda/lib/python3.7/site-packages (from jinja2>=2.11.1->pandas-profiling>=2.8.0->pycaret) (2.0.1)\n",
      "Requirement already satisfied: jupyter-core in /opt/conda/lib/python3.7/site-packages (from nbformat>=4.2.0->ipywidgets->pycaret) (4.9.1)\n",
      "Requirement already satisfied: jsonschema!=2.5.0,>=2.4 in /opt/conda/lib/python3.7/site-packages (from nbformat>=4.2.0->ipywidgets->pycaret) (4.3.1)\n",
      "Requirement already satisfied: llvmlite<0.38,>=0.37.0rc1 in /opt/conda/lib/python3.7/site-packages (from numba>=0.35->pyod->pycaret) (0.37.0)\n",
      "Requirement already satisfied: ptyprocess>=0.5 in /opt/conda/lib/python3.7/site-packages (from pexpect>4.3->IPython->pycaret) (0.7.0)\n",
      "Requirement already satisfied: wcwidth in /opt/conda/lib/python3.7/site-packages (from prompt-toolkit!=3.0.0,!=3.0.1,<3.1.0,>=2.0.0->IPython->pycaret) (0.2.5)\n",
      "Requirement already satisfied: idna<4,>=2.5 in /opt/conda/lib/python3.7/site-packages (from requests>=2.24.0->pandas-profiling>=2.8.0->pycaret) (3.1)\n",
      "Requirement already satisfied: urllib3<1.27,>=1.21.1 in /opt/conda/lib/python3.7/site-packages (from requests>=2.24.0->pandas-profiling>=2.8.0->pycaret) (1.26.7)\n",
      "Requirement already satisfied: charset-normalizer~=2.0.0 in /opt/conda/lib/python3.7/site-packages (from requests>=2.24.0->pandas-profiling>=2.8.0->pycaret) (2.0.9)\n",
      "Requirement already satisfied: certifi>=2017.4.17 in /opt/conda/lib/python3.7/site-packages (from requests>=2.24.0->pandas-profiling>=2.8.0->pycaret) (2021.10.8)\n",
      "Requirement already satisfied: notebook>=4.4.1 in /opt/conda/lib/python3.7/site-packages (from widgetsnbextension~=3.5.0->ipywidgets->pycaret) (6.4.6)\n",
      "Requirement already satisfied: importlib-resources in /opt/conda/lib/python3.7/site-packages (from alembic->mlflow->pycaret) (5.4.0)\n",
      "Requirement already satisfied: Mako in /opt/conda/lib/python3.7/site-packages (from alembic->mlflow->pycaret) (1.1.6)\n",
      "Requirement already satisfied: greenlet!=0.4.17 in /opt/conda/lib/python3.7/site-packages (from sqlalchemy->mlflow->pycaret) (1.1.2)\n",
      "Requirement already satisfied: itsdangerous>=2.0 in /opt/conda/lib/python3.7/site-packages (from Flask->mlflow->pycaret) (2.0.1)\n",
      "Requirement already satisfied: Werkzeug>=2.0 in /opt/conda/lib/python3.7/site-packages (from Flask->mlflow->pycaret) (2.0.2)\n",
      "Requirement already satisfied: prometheus-client in /opt/conda/lib/python3.7/site-packages (from prometheus-flask-exporter->mlflow->pycaret) (0.12.0)\n",
      "Requirement already satisfied: patsy>=0.5.2 in /opt/conda/lib/python3.7/site-packages (from statsmodels->pyod->pycaret) (0.5.2)\n",
      "Requirement already satisfied: smmap<6,>=3.0.1 in /opt/conda/lib/python3.7/site-packages (from gitdb<5,>=4.0.1->gitpython>=2.1.0->mlflow->pycaret) (3.0.5)\n",
      "Requirement already satisfied: pyrsistent!=0.17.0,!=0.17.1,!=0.17.2,>=0.14.0 in /opt/conda/lib/python3.7/site-packages (from jsonschema!=2.5.0,>=2.4->nbformat>=4.2.0->ipywidgets->pycaret) (0.18.0)\n",
      "Requirement already satisfied: nest-asyncio>=1.5 in /opt/conda/lib/python3.7/site-packages (from jupyter-client<8.0->ipykernel>=4.5.1->ipywidgets->pycaret) (1.5.4)\n",
      "Requirement already satisfied: pyzmq>=13 in /opt/conda/lib/python3.7/site-packages (from jupyter-client<8.0->ipykernel>=4.5.1->ipywidgets->pycaret) (22.3.0)\n",
      "Requirement already satisfied: Send2Trash>=1.8.0 in /opt/conda/lib/python3.7/site-packages (from notebook>=4.4.1->widgetsnbextension~=3.5.0->ipywidgets->pycaret) (1.8.0)\n",
      "Requirement already satisfied: terminado>=0.8.3 in /opt/conda/lib/python3.7/site-packages (from notebook>=4.4.1->widgetsnbextension~=3.5.0->ipywidgets->pycaret) (0.12.1)\n",
      "Requirement already satisfied: argon2-cffi in /opt/conda/lib/python3.7/site-packages (from notebook>=4.4.1->widgetsnbextension~=3.5.0->ipywidgets->pycaret) (21.1.0)\n",
      "Requirement already satisfied: nbconvert in /opt/conda/lib/python3.7/site-packages (from notebook>=4.4.1->widgetsnbextension~=3.5.0->ipywidgets->pycaret) (6.3.0)\n",
      "Requirement already satisfied: PyWavelets in /opt/conda/lib/python3.7/site-packages (from imagehash->visions[type_image_path]==0.7.1->pandas-profiling>=2.8.0->pycaret) (1.2.0)\n",
      "Requirement already satisfied: cffi>=1.0.0 in /opt/conda/lib/python3.7/site-packages (from argon2-cffi->notebook>=4.4.1->widgetsnbextension~=3.5.0->ipywidgets->pycaret) (1.15.0)\n",
      "Requirement already satisfied: defusedxml in /opt/conda/lib/python3.7/site-packages (from nbconvert->notebook>=4.4.1->widgetsnbextension~=3.5.0->ipywidgets->pycaret) (0.7.1)\n",
      "Requirement already satisfied: testpath in /opt/conda/lib/python3.7/site-packages (from nbconvert->notebook>=4.4.1->widgetsnbextension~=3.5.0->ipywidgets->pycaret) (0.5.0)\n",
      "Requirement already satisfied: jupyterlab-pygments in /opt/conda/lib/python3.7/site-packages (from nbconvert->notebook>=4.4.1->widgetsnbextension~=3.5.0->ipywidgets->pycaret) (0.1.2)\n",
      "Requirement already satisfied: nbclient<0.6.0,>=0.5.0 in /opt/conda/lib/python3.7/site-packages (from nbconvert->notebook>=4.4.1->widgetsnbextension~=3.5.0->ipywidgets->pycaret) (0.5.9)\n",
      "Requirement already satisfied: bleach in /opt/conda/lib/python3.7/site-packages (from nbconvert->notebook>=4.4.1->widgetsnbextension~=3.5.0->ipywidgets->pycaret) (4.1.0)\n",
      "Requirement already satisfied: pandocfilters>=1.4.1 in /opt/conda/lib/python3.7/site-packages (from nbconvert->notebook>=4.4.1->widgetsnbextension~=3.5.0->ipywidgets->pycaret) (1.5.0)\n",
      "Requirement already satisfied: mistune<2,>=0.8.1 in /opt/conda/lib/python3.7/site-packages (from nbconvert->notebook>=4.4.1->widgetsnbextension~=3.5.0->ipywidgets->pycaret) (0.8.4)\n",
      "Requirement already satisfied: pycparser in /opt/conda/lib/python3.7/site-packages (from cffi>=1.0.0->argon2-cffi->notebook>=4.4.1->widgetsnbextension~=3.5.0->ipywidgets->pycaret) (2.21)\n",
      "Requirement already satisfied: webencodings in /opt/conda/lib/python3.7/site-packages (from bleach->nbconvert->notebook>=4.4.1->widgetsnbextension~=3.5.0->ipywidgets->pycaret) (0.5.1)\n",
      "Building wheels for collected packages: pyod, databricks-cli\n",
      "  Building wheel for pyod (setup.py) ... \u001b[?25ldone\n",
      "\u001b[?25h  Created wheel for pyod: filename=pyod-0.9.7-py3-none-any.whl size=136277 sha256=7091086c01fffe4a533422d97662d5e415dc4c7a66207c5f173d5d0598e04ce4\n",
      "  Stored in directory: /root/.cache/pip/wheels/ce/14/ae/60cbb36511e59bc12f8f0883805f586db3b315972b54865d33\n",
      "  Building wheel for databricks-cli (setup.py) ... \u001b[?25ldone\n",
      "\u001b[?25h  Created wheel for databricks-cli: filename=databricks_cli-0.16.4-py3-none-any.whl size=106877 sha256=017f0a8576ab2081af43e9a79b3de52ca00d9170e93851bceb5a7c10da72aff6\n",
      "  Stored in directory: /root/.cache/pip/wheels/a2/a1/6d/fa1d22ea25ed8593887437fe1c7e00f6ef307fc240ccd4dc5c\n",
      "Successfully built pyod databricks-cli\n",
      "Installing collected packages: numpy, scipy, srsly, plac, catalogue, thinc, querystring-parser, pyyaml, prometheus-flask-exporter, gunicorn, databricks-cli, spacy, pyod, mlflow, imbalanced-learn, gensim, pycaret\n",
      "  Attempting uninstall: numpy\n",
      "    Found existing installation: numpy 1.20.3\n",
      "    Uninstalling numpy-1.20.3:\n",
      "      Successfully uninstalled numpy-1.20.3\n",
      "  Attempting uninstall: scipy\n",
      "    Found existing installation: scipy 1.7.3\n",
      "    Uninstalling scipy-1.7.3:\n",
      "      Successfully uninstalled scipy-1.7.3\n",
      "  Attempting uninstall: srsly\n",
      "    Found existing installation: srsly 2.4.2\n",
      "    Uninstalling srsly-2.4.2:\n",
      "      Successfully uninstalled srsly-2.4.2\n",
      "  Attempting uninstall: catalogue\n",
      "    Found existing installation: catalogue 2.0.6\n",
      "    Uninstalling catalogue-2.0.6:\n",
      "      Successfully uninstalled catalogue-2.0.6\n",
      "  Attempting uninstall: thinc\n",
      "    Found existing installation: thinc 8.0.13\n",
      "    Uninstalling thinc-8.0.13:\n",
      "      Successfully uninstalled thinc-8.0.13\n",
      "  Attempting uninstall: pyyaml\n",
      "    Found existing installation: PyYAML 6.0\n",
      "    Uninstalling PyYAML-6.0:\n",
      "      Successfully uninstalled PyYAML-6.0\n",
      "  Attempting uninstall: spacy\n",
      "    Found existing installation: spacy 3.2.1\n",
      "    Uninstalling spacy-3.2.1:\n",
      "      Successfully uninstalled spacy-3.2.1\n",
      "  Attempting uninstall: imbalanced-learn\n",
      "    Found existing installation: imbalanced-learn 0.9.0\n",
      "    Uninstalling imbalanced-learn-0.9.0:\n",
      "      Successfully uninstalled imbalanced-learn-0.9.0\n",
      "  Attempting uninstall: gensim\n",
      "    Found existing installation: gensim 4.0.1\n",
      "    Uninstalling gensim-4.0.1:\n",
      "      Successfully uninstalled gensim-4.0.1\n",
      "\u001b[31mERROR: pip's dependency resolver does not currently take into account all the packages that are installed. This behaviour is the source of the following dependency conflicts.\n",
      "tensorflow-io 0.21.0 requires tensorflow-io-gcs-filesystem==0.21.0, which is not installed.\n",
      "explainable-ai-sdk 1.3.2 requires xai-image-widget, which is not installed.\n",
      "beatrix-jupyterlab 3.1.6 requires google-cloud-bigquery-storage, which is not installed.\n",
      "tfx-bsl 1.5.0 requires absl-py<0.13,>=0.9, but you have absl-py 0.15.0 which is incompatible.\n",
      "tfx-bsl 1.5.0 requires pyarrow<6,>=1, but you have pyarrow 6.0.1 which is incompatible.\n",
      "tfx-bsl 1.5.0 requires tensorflow!=2.0.*,!=2.1.*,!=2.2.*,!=2.3.*,!=2.4.*,!=2.5.*,!=2.6.*,<3,>=1.15.2, but you have tensorflow 2.6.2 which is incompatible.\n",
      "tensorflow 2.6.2 requires six~=1.15.0, but you have six 1.16.0 which is incompatible.\n",
      "tensorflow 2.6.2 requires typing-extensions~=3.7.4, but you have typing-extensions 4.0.1 which is incompatible.\n",
      "tensorflow 2.6.2 requires wrapt~=1.12.1, but you have wrapt 1.13.3 which is incompatible.\n",
      "tensorflow-transform 1.5.0 requires absl-py<0.13,>=0.9, but you have absl-py 0.15.0 which is incompatible.\n",
      "tensorflow-transform 1.5.0 requires pyarrow<6,>=1, but you have pyarrow 6.0.1 which is incompatible.\n",
      "tensorflow-transform 1.5.0 requires tensorflow!=2.0.*,!=2.1.*,!=2.2.*,!=2.3.*,!=2.4.*,!=2.5.*,!=2.6.*,<2.8,>=1.15.2, but you have tensorflow 2.6.2 which is incompatible.\n",
      "tensorflow-serving-api 2.7.0 requires tensorflow<3,>=2.7.0, but you have tensorflow 2.6.2 which is incompatible.\n",
      "scattertext 0.1.5 requires gensim>=4.0.0, but you have gensim 3.8.3 which is incompatible.\n",
      "pdpbox 0.2.1 requires matplotlib==3.1.1, but you have matplotlib 3.5.1 which is incompatible.\n",
      "featuretools 1.4.1 requires numpy>=1.21.0, but you have numpy 1.19.5 which is incompatible.\n",
      "en-core-web-sm 3.2.0 requires spacy<3.3.0,>=3.2.0, but you have spacy 2.3.7 which is incompatible.\n",
      "en-core-web-lg 3.2.0 requires spacy<3.3.0,>=3.2.0, but you have spacy 2.3.7 which is incompatible.\n",
      "arviz 0.11.4 requires typing-extensions<4,>=3.7.4.3, but you have typing-extensions 4.0.1 which is incompatible.\n",
      "apache-beam 2.34.0 requires dill<0.3.2,>=0.3.1.1, but you have dill 0.3.4 which is incompatible.\n",
      "apache-beam 2.34.0 requires httplib2<0.20.0,>=0.8, but you have httplib2 0.20.2 which is incompatible.\n",
      "apache-beam 2.34.0 requires pyarrow<6.0.0,>=0.15.1, but you have pyarrow 6.0.1 which is incompatible.\n",
      "apache-beam 2.34.0 requires typing-extensions<4,>=3.7.0, but you have typing-extensions 4.0.1 which is incompatible.\u001b[0m\n",
      "Successfully installed catalogue-1.0.0 databricks-cli-0.16.4 gensim-3.8.3 gunicorn-20.1.0 imbalanced-learn-0.7.0 mlflow-1.23.1 numpy-1.19.5 plac-1.1.3 prometheus-flask-exporter-0.18.7 pycaret-2.3.6 pyod-0.9.7 pyyaml-5.4.1 querystring-parser-1.2.4 scipy-1.5.4 spacy-2.3.7 srsly-1.0.5 thinc-7.4.5\n",
      "\u001b[33mWARNING: Running pip as the 'root' user can result in broken permissions and conflicting behaviour with the system package manager. It is recommended to use a virtual environment instead: https://pip.pypa.io/warnings/venv\u001b[0m\n"
     ]
    }
   ],
   "source": [
    "!pip install pycaret"
   ]
  },
  {
   "cell_type": "code",
   "execution_count": 3,
   "metadata": {
    "execution": {
     "iopub.execute_input": "2022-02-11T09:59:26.061452Z",
     "iopub.status.busy": "2022-02-11T09:59:26.061154Z",
     "iopub.status.idle": "2022-02-11T09:59:28.628472Z",
     "shell.execute_reply": "2022-02-11T09:59:28.627517Z",
     "shell.execute_reply.started": "2022-02-11T09:59:26.061417Z"
    }
   },
   "outputs": [
    {
     "data": {
      "text/html": [
       "<style type='text/css'>\n",
       ".datatable table.frame { margin-bottom: 0; }\n",
       ".datatable table.frame thead { border-bottom: none; }\n",
       ".datatable table.frame tr.coltypes td {  color: #FFFFFF;  line-height: 6px;  padding: 0 0.5em;}\n",
       ".datatable .bool    { background: #DDDD99; }\n",
       ".datatable .object  { background: #565656; }\n",
       ".datatable .int     { background: #5D9E5D; }\n",
       ".datatable .float   { background: #4040CC; }\n",
       ".datatable .str     { background: #CC4040; }\n",
       ".datatable .time    { background: #40CC40; }\n",
       ".datatable .row_index {  background: var(--jp-border-color3);  border-right: 1px solid var(--jp-border-color0);  color: var(--jp-ui-font-color3);  font-size: 9px;}\n",
       ".datatable .frame tbody td { text-align: left; }\n",
       ".datatable .frame tr.coltypes .row_index {  background: var(--jp-border-color0);}\n",
       ".datatable th:nth-child(2) { padding-left: 12px; }\n",
       ".datatable .hellipsis {  color: var(--jp-cell-editor-border-color);}\n",
       ".datatable .vellipsis {  background: var(--jp-layout-color0);  color: var(--jp-cell-editor-border-color);}\n",
       ".datatable .na {  color: var(--jp-cell-editor-border-color);  font-size: 80%;}\n",
       ".datatable .sp {  opacity: 0.25;}\n",
       ".datatable .footer { font-size: 9px; }\n",
       ".datatable .frame_dimensions {  background: var(--jp-border-color3);  border-top: 1px solid var(--jp-border-color0);  color: var(--jp-ui-font-color3);  display: inline-block;  opacity: 0.6;  padding: 1px 10px 1px 5px;}\n",
       "</style>\n"
      ],
      "text/plain": [
       "<IPython.core.display.HTML object>"
      ]
     },
     "metadata": {},
     "output_type": "display_data"
    }
   ],
   "source": [
    "#import regression api from pycaret\n",
    "from pycaret.regression import *"
   ]
  },
  {
   "cell_type": "code",
   "execution_count": 4,
   "metadata": {
    "execution": {
     "iopub.execute_input": "2022-02-11T09:58:51.961536Z",
     "iopub.status.busy": "2022-02-11T09:58:51.960982Z",
     "iopub.status.idle": "2022-02-11T09:58:52.625562Z",
     "shell.execute_reply": "2022-02-11T09:58:52.624668Z",
     "shell.execute_reply.started": "2022-02-11T09:58:51.961484Z"
    }
   },
   "outputs": [],
   "source": [
    "#import modules\n",
    "import matplotlib.pyplot as plt # for plotting graphs\n",
    "import seaborn as sns # for plotting graphs\n",
    "from sklearn.preprocessing import LabelEncoder\n",
    "from sklearn.metrics import r2_score\n",
    "from category_encoders import TargetEncoder\n",
    "from sklearn.compose import ColumnTransformer\n",
    "from sklearn.pipeline import Pipeline\n",
    "%matplotlib inline"
   ]
  },
  {
   "cell_type": "code",
   "execution_count": 5,
   "metadata": {},
   "outputs": [],
   "source": [
    "KAGGLE=False"
   ]
  },
  {
   "cell_type": "code",
   "execution_count": 6,
   "metadata": {},
   "outputs": [],
   "source": [
    "if KAGGLE:\n",
    "    path='../input/jobathonfebruary2022/'\n",
    "else:\n",
    "    path=''"
   ]
  },
  {
   "cell_type": "markdown",
   "metadata": {},
   "source": [
    "#### Read input files - train, test and submission csv file"
   ]
  },
  {
   "cell_type": "code",
   "execution_count": 7,
   "metadata": {
    "execution": {
     "iopub.execute_input": "2022-02-11T09:58:52.627765Z",
     "iopub.status.busy": "2022-02-11T09:58:52.627414Z",
     "iopub.status.idle": "2022-02-11T09:58:52.801961Z",
     "shell.execute_reply": "2022-02-11T09:58:52.801129Z",
     "shell.execute_reply.started": "2022-02-11T09:58:52.627735Z"
    }
   },
   "outputs": [],
   "source": [
    "train = pd.read_csv(path+'train_0OECtn8.csv')\n",
    "test = pd.read_csv(path+'test_1zqHu22.csv')\n",
    "subm = pd.read_csv(path+'sample_submission_JPlpRcN.csv')"
   ]
  },
  {
   "cell_type": "code",
   "execution_count": 8,
   "metadata": {
    "execution": {
     "iopub.execute_input": "2022-02-11T09:58:52.803658Z",
     "iopub.status.busy": "2022-02-11T09:58:52.803411Z",
     "iopub.status.idle": "2022-02-11T09:58:52.808674Z",
     "shell.execute_reply": "2022-02-11T09:58:52.807905Z",
     "shell.execute_reply.started": "2022-02-11T09:58:52.803624Z"
    }
   },
   "outputs": [
    {
     "name": "stdout",
     "output_type": "stream",
     "text": [
      "(89197, 10)\n",
      "(11121, 9)\n"
     ]
    }
   ],
   "source": [
    "print(train.shape)\n",
    "print(test.shape)"
   ]
  },
  {
   "cell_type": "code",
   "execution_count": 15,
   "metadata": {},
   "outputs": [
    {
     "name": "stdout",
     "output_type": "stream",
     "text": [
      "Index(['row_id', 'user_id', 'category_id', 'video_id', 'age', 'gender',\n",
      "       'profession', 'followers', 'views', 'engagement_score'],\n",
      "      dtype='object')\n",
      "Index(['row_id', 'user_id', 'category_id', 'video_id', 'age', 'gender',\n",
      "       'profession', 'followers', 'views'],\n",
      "      dtype='object')\n"
     ]
    }
   ],
   "source": [
    "print(train.columns)\n",
    "print(test.columns)"
   ]
  },
  {
   "cell_type": "markdown",
   "metadata": {},
   "source": [
    " ### **Data Preprocessing**"
   ]
  },
  {
   "cell_type": "code",
   "execution_count": 16,
   "metadata": {
    "execution": {
     "iopub.execute_input": "2022-02-11T09:58:52.810259Z",
     "iopub.status.busy": "2022-02-11T09:58:52.809706Z",
     "iopub.status.idle": "2022-02-11T09:58:52.820565Z",
     "shell.execute_reply": "2022-02-11T09:58:52.819784Z",
     "shell.execute_reply.started": "2022-02-11T09:58:52.810213Z"
    }
   },
   "outputs": [],
   "source": [
    "''''\n",
    "This function performs label encoding of gender and ordinal encoding for \n",
    "fields `gender` and `profession` respectively\n",
    "It performs processing on both train and test records\n",
    "''''\n",
    "def preproc(train,test):\n",
    "    label_encoder = LabelEncoder()\n",
    "\n",
    "    train['gender']= label_encoder.fit_transform(train['gender'])\n",
    "    test['gender']= label_encoder.transform(test['gender'])\n",
    "    \n",
    "    #ordinal encoding of profession\n",
    "    prof_map = {'Other':0,'Student':1,'Working Professional':2}\n",
    "    train['profession'] = train['profession'].map(prof_map)\n",
    "    test['profession'] = test['profession'].map(prof_map)\n",
    "    \n",
    "    #to have video id without target encoding\n",
    "    train['video_id_raw']=train['video_id'].copy()\n",
    "    \n",
    "''''\n",
    "This function performs feature generation using aggregate features\n",
    "on user_id, video_id and category_id\n",
    "It performs processing on both train and test records\n",
    "''''\n",
    "def gen_agg(train,test):\n",
    "    #user_id aggregate features\n",
    "    user_agg = train[['user_id','video_id','category_id']].groupby('user_id').agg('nunique').reset_index()\n",
    "    user_agg = user_agg.rename({'video_id':'user_video_count','category_id':'user_category_count'},axis=1)\n",
    "    train = pd.merge(train, user_agg, how='left', on='user_id')\n",
    "    test = pd.merge(test, user_agg, how='left', on='user_id')\n",
    "    \n",
    "    \n",
    "    #category_id aggregate features\n",
    "    cat_agg = train[['category_id','user_id','video_id','age','gender','profession']] \\\n",
    "                        .groupby('category_id') \\\n",
    "                        .agg({'user_id':'nunique','video_id':'nunique', \\\n",
    "                             'age':'mean','gender':'mean','profession':'mean'}) \\\n",
    "                        .reset_index()\n",
    "    cat_agg = cat_agg.rename({'user_id':'category_user_count',\n",
    "                              'video_id':'category_video_count',\n",
    "                              'age':'category_age_mean',\n",
    "                              'gender':'category_gender_mean',\n",
    "                              'profession':'category_profession_mean',\n",
    "                             }, axis=1)\n",
    "    train = pd.merge(train, cat_agg, how='left', on='category_id')\n",
    "    test = pd.merge(test, cat_agg, how='left', on='category_id')    \n",
    "    \n",
    "    #video_id aggregate features\n",
    "    video_agg = train[['video_id','age','gender','profession']] \\\n",
    "                        .groupby('video_id') \\\n",
    "                        .agg('mean') \\\n",
    "                        .reset_index() \n",
    "    video_agg = video_agg.rename({'age':'video_age_mean',\n",
    "                              'gender':'video_gender_mean',\n",
    "                              'profession':'video_profession_mean',\n",
    "                             },axis=1)\n",
    "    train = pd.merge(train, video_agg, how='left', on='video_id')\n",
    "    test = pd.merge(test, video_agg, how='left', on='video_id')\n",
    "    \n",
    "    return train,test\n",
    "        "
   ]
  },
  {
   "cell_type": "code",
   "execution_count": 17,
   "metadata": {
    "execution": {
     "iopub.execute_input": "2022-02-11T09:58:52.822561Z",
     "iopub.status.busy": "2022-02-11T09:58:52.821794Z",
     "iopub.status.idle": "2022-02-11T09:58:52.870351Z",
     "shell.execute_reply": "2022-02-11T09:58:52.869669Z",
     "shell.execute_reply.started": "2022-02-11T09:58:52.822524Z"
    }
   },
   "outputs": [],
   "source": [
    "preproc(train,test)"
   ]
  },
  {
   "cell_type": "code",
   "execution_count": 18,
   "metadata": {},
   "outputs": [],
   "source": [
    "train,test = gen_agg(train,test)"
   ]
  },
  {
   "cell_type": "code",
   "execution_count": 19,
   "metadata": {},
   "outputs": [
    {
     "name": "stdout",
     "output_type": "stream",
     "text": [
      "Index(['row_id', 'user_id', 'category_id', 'video_id', 'age', 'gender',\n",
      "       'profession', 'followers', 'views', 'engagement_score', 'video_id_raw',\n",
      "       'user_video_count', 'user_category_count', 'category_user_count',\n",
      "       'category_video_count', 'category_age_mean', 'category_gender_mean',\n",
      "       'category_profession_mean', 'video_age_mean', 'video_gender_mean',\n",
      "       'video_profession_mean'],\n",
      "      dtype='object')\n"
     ]
    },
    {
     "data": {
      "text/html": [
       "<div>\n",
       "<style scoped>\n",
       "    .dataframe tbody tr th:only-of-type {\n",
       "        vertical-align: middle;\n",
       "    }\n",
       "\n",
       "    .dataframe tbody tr th {\n",
       "        vertical-align: top;\n",
       "    }\n",
       "\n",
       "    .dataframe thead th {\n",
       "        text-align: right;\n",
       "    }\n",
       "</style>\n",
       "<table border=\"1\" class=\"dataframe\">\n",
       "  <thead>\n",
       "    <tr style=\"text-align: right;\">\n",
       "      <th></th>\n",
       "      <th>row_id</th>\n",
       "      <th>user_id</th>\n",
       "      <th>category_id</th>\n",
       "      <th>video_id</th>\n",
       "      <th>age</th>\n",
       "      <th>gender</th>\n",
       "      <th>profession</th>\n",
       "      <th>followers</th>\n",
       "      <th>views</th>\n",
       "      <th>engagement_score</th>\n",
       "      <th>video_id_raw</th>\n",
       "      <th>user_video_count</th>\n",
       "      <th>user_category_count</th>\n",
       "      <th>category_user_count</th>\n",
       "      <th>category_video_count</th>\n",
       "      <th>category_age_mean</th>\n",
       "      <th>category_gender_mean</th>\n",
       "      <th>category_profession_mean</th>\n",
       "      <th>video_age_mean</th>\n",
       "      <th>video_gender_mean</th>\n",
       "      <th>video_profession_mean</th>\n",
       "    </tr>\n",
       "  </thead>\n",
       "  <tbody>\n",
       "    <tr>\n",
       "      <th>0</th>\n",
       "      <td>1</td>\n",
       "      <td>19990</td>\n",
       "      <td>37</td>\n",
       "      <td>128</td>\n",
       "      <td>24</td>\n",
       "      <td>1</td>\n",
       "      <td>1</td>\n",
       "      <td>180</td>\n",
       "      <td>1000</td>\n",
       "      <td>4.33</td>\n",
       "      <td>128</td>\n",
       "      <td>3</td>\n",
       "      <td>2</td>\n",
       "      <td>635</td>\n",
       "      <td>2</td>\n",
       "      <td>24.816008</td>\n",
       "      <td>0.602911</td>\n",
       "      <td>0.922037</td>\n",
       "      <td>24.864811</td>\n",
       "      <td>0.602386</td>\n",
       "      <td>0.912525</td>\n",
       "    </tr>\n",
       "    <tr>\n",
       "      <th>1</th>\n",
       "      <td>2</td>\n",
       "      <td>5304</td>\n",
       "      <td>32</td>\n",
       "      <td>132</td>\n",
       "      <td>14</td>\n",
       "      <td>0</td>\n",
       "      <td>1</td>\n",
       "      <td>330</td>\n",
       "      <td>714</td>\n",
       "      <td>1.79</td>\n",
       "      <td>132</td>\n",
       "      <td>5</td>\n",
       "      <td>3</td>\n",
       "      <td>1507</td>\n",
       "      <td>4</td>\n",
       "      <td>24.884218</td>\n",
       "      <td>0.563053</td>\n",
       "      <td>0.862832</td>\n",
       "      <td>25.104735</td>\n",
       "      <td>0.569584</td>\n",
       "      <td>0.892396</td>\n",
       "    </tr>\n",
       "    <tr>\n",
       "      <th>2</th>\n",
       "      <td>3</td>\n",
       "      <td>1840</td>\n",
       "      <td>12</td>\n",
       "      <td>24</td>\n",
       "      <td>19</td>\n",
       "      <td>1</td>\n",
       "      <td>1</td>\n",
       "      <td>180</td>\n",
       "      <td>138</td>\n",
       "      <td>4.35</td>\n",
       "      <td>24</td>\n",
       "      <td>3</td>\n",
       "      <td>1</td>\n",
       "      <td>2020</td>\n",
       "      <td>6</td>\n",
       "      <td>24.836205</td>\n",
       "      <td>0.670352</td>\n",
       "      <td>0.883775</td>\n",
       "      <td>25.039640</td>\n",
       "      <td>0.681081</td>\n",
       "      <td>0.935135</td>\n",
       "    </tr>\n",
       "    <tr>\n",
       "      <th>3</th>\n",
       "      <td>4</td>\n",
       "      <td>12597</td>\n",
       "      <td>23</td>\n",
       "      <td>112</td>\n",
       "      <td>19</td>\n",
       "      <td>1</td>\n",
       "      <td>1</td>\n",
       "      <td>220</td>\n",
       "      <td>613</td>\n",
       "      <td>3.77</td>\n",
       "      <td>112</td>\n",
       "      <td>3</td>\n",
       "      <td>2</td>\n",
       "      <td>1705</td>\n",
       "      <td>2</td>\n",
       "      <td>25.175964</td>\n",
       "      <td>0.642456</td>\n",
       "      <td>0.897791</td>\n",
       "      <td>25.248317</td>\n",
       "      <td>0.641735</td>\n",
       "      <td>0.893044</td>\n",
       "    </tr>\n",
       "    <tr>\n",
       "      <th>4</th>\n",
       "      <td>5</td>\n",
       "      <td>13626</td>\n",
       "      <td>23</td>\n",
       "      <td>112</td>\n",
       "      <td>27</td>\n",
       "      <td>1</td>\n",
       "      <td>2</td>\n",
       "      <td>220</td>\n",
       "      <td>613</td>\n",
       "      <td>3.13</td>\n",
       "      <td>112</td>\n",
       "      <td>4</td>\n",
       "      <td>2</td>\n",
       "      <td>1705</td>\n",
       "      <td>2</td>\n",
       "      <td>25.175964</td>\n",
       "      <td>0.642456</td>\n",
       "      <td>0.897791</td>\n",
       "      <td>25.248317</td>\n",
       "      <td>0.641735</td>\n",
       "      <td>0.893044</td>\n",
       "    </tr>\n",
       "  </tbody>\n",
       "</table>\n",
       "</div>"
      ],
      "text/plain": [
       "   row_id  user_id  category_id  video_id  age  gender  profession  followers  \\\n",
       "0       1    19990           37       128   24       1           1        180   \n",
       "1       2     5304           32       132   14       0           1        330   \n",
       "2       3     1840           12        24   19       1           1        180   \n",
       "3       4    12597           23       112   19       1           1        220   \n",
       "4       5    13626           23       112   27       1           2        220   \n",
       "\n",
       "   views  engagement_score  video_id_raw  user_video_count  \\\n",
       "0   1000              4.33           128                 3   \n",
       "1    714              1.79           132                 5   \n",
       "2    138              4.35            24                 3   \n",
       "3    613              3.77           112                 3   \n",
       "4    613              3.13           112                 4   \n",
       "\n",
       "   user_category_count  category_user_count  category_video_count  \\\n",
       "0                    2                  635                     2   \n",
       "1                    3                 1507                     4   \n",
       "2                    1                 2020                     6   \n",
       "3                    2                 1705                     2   \n",
       "4                    2                 1705                     2   \n",
       "\n",
       "   category_age_mean  category_gender_mean  category_profession_mean  \\\n",
       "0          24.816008              0.602911                  0.922037   \n",
       "1          24.884218              0.563053                  0.862832   \n",
       "2          24.836205              0.670352                  0.883775   \n",
       "3          25.175964              0.642456                  0.897791   \n",
       "4          25.175964              0.642456                  0.897791   \n",
       "\n",
       "   video_age_mean  video_gender_mean  video_profession_mean  \n",
       "0       24.864811           0.602386               0.912525  \n",
       "1       25.104735           0.569584               0.892396  \n",
       "2       25.039640           0.681081               0.935135  \n",
       "3       25.248317           0.641735               0.893044  \n",
       "4       25.248317           0.641735               0.893044  "
      ]
     },
     "execution_count": 19,
     "metadata": {},
     "output_type": "execute_result"
    }
   ],
   "source": [
    "print(train.columns)\n",
    "train.head()"
   ]
  },
  {
   "cell_type": "code",
   "execution_count": 45,
   "metadata": {},
   "outputs": [],
   "source": [
    "#user_id is copied as new column to train and test \n",
    "#since user_id would be transformed to target encoding during model training\n",
    "#and this copied user_id would have the original values (ie) before encoding.\n",
    "train['user_id_orig']=train['user_id'].copy()\n",
    "test['user_id_orig']=test['user_id'].copy()"
   ]
  },
  {
   "cell_type": "code",
   "execution_count": 21,
   "metadata": {
    "execution": {
     "iopub.execute_input": "2022-02-11T09:58:52.871706Z",
     "iopub.status.busy": "2022-02-11T09:58:52.871303Z",
     "iopub.status.idle": "2022-02-11T09:58:52.876838Z",
     "shell.execute_reply": "2022-02-11T09:58:52.875598Z",
     "shell.execute_reply.started": "2022-02-11T09:58:52.871649Z"
    }
   },
   "outputs": [],
   "source": [
    "#store target column\n",
    "targetcol = 'engagement_score'\n",
    "target = train[targetcol]"
   ]
  },
  {
   "cell_type": "markdown",
   "metadata": {},
   "source": [
    "assign list of features to be used for model training"
   ]
  },
  {
   "cell_type": "code",
   "execution_count": 22,
   "metadata": {
    "execution": {
     "iopub.execute_input": "2022-02-11T09:59:09.043820Z",
     "iopub.status.busy": "2022-02-11T09:59:09.043545Z",
     "iopub.status.idle": "2022-02-11T09:59:09.049603Z",
     "shell.execute_reply": "2022-02-11T09:59:09.048731Z",
     "shell.execute_reply.started": "2022-02-11T09:59:09.043791Z"
    }
   },
   "outputs": [
    {
     "name": "stdout",
     "output_type": "stream",
     "text": [
      "14\n",
      "['user_id', 'category_id', 'video_id', 'age', 'gender', 'profession', 'followers', 'views', 'engagement_score', 'user_video_count', 'user_category_count', 'category_user_count', 'category_video_count', 'user_id_orig']\n"
     ]
    }
   ],
   "source": [
    "exclude_cols =['row_id', 'category_age_mean', 'category_gender_mean',\n",
    "       'category_profession_mean',  'video_gender_mean',\n",
    "       'video_profession_mean','video_id_raw',\n",
    "            'video_age_mean',\n",
    "        'video_age_ratio', 'video_profession_diff', \n",
    "        'video_profession_ratio', 'video_gender_diff', 'video_gender_ratio']\n",
    "features =[col for col in train.columns if col not in exclude_cols]\n",
    "print(len(features))\n",
    "print(features)\n",
    "features_excl_target = [col for col in features if col!=targetcol]"
   ]
  },
  {
   "cell_type": "code",
   "execution_count": 23,
   "metadata": {
    "execution": {
     "iopub.execute_input": "2022-02-11T09:59:24.425428Z",
     "iopub.status.busy": "2022-02-11T09:59:24.424869Z",
     "iopub.status.idle": "2022-02-11T09:59:24.433242Z",
     "shell.execute_reply": "2022-02-11T09:59:24.430818Z",
     "shell.execute_reply.started": "2022-02-11T09:59:24.425378Z"
    }
   },
   "outputs": [
    {
     "name": "stdout",
     "output_type": "stream",
     "text": [
      "0\n",
      "[]\n",
      "13\n",
      "['user_id', 'category_id', 'video_id', 'age', 'gender', 'profession', 'followers', 'views', 'user_video_count', 'user_category_count', 'category_user_count', 'category_video_count', 'user_id_orig']\n"
     ]
    }
   ],
   "source": [
    "#for pycaret, numeric and categorical columns have to be separately specified\n",
    "#categorical column list is empty since categorical field \n",
    "#gender is already converted to numeric\n",
    "catcols = []\n",
    "numeric_cols = [col for col in features if col not in catcols+[targetcol]]\n",
    "print(len(catcols))\n",
    "print(catcols)\n",
    "print(len(numeric_cols))\n",
    "print(numeric_cols)"
   ]
  },
  {
   "cell_type": "code",
   "execution_count": 25,
   "metadata": {},
   "outputs": [],
   "source": [
    "#create pipeline for target encoding to be used during cross validation\n",
    "#min_samples_leaf is set to lower value \n",
    "#since number of records for user_id starts\n",
    "#from value 2.\n",
    "ct = ColumnTransformer(\n",
    "     [\n",
    "         (\"targetenc\",  TargetEncoder(cols=['user_id','category_id', 'video_id'],\n",
    "                                                min_samples_leaf=2, smoothing=0.1) , ['user_id','category_id', 'video_id']),\n",
    "      ],remainder='passthrough')\n",
    "\n",
    "preprocessor = ('preproc',ct)"
   ]
  },
  {
   "cell_type": "markdown",
   "metadata": {},
   "source": [
    "### Model Training and Predictions"
   ]
  },
  {
   "cell_type": "markdown",
   "metadata": {},
   "source": [
    "Initialize pycaret API by using `setup()`\n",
    "\n",
    "Note: additional preprocessing of target encoding to be performed during cross validation is mentioned in the parameter `custom_pipeline`\n",
    "\n",
    "`remove_perfect_collinearity=False` is required since there are 2 user_id features which are duplicate and one would be converted to target encoding during cross validation. Otherwise one of the field would be removed by pycaret before cross validation."
   ]
  },
  {
   "cell_type": "code",
   "execution_count": 31,
   "metadata": {
    "execution": {
     "iopub.execute_input": "2022-02-11T09:59:34.826342Z",
     "iopub.status.busy": "2022-02-11T09:59:34.826048Z",
     "iopub.status.idle": "2022-02-11T09:59:36.614784Z",
     "shell.execute_reply": "2022-02-11T09:59:36.613864Z",
     "shell.execute_reply.started": "2022-02-11T09:59:34.826309Z"
    }
   },
   "outputs": [
    {
     "data": {
      "text/html": [
       "<style type=\"text/css\">\n",
       "#T_24fd5_row16_col1 {\n",
       "  background-color: lightgreen;\n",
       "}\n",
       "</style>\n",
       "<table id=\"T_24fd5_\">\n",
       "  <thead>\n",
       "    <tr>\n",
       "      <th class=\"blank level0\" >&nbsp;</th>\n",
       "      <th class=\"col_heading level0 col0\" >Description</th>\n",
       "      <th class=\"col_heading level0 col1\" >Value</th>\n",
       "    </tr>\n",
       "  </thead>\n",
       "  <tbody>\n",
       "    <tr>\n",
       "      <th id=\"T_24fd5_level0_row0\" class=\"row_heading level0 row0\" >0</th>\n",
       "      <td id=\"T_24fd5_row0_col0\" class=\"data row0 col0\" >session_id</td>\n",
       "      <td id=\"T_24fd5_row0_col1\" class=\"data row0 col1\" >100</td>\n",
       "    </tr>\n",
       "    <tr>\n",
       "      <th id=\"T_24fd5_level0_row1\" class=\"row_heading level0 row1\" >1</th>\n",
       "      <td id=\"T_24fd5_row1_col0\" class=\"data row1 col0\" >Target</td>\n",
       "      <td id=\"T_24fd5_row1_col1\" class=\"data row1 col1\" >engagement_score</td>\n",
       "    </tr>\n",
       "    <tr>\n",
       "      <th id=\"T_24fd5_level0_row2\" class=\"row_heading level0 row2\" >2</th>\n",
       "      <td id=\"T_24fd5_row2_col0\" class=\"data row2 col0\" >Original Data</td>\n",
       "      <td id=\"T_24fd5_row2_col1\" class=\"data row2 col1\" >(89197, 14)</td>\n",
       "    </tr>\n",
       "    <tr>\n",
       "      <th id=\"T_24fd5_level0_row3\" class=\"row_heading level0 row3\" >3</th>\n",
       "      <td id=\"T_24fd5_row3_col0\" class=\"data row3 col0\" >Missing Values</td>\n",
       "      <td id=\"T_24fd5_row3_col1\" class=\"data row3 col1\" >False</td>\n",
       "    </tr>\n",
       "    <tr>\n",
       "      <th id=\"T_24fd5_level0_row4\" class=\"row_heading level0 row4\" >4</th>\n",
       "      <td id=\"T_24fd5_row4_col0\" class=\"data row4 col0\" >Numeric Features</td>\n",
       "      <td id=\"T_24fd5_row4_col1\" class=\"data row4 col1\" >13</td>\n",
       "    </tr>\n",
       "    <tr>\n",
       "      <th id=\"T_24fd5_level0_row5\" class=\"row_heading level0 row5\" >5</th>\n",
       "      <td id=\"T_24fd5_row5_col0\" class=\"data row5 col0\" >Categorical Features</td>\n",
       "      <td id=\"T_24fd5_row5_col1\" class=\"data row5 col1\" >0</td>\n",
       "    </tr>\n",
       "    <tr>\n",
       "      <th id=\"T_24fd5_level0_row6\" class=\"row_heading level0 row6\" >6</th>\n",
       "      <td id=\"T_24fd5_row6_col0\" class=\"data row6 col0\" >Ordinal Features</td>\n",
       "      <td id=\"T_24fd5_row6_col1\" class=\"data row6 col1\" >False</td>\n",
       "    </tr>\n",
       "    <tr>\n",
       "      <th id=\"T_24fd5_level0_row7\" class=\"row_heading level0 row7\" >7</th>\n",
       "      <td id=\"T_24fd5_row7_col0\" class=\"data row7 col0\" >High Cardinality Features</td>\n",
       "      <td id=\"T_24fd5_row7_col1\" class=\"data row7 col1\" >False</td>\n",
       "    </tr>\n",
       "    <tr>\n",
       "      <th id=\"T_24fd5_level0_row8\" class=\"row_heading level0 row8\" >8</th>\n",
       "      <td id=\"T_24fd5_row8_col0\" class=\"data row8 col0\" >High Cardinality Method</td>\n",
       "      <td id=\"T_24fd5_row8_col1\" class=\"data row8 col1\" >None</td>\n",
       "    </tr>\n",
       "    <tr>\n",
       "      <th id=\"T_24fd5_level0_row9\" class=\"row_heading level0 row9\" >9</th>\n",
       "      <td id=\"T_24fd5_row9_col0\" class=\"data row9 col0\" >Transformed Train Set</td>\n",
       "      <td id=\"T_24fd5_row9_col1\" class=\"data row9 col1\" >(62437, 13)</td>\n",
       "    </tr>\n",
       "    <tr>\n",
       "      <th id=\"T_24fd5_level0_row10\" class=\"row_heading level0 row10\" >10</th>\n",
       "      <td id=\"T_24fd5_row10_col0\" class=\"data row10 col0\" >Transformed Test Set</td>\n",
       "      <td id=\"T_24fd5_row10_col1\" class=\"data row10 col1\" >(26760, 13)</td>\n",
       "    </tr>\n",
       "    <tr>\n",
       "      <th id=\"T_24fd5_level0_row11\" class=\"row_heading level0 row11\" >11</th>\n",
       "      <td id=\"T_24fd5_row11_col0\" class=\"data row11 col0\" >Shuffle Train-Test</td>\n",
       "      <td id=\"T_24fd5_row11_col1\" class=\"data row11 col1\" >True</td>\n",
       "    </tr>\n",
       "    <tr>\n",
       "      <th id=\"T_24fd5_level0_row12\" class=\"row_heading level0 row12\" >12</th>\n",
       "      <td id=\"T_24fd5_row12_col0\" class=\"data row12 col0\" >Stratify Train-Test</td>\n",
       "      <td id=\"T_24fd5_row12_col1\" class=\"data row12 col1\" >False</td>\n",
       "    </tr>\n",
       "    <tr>\n",
       "      <th id=\"T_24fd5_level0_row13\" class=\"row_heading level0 row13\" >13</th>\n",
       "      <td id=\"T_24fd5_row13_col0\" class=\"data row13 col0\" >Fold Generator</td>\n",
       "      <td id=\"T_24fd5_row13_col1\" class=\"data row13 col1\" >KFold</td>\n",
       "    </tr>\n",
       "    <tr>\n",
       "      <th id=\"T_24fd5_level0_row14\" class=\"row_heading level0 row14\" >14</th>\n",
       "      <td id=\"T_24fd5_row14_col0\" class=\"data row14 col0\" >Fold Number</td>\n",
       "      <td id=\"T_24fd5_row14_col1\" class=\"data row14 col1\" >10</td>\n",
       "    </tr>\n",
       "    <tr>\n",
       "      <th id=\"T_24fd5_level0_row15\" class=\"row_heading level0 row15\" >15</th>\n",
       "      <td id=\"T_24fd5_row15_col0\" class=\"data row15 col0\" >CPU Jobs</td>\n",
       "      <td id=\"T_24fd5_row15_col1\" class=\"data row15 col1\" >-1</td>\n",
       "    </tr>\n",
       "    <tr>\n",
       "      <th id=\"T_24fd5_level0_row16\" class=\"row_heading level0 row16\" >16</th>\n",
       "      <td id=\"T_24fd5_row16_col0\" class=\"data row16 col0\" >Use GPU</td>\n",
       "      <td id=\"T_24fd5_row16_col1\" class=\"data row16 col1\" >True</td>\n",
       "    </tr>\n",
       "    <tr>\n",
       "      <th id=\"T_24fd5_level0_row17\" class=\"row_heading level0 row17\" >17</th>\n",
       "      <td id=\"T_24fd5_row17_col0\" class=\"data row17 col0\" >Log Experiment</td>\n",
       "      <td id=\"T_24fd5_row17_col1\" class=\"data row17 col1\" >False</td>\n",
       "    </tr>\n",
       "    <tr>\n",
       "      <th id=\"T_24fd5_level0_row18\" class=\"row_heading level0 row18\" >18</th>\n",
       "      <td id=\"T_24fd5_row18_col0\" class=\"data row18 col0\" >Experiment Name</td>\n",
       "      <td id=\"T_24fd5_row18_col1\" class=\"data row18 col1\" >reg-default-name</td>\n",
       "    </tr>\n",
       "    <tr>\n",
       "      <th id=\"T_24fd5_level0_row19\" class=\"row_heading level0 row19\" >19</th>\n",
       "      <td id=\"T_24fd5_row19_col0\" class=\"data row19 col0\" >USI</td>\n",
       "      <td id=\"T_24fd5_row19_col1\" class=\"data row19 col1\" >a9ce</td>\n",
       "    </tr>\n",
       "    <tr>\n",
       "      <th id=\"T_24fd5_level0_row20\" class=\"row_heading level0 row20\" >20</th>\n",
       "      <td id=\"T_24fd5_row20_col0\" class=\"data row20 col0\" >Imputation Type</td>\n",
       "      <td id=\"T_24fd5_row20_col1\" class=\"data row20 col1\" >simple</td>\n",
       "    </tr>\n",
       "    <tr>\n",
       "      <th id=\"T_24fd5_level0_row21\" class=\"row_heading level0 row21\" >21</th>\n",
       "      <td id=\"T_24fd5_row21_col0\" class=\"data row21 col0\" >Iterative Imputation Iteration</td>\n",
       "      <td id=\"T_24fd5_row21_col1\" class=\"data row21 col1\" >None</td>\n",
       "    </tr>\n",
       "    <tr>\n",
       "      <th id=\"T_24fd5_level0_row22\" class=\"row_heading level0 row22\" >22</th>\n",
       "      <td id=\"T_24fd5_row22_col0\" class=\"data row22 col0\" >Numeric Imputer</td>\n",
       "      <td id=\"T_24fd5_row22_col1\" class=\"data row22 col1\" >mean</td>\n",
       "    </tr>\n",
       "    <tr>\n",
       "      <th id=\"T_24fd5_level0_row23\" class=\"row_heading level0 row23\" >23</th>\n",
       "      <td id=\"T_24fd5_row23_col0\" class=\"data row23 col0\" >Iterative Imputation Numeric Model</td>\n",
       "      <td id=\"T_24fd5_row23_col1\" class=\"data row23 col1\" >None</td>\n",
       "    </tr>\n",
       "    <tr>\n",
       "      <th id=\"T_24fd5_level0_row24\" class=\"row_heading level0 row24\" >24</th>\n",
       "      <td id=\"T_24fd5_row24_col0\" class=\"data row24 col0\" >Categorical Imputer</td>\n",
       "      <td id=\"T_24fd5_row24_col1\" class=\"data row24 col1\" >constant</td>\n",
       "    </tr>\n",
       "    <tr>\n",
       "      <th id=\"T_24fd5_level0_row25\" class=\"row_heading level0 row25\" >25</th>\n",
       "      <td id=\"T_24fd5_row25_col0\" class=\"data row25 col0\" >Iterative Imputation Categorical Model</td>\n",
       "      <td id=\"T_24fd5_row25_col1\" class=\"data row25 col1\" >None</td>\n",
       "    </tr>\n",
       "    <tr>\n",
       "      <th id=\"T_24fd5_level0_row26\" class=\"row_heading level0 row26\" >26</th>\n",
       "      <td id=\"T_24fd5_row26_col0\" class=\"data row26 col0\" >Unknown Categoricals Handling</td>\n",
       "      <td id=\"T_24fd5_row26_col1\" class=\"data row26 col1\" >least_frequent</td>\n",
       "    </tr>\n",
       "    <tr>\n",
       "      <th id=\"T_24fd5_level0_row27\" class=\"row_heading level0 row27\" >27</th>\n",
       "      <td id=\"T_24fd5_row27_col0\" class=\"data row27 col0\" >Normalize</td>\n",
       "      <td id=\"T_24fd5_row27_col1\" class=\"data row27 col1\" >False</td>\n",
       "    </tr>\n",
       "    <tr>\n",
       "      <th id=\"T_24fd5_level0_row28\" class=\"row_heading level0 row28\" >28</th>\n",
       "      <td id=\"T_24fd5_row28_col0\" class=\"data row28 col0\" >Normalize Method</td>\n",
       "      <td id=\"T_24fd5_row28_col1\" class=\"data row28 col1\" >None</td>\n",
       "    </tr>\n",
       "    <tr>\n",
       "      <th id=\"T_24fd5_level0_row29\" class=\"row_heading level0 row29\" >29</th>\n",
       "      <td id=\"T_24fd5_row29_col0\" class=\"data row29 col0\" >Transformation</td>\n",
       "      <td id=\"T_24fd5_row29_col1\" class=\"data row29 col1\" >False</td>\n",
       "    </tr>\n",
       "    <tr>\n",
       "      <th id=\"T_24fd5_level0_row30\" class=\"row_heading level0 row30\" >30</th>\n",
       "      <td id=\"T_24fd5_row30_col0\" class=\"data row30 col0\" >Transformation Method</td>\n",
       "      <td id=\"T_24fd5_row30_col1\" class=\"data row30 col1\" >None</td>\n",
       "    </tr>\n",
       "    <tr>\n",
       "      <th id=\"T_24fd5_level0_row31\" class=\"row_heading level0 row31\" >31</th>\n",
       "      <td id=\"T_24fd5_row31_col0\" class=\"data row31 col0\" >PCA</td>\n",
       "      <td id=\"T_24fd5_row31_col1\" class=\"data row31 col1\" >False</td>\n",
       "    </tr>\n",
       "    <tr>\n",
       "      <th id=\"T_24fd5_level0_row32\" class=\"row_heading level0 row32\" >32</th>\n",
       "      <td id=\"T_24fd5_row32_col0\" class=\"data row32 col0\" >PCA Method</td>\n",
       "      <td id=\"T_24fd5_row32_col1\" class=\"data row32 col1\" >None</td>\n",
       "    </tr>\n",
       "    <tr>\n",
       "      <th id=\"T_24fd5_level0_row33\" class=\"row_heading level0 row33\" >33</th>\n",
       "      <td id=\"T_24fd5_row33_col0\" class=\"data row33 col0\" >PCA Components</td>\n",
       "      <td id=\"T_24fd5_row33_col1\" class=\"data row33 col1\" >None</td>\n",
       "    </tr>\n",
       "    <tr>\n",
       "      <th id=\"T_24fd5_level0_row34\" class=\"row_heading level0 row34\" >34</th>\n",
       "      <td id=\"T_24fd5_row34_col0\" class=\"data row34 col0\" >Ignore Low Variance</td>\n",
       "      <td id=\"T_24fd5_row34_col1\" class=\"data row34 col1\" >False</td>\n",
       "    </tr>\n",
       "    <tr>\n",
       "      <th id=\"T_24fd5_level0_row35\" class=\"row_heading level0 row35\" >35</th>\n",
       "      <td id=\"T_24fd5_row35_col0\" class=\"data row35 col0\" >Combine Rare Levels</td>\n",
       "      <td id=\"T_24fd5_row35_col1\" class=\"data row35 col1\" >False</td>\n",
       "    </tr>\n",
       "    <tr>\n",
       "      <th id=\"T_24fd5_level0_row36\" class=\"row_heading level0 row36\" >36</th>\n",
       "      <td id=\"T_24fd5_row36_col0\" class=\"data row36 col0\" >Rare Level Threshold</td>\n",
       "      <td id=\"T_24fd5_row36_col1\" class=\"data row36 col1\" >None</td>\n",
       "    </tr>\n",
       "    <tr>\n",
       "      <th id=\"T_24fd5_level0_row37\" class=\"row_heading level0 row37\" >37</th>\n",
       "      <td id=\"T_24fd5_row37_col0\" class=\"data row37 col0\" >Numeric Binning</td>\n",
       "      <td id=\"T_24fd5_row37_col1\" class=\"data row37 col1\" >False</td>\n",
       "    </tr>\n",
       "    <tr>\n",
       "      <th id=\"T_24fd5_level0_row38\" class=\"row_heading level0 row38\" >38</th>\n",
       "      <td id=\"T_24fd5_row38_col0\" class=\"data row38 col0\" >Remove Outliers</td>\n",
       "      <td id=\"T_24fd5_row38_col1\" class=\"data row38 col1\" >False</td>\n",
       "    </tr>\n",
       "    <tr>\n",
       "      <th id=\"T_24fd5_level0_row39\" class=\"row_heading level0 row39\" >39</th>\n",
       "      <td id=\"T_24fd5_row39_col0\" class=\"data row39 col0\" >Outliers Threshold</td>\n",
       "      <td id=\"T_24fd5_row39_col1\" class=\"data row39 col1\" >None</td>\n",
       "    </tr>\n",
       "    <tr>\n",
       "      <th id=\"T_24fd5_level0_row40\" class=\"row_heading level0 row40\" >40</th>\n",
       "      <td id=\"T_24fd5_row40_col0\" class=\"data row40 col0\" >Remove Multicollinearity</td>\n",
       "      <td id=\"T_24fd5_row40_col1\" class=\"data row40 col1\" >False</td>\n",
       "    </tr>\n",
       "    <tr>\n",
       "      <th id=\"T_24fd5_level0_row41\" class=\"row_heading level0 row41\" >41</th>\n",
       "      <td id=\"T_24fd5_row41_col0\" class=\"data row41 col0\" >Multicollinearity Threshold</td>\n",
       "      <td id=\"T_24fd5_row41_col1\" class=\"data row41 col1\" >None</td>\n",
       "    </tr>\n",
       "    <tr>\n",
       "      <th id=\"T_24fd5_level0_row42\" class=\"row_heading level0 row42\" >42</th>\n",
       "      <td id=\"T_24fd5_row42_col0\" class=\"data row42 col0\" >Remove Perfect Collinearity</td>\n",
       "      <td id=\"T_24fd5_row42_col1\" class=\"data row42 col1\" >False</td>\n",
       "    </tr>\n",
       "    <tr>\n",
       "      <th id=\"T_24fd5_level0_row43\" class=\"row_heading level0 row43\" >43</th>\n",
       "      <td id=\"T_24fd5_row43_col0\" class=\"data row43 col0\" >Clustering</td>\n",
       "      <td id=\"T_24fd5_row43_col1\" class=\"data row43 col1\" >False</td>\n",
       "    </tr>\n",
       "    <tr>\n",
       "      <th id=\"T_24fd5_level0_row44\" class=\"row_heading level0 row44\" >44</th>\n",
       "      <td id=\"T_24fd5_row44_col0\" class=\"data row44 col0\" >Clustering Iteration</td>\n",
       "      <td id=\"T_24fd5_row44_col1\" class=\"data row44 col1\" >None</td>\n",
       "    </tr>\n",
       "    <tr>\n",
       "      <th id=\"T_24fd5_level0_row45\" class=\"row_heading level0 row45\" >45</th>\n",
       "      <td id=\"T_24fd5_row45_col0\" class=\"data row45 col0\" >Polynomial Features</td>\n",
       "      <td id=\"T_24fd5_row45_col1\" class=\"data row45 col1\" >False</td>\n",
       "    </tr>\n",
       "    <tr>\n",
       "      <th id=\"T_24fd5_level0_row46\" class=\"row_heading level0 row46\" >46</th>\n",
       "      <td id=\"T_24fd5_row46_col0\" class=\"data row46 col0\" >Polynomial Degree</td>\n",
       "      <td id=\"T_24fd5_row46_col1\" class=\"data row46 col1\" >None</td>\n",
       "    </tr>\n",
       "    <tr>\n",
       "      <th id=\"T_24fd5_level0_row47\" class=\"row_heading level0 row47\" >47</th>\n",
       "      <td id=\"T_24fd5_row47_col0\" class=\"data row47 col0\" >Trignometry Features</td>\n",
       "      <td id=\"T_24fd5_row47_col1\" class=\"data row47 col1\" >False</td>\n",
       "    </tr>\n",
       "    <tr>\n",
       "      <th id=\"T_24fd5_level0_row48\" class=\"row_heading level0 row48\" >48</th>\n",
       "      <td id=\"T_24fd5_row48_col0\" class=\"data row48 col0\" >Polynomial Threshold</td>\n",
       "      <td id=\"T_24fd5_row48_col1\" class=\"data row48 col1\" >None</td>\n",
       "    </tr>\n",
       "    <tr>\n",
       "      <th id=\"T_24fd5_level0_row49\" class=\"row_heading level0 row49\" >49</th>\n",
       "      <td id=\"T_24fd5_row49_col0\" class=\"data row49 col0\" >Group Features</td>\n",
       "      <td id=\"T_24fd5_row49_col1\" class=\"data row49 col1\" >False</td>\n",
       "    </tr>\n",
       "    <tr>\n",
       "      <th id=\"T_24fd5_level0_row50\" class=\"row_heading level0 row50\" >50</th>\n",
       "      <td id=\"T_24fd5_row50_col0\" class=\"data row50 col0\" >Feature Selection</td>\n",
       "      <td id=\"T_24fd5_row50_col1\" class=\"data row50 col1\" >False</td>\n",
       "    </tr>\n",
       "    <tr>\n",
       "      <th id=\"T_24fd5_level0_row51\" class=\"row_heading level0 row51\" >51</th>\n",
       "      <td id=\"T_24fd5_row51_col0\" class=\"data row51 col0\" >Feature Selection Method</td>\n",
       "      <td id=\"T_24fd5_row51_col1\" class=\"data row51 col1\" >classic</td>\n",
       "    </tr>\n",
       "    <tr>\n",
       "      <th id=\"T_24fd5_level0_row52\" class=\"row_heading level0 row52\" >52</th>\n",
       "      <td id=\"T_24fd5_row52_col0\" class=\"data row52 col0\" >Features Selection Threshold</td>\n",
       "      <td id=\"T_24fd5_row52_col1\" class=\"data row52 col1\" >None</td>\n",
       "    </tr>\n",
       "    <tr>\n",
       "      <th id=\"T_24fd5_level0_row53\" class=\"row_heading level0 row53\" >53</th>\n",
       "      <td id=\"T_24fd5_row53_col0\" class=\"data row53 col0\" >Feature Interaction</td>\n",
       "      <td id=\"T_24fd5_row53_col1\" class=\"data row53 col1\" >False</td>\n",
       "    </tr>\n",
       "    <tr>\n",
       "      <th id=\"T_24fd5_level0_row54\" class=\"row_heading level0 row54\" >54</th>\n",
       "      <td id=\"T_24fd5_row54_col0\" class=\"data row54 col0\" >Feature Ratio</td>\n",
       "      <td id=\"T_24fd5_row54_col1\" class=\"data row54 col1\" >False</td>\n",
       "    </tr>\n",
       "    <tr>\n",
       "      <th id=\"T_24fd5_level0_row55\" class=\"row_heading level0 row55\" >55</th>\n",
       "      <td id=\"T_24fd5_row55_col0\" class=\"data row55 col0\" >Interaction Threshold</td>\n",
       "      <td id=\"T_24fd5_row55_col1\" class=\"data row55 col1\" >None</td>\n",
       "    </tr>\n",
       "    <tr>\n",
       "      <th id=\"T_24fd5_level0_row56\" class=\"row_heading level0 row56\" >56</th>\n",
       "      <td id=\"T_24fd5_row56_col0\" class=\"data row56 col0\" >Transform Target</td>\n",
       "      <td id=\"T_24fd5_row56_col1\" class=\"data row56 col1\" >False</td>\n",
       "    </tr>\n",
       "    <tr>\n",
       "      <th id=\"T_24fd5_level0_row57\" class=\"row_heading level0 row57\" >57</th>\n",
       "      <td id=\"T_24fd5_row57_col0\" class=\"data row57 col0\" >Transform Target Method</td>\n",
       "      <td id=\"T_24fd5_row57_col1\" class=\"data row57 col1\" >box-cox</td>\n",
       "    </tr>\n",
       "  </tbody>\n",
       "</table>\n"
      ],
      "text/plain": [
       "<pandas.io.formats.style.Styler at 0x7f6ee4a2c550>"
      ]
     },
     "metadata": {},
     "output_type": "display_data"
    }
   ],
   "source": [
    "s = setup(train[features], session_id=100,\n",
    "          silent=True,\n",
    "          numeric_features=numeric_cols,\n",
    "          categorical_features=catcols,\n",
    "          target = targetcol,\n",
    "          custom_pipeline=preprocessor,\n",
    "          fold=10,fold_shuffle=True,\n",
    "          use_gpu=True,\n",
    "        remove_perfect_collinearity=False,\n",
    "        )"
   ]
  },
  {
   "cell_type": "code",
   "execution_count": 43,
   "metadata": {},
   "outputs": [
    {
     "name": "stdout",
     "output_type": "stream",
     "text": [
      "13\n",
      "['user_id', 'category_id', 'video_id', 'age', 'gender', 'profession', 'followers', 'views', 'user_video_count', 'user_category_count', 'category_user_count', 'category_video_count', 'user_id_orig']\n"
     ]
    },
    {
     "data": {
      "text/html": [
       "<div>\n",
       "<style scoped>\n",
       "    .dataframe tbody tr th:only-of-type {\n",
       "        vertical-align: middle;\n",
       "    }\n",
       "\n",
       "    .dataframe tbody tr th {\n",
       "        vertical-align: top;\n",
       "    }\n",
       "\n",
       "    .dataframe thead th {\n",
       "        text-align: right;\n",
       "    }\n",
       "</style>\n",
       "<table border=\"1\" class=\"dataframe\">\n",
       "  <thead>\n",
       "    <tr style=\"text-align: right;\">\n",
       "      <th></th>\n",
       "      <th>user_id</th>\n",
       "      <th>category_id</th>\n",
       "      <th>video_id</th>\n",
       "      <th>age</th>\n",
       "      <th>gender</th>\n",
       "      <th>profession</th>\n",
       "      <th>followers</th>\n",
       "      <th>views</th>\n",
       "      <th>user_video_count</th>\n",
       "      <th>user_category_count</th>\n",
       "      <th>category_user_count</th>\n",
       "      <th>category_video_count</th>\n",
       "      <th>user_id_orig</th>\n",
       "    </tr>\n",
       "  </thead>\n",
       "  <tbody>\n",
       "    <tr>\n",
       "      <th>0</th>\n",
       "      <td>19990.0</td>\n",
       "      <td>37.0</td>\n",
       "      <td>128.0</td>\n",
       "      <td>24.0</td>\n",
       "      <td>1.0</td>\n",
       "      <td>1.0</td>\n",
       "      <td>180.0</td>\n",
       "      <td>1000.0</td>\n",
       "      <td>3.0</td>\n",
       "      <td>2.0</td>\n",
       "      <td>635.0</td>\n",
       "      <td>2.0</td>\n",
       "      <td>19990.0</td>\n",
       "    </tr>\n",
       "    <tr>\n",
       "      <th>1</th>\n",
       "      <td>5304.0</td>\n",
       "      <td>32.0</td>\n",
       "      <td>132.0</td>\n",
       "      <td>14.0</td>\n",
       "      <td>0.0</td>\n",
       "      <td>1.0</td>\n",
       "      <td>330.0</td>\n",
       "      <td>714.0</td>\n",
       "      <td>5.0</td>\n",
       "      <td>3.0</td>\n",
       "      <td>1507.0</td>\n",
       "      <td>4.0</td>\n",
       "      <td>5304.0</td>\n",
       "    </tr>\n",
       "    <tr>\n",
       "      <th>2</th>\n",
       "      <td>1840.0</td>\n",
       "      <td>12.0</td>\n",
       "      <td>24.0</td>\n",
       "      <td>19.0</td>\n",
       "      <td>1.0</td>\n",
       "      <td>1.0</td>\n",
       "      <td>180.0</td>\n",
       "      <td>138.0</td>\n",
       "      <td>3.0</td>\n",
       "      <td>1.0</td>\n",
       "      <td>2020.0</td>\n",
       "      <td>6.0</td>\n",
       "      <td>1840.0</td>\n",
       "    </tr>\n",
       "    <tr>\n",
       "      <th>3</th>\n",
       "      <td>12597.0</td>\n",
       "      <td>23.0</td>\n",
       "      <td>112.0</td>\n",
       "      <td>19.0</td>\n",
       "      <td>1.0</td>\n",
       "      <td>1.0</td>\n",
       "      <td>220.0</td>\n",
       "      <td>613.0</td>\n",
       "      <td>3.0</td>\n",
       "      <td>2.0</td>\n",
       "      <td>1705.0</td>\n",
       "      <td>2.0</td>\n",
       "      <td>12597.0</td>\n",
       "    </tr>\n",
       "    <tr>\n",
       "      <th>4</th>\n",
       "      <td>13626.0</td>\n",
       "      <td>23.0</td>\n",
       "      <td>112.0</td>\n",
       "      <td>27.0</td>\n",
       "      <td>1.0</td>\n",
       "      <td>2.0</td>\n",
       "      <td>220.0</td>\n",
       "      <td>613.0</td>\n",
       "      <td>4.0</td>\n",
       "      <td>2.0</td>\n",
       "      <td>1705.0</td>\n",
       "      <td>2.0</td>\n",
       "      <td>13626.0</td>\n",
       "    </tr>\n",
       "  </tbody>\n",
       "</table>\n",
       "</div>"
      ],
      "text/plain": [
       "   user_id  category_id  video_id   age  gender  profession  followers  \\\n",
       "0  19990.0         37.0     128.0  24.0     1.0         1.0      180.0   \n",
       "1   5304.0         32.0     132.0  14.0     0.0         1.0      330.0   \n",
       "2   1840.0         12.0      24.0  19.0     1.0         1.0      180.0   \n",
       "3  12597.0         23.0     112.0  19.0     1.0         1.0      220.0   \n",
       "4  13626.0         23.0     112.0  27.0     1.0         2.0      220.0   \n",
       "\n",
       "    views  user_video_count  user_category_count  category_user_count  \\\n",
       "0  1000.0               3.0                  2.0                635.0   \n",
       "1   714.0               5.0                  3.0               1507.0   \n",
       "2   138.0               3.0                  1.0               2020.0   \n",
       "3   613.0               3.0                  2.0               1705.0   \n",
       "4   613.0               4.0                  2.0               1705.0   \n",
       "\n",
       "   category_video_count  user_id_orig  \n",
       "0                   2.0       19990.0  \n",
       "1                   4.0        5304.0  \n",
       "2                   6.0        1840.0  \n",
       "3                   2.0       12597.0  \n",
       "4                   2.0       13626.0  "
      ]
     },
     "execution_count": 43,
     "metadata": {},
     "output_type": "execute_result"
    }
   ],
   "source": [
    "#checking the preprocessed train dataset from pycaret\n",
    "#till this stage target encoding would not have been done.\n",
    "X= get_config('X')\n",
    "print(len(X.columns))\n",
    "print(list(X.columns))\n",
    "X.head()"
   ]
  },
  {
   "cell_type": "markdown",
   "metadata": {},
   "source": [
    "Build and Train LightGBM model with tuned parameters"
   ]
  },
  {
   "cell_type": "markdown",
   "metadata": {},
   "source": [
    "`Note`: Though LightGBM is not used in final submission, this model has very high potential for improving the predictions in future ensembling."
   ]
  },
  {
   "cell_type": "code",
   "execution_count": 57,
   "metadata": {
    "execution": {
     "iopub.execute_input": "2022-02-11T09:59:48.344707Z",
     "iopub.status.busy": "2022-02-11T09:59:48.344437Z",
     "iopub.status.idle": "2022-02-11T09:59:56.130516Z",
     "shell.execute_reply": "2022-02-11T09:59:56.129680Z",
     "shell.execute_reply.started": "2022-02-11T09:59:48.344679Z"
    }
   },
   "outputs": [
    {
     "data": {
      "text/html": [
       "<style type=\"text/css\">\n",
       "#T_d81da_row10_col0, #T_d81da_row10_col1, #T_d81da_row10_col2, #T_d81da_row10_col3, #T_d81da_row10_col4, #T_d81da_row10_col5 {\n",
       "  background: yellow;\n",
       "}\n",
       "</style>\n",
       "<table id=\"T_d81da_\">\n",
       "  <thead>\n",
       "    <tr>\n",
       "      <th class=\"blank level0\" >&nbsp;</th>\n",
       "      <th class=\"col_heading level0 col0\" >MAE</th>\n",
       "      <th class=\"col_heading level0 col1\" >MSE</th>\n",
       "      <th class=\"col_heading level0 col2\" >RMSE</th>\n",
       "      <th class=\"col_heading level0 col3\" >R2</th>\n",
       "      <th class=\"col_heading level0 col4\" >RMSLE</th>\n",
       "      <th class=\"col_heading level0 col5\" >MAPE</th>\n",
       "    </tr>\n",
       "  </thead>\n",
       "  <tbody>\n",
       "    <tr>\n",
       "      <th id=\"T_d81da_level0_row0\" class=\"row_heading level0 row0\" >0</th>\n",
       "      <td id=\"T_d81da_row0_col0\" class=\"data row0 col0\" >0.4958</td>\n",
       "      <td id=\"T_d81da_row0_col1\" class=\"data row0 col1\" >0.4513</td>\n",
       "      <td id=\"T_d81da_row0_col2\" class=\"data row0 col2\" >0.6718</td>\n",
       "      <td id=\"T_d81da_row0_col3\" class=\"data row0 col3\" >0.4212</td>\n",
       "      <td id=\"T_d81da_row0_col4\" class=\"data row0 col4\" >0.1905</td>\n",
       "      <td id=\"T_d81da_row0_col5\" class=\"data row0 col5\" >0.2410</td>\n",
       "    </tr>\n",
       "    <tr>\n",
       "      <th id=\"T_d81da_level0_row1\" class=\"row_heading level0 row1\" >1</th>\n",
       "      <td id=\"T_d81da_row1_col0\" class=\"data row1 col0\" >0.4985</td>\n",
       "      <td id=\"T_d81da_row1_col1\" class=\"data row1 col1\" >0.4408</td>\n",
       "      <td id=\"T_d81da_row1_col2\" class=\"data row1 col2\" >0.6639</td>\n",
       "      <td id=\"T_d81da_row1_col3\" class=\"data row1 col3\" >0.4024</td>\n",
       "      <td id=\"T_d81da_row1_col4\" class=\"data row1 col4\" >0.1806</td>\n",
       "      <td id=\"T_d81da_row1_col5\" class=\"data row1 col5\" >0.2402</td>\n",
       "    </tr>\n",
       "    <tr>\n",
       "      <th id=\"T_d81da_level0_row2\" class=\"row_heading level0 row2\" >2</th>\n",
       "      <td id=\"T_d81da_row2_col0\" class=\"data row2 col0\" >0.5062</td>\n",
       "      <td id=\"T_d81da_row2_col1\" class=\"data row2 col1\" >0.4639</td>\n",
       "      <td id=\"T_d81da_row2_col2\" class=\"data row2 col2\" >0.6811</td>\n",
       "      <td id=\"T_d81da_row2_col3\" class=\"data row2 col3\" >0.3984</td>\n",
       "      <td id=\"T_d81da_row2_col4\" class=\"data row2 col4\" >0.1892</td>\n",
       "      <td id=\"T_d81da_row2_col5\" class=\"data row2 col5\" >0.2823</td>\n",
       "    </tr>\n",
       "    <tr>\n",
       "      <th id=\"T_d81da_level0_row3\" class=\"row_heading level0 row3\" >3</th>\n",
       "      <td id=\"T_d81da_row3_col0\" class=\"data row3 col0\" >0.4989</td>\n",
       "      <td id=\"T_d81da_row3_col1\" class=\"data row3 col1\" >0.4447</td>\n",
       "      <td id=\"T_d81da_row3_col2\" class=\"data row3 col2\" >0.6669</td>\n",
       "      <td id=\"T_d81da_row3_col3\" class=\"data row3 col3\" >0.3978</td>\n",
       "      <td id=\"T_d81da_row3_col4\" class=\"data row3 col4\" >0.1830</td>\n",
       "      <td id=\"T_d81da_row3_col5\" class=\"data row3 col5\" >0.2237</td>\n",
       "    </tr>\n",
       "    <tr>\n",
       "      <th id=\"T_d81da_level0_row4\" class=\"row_heading level0 row4\" >4</th>\n",
       "      <td id=\"T_d81da_row4_col0\" class=\"data row4 col0\" >0.4993</td>\n",
       "      <td id=\"T_d81da_row4_col1\" class=\"data row4 col1\" >0.4474</td>\n",
       "      <td id=\"T_d81da_row4_col2\" class=\"data row4 col2\" >0.6689</td>\n",
       "      <td id=\"T_d81da_row4_col3\" class=\"data row4 col3\" >0.4099</td>\n",
       "      <td id=\"T_d81da_row4_col4\" class=\"data row4 col4\" >0.1850</td>\n",
       "      <td id=\"T_d81da_row4_col5\" class=\"data row4 col5\" >0.1963</td>\n",
       "    </tr>\n",
       "    <tr>\n",
       "      <th id=\"T_d81da_level0_row5\" class=\"row_heading level0 row5\" >5</th>\n",
       "      <td id=\"T_d81da_row5_col0\" class=\"data row5 col0\" >0.5035</td>\n",
       "      <td id=\"T_d81da_row5_col1\" class=\"data row5 col1\" >0.4524</td>\n",
       "      <td id=\"T_d81da_row5_col2\" class=\"data row5 col2\" >0.6726</td>\n",
       "      <td id=\"T_d81da_row5_col3\" class=\"data row5 col3\" >0.3932</td>\n",
       "      <td id=\"T_d81da_row5_col4\" class=\"data row5 col4\" >0.1829</td>\n",
       "      <td id=\"T_d81da_row5_col5\" class=\"data row5 col5\" >0.2242</td>\n",
       "    </tr>\n",
       "    <tr>\n",
       "      <th id=\"T_d81da_level0_row6\" class=\"row_heading level0 row6\" >6</th>\n",
       "      <td id=\"T_d81da_row6_col0\" class=\"data row6 col0\" >0.4921</td>\n",
       "      <td id=\"T_d81da_row6_col1\" class=\"data row6 col1\" >0.4279</td>\n",
       "      <td id=\"T_d81da_row6_col2\" class=\"data row6 col2\" >0.6542</td>\n",
       "      <td id=\"T_d81da_row6_col3\" class=\"data row6 col3\" >0.4140</td>\n",
       "      <td id=\"T_d81da_row6_col4\" class=\"data row6 col4\" >0.1762</td>\n",
       "      <td id=\"T_d81da_row6_col5\" class=\"data row6 col5\" >0.1899</td>\n",
       "    </tr>\n",
       "    <tr>\n",
       "      <th id=\"T_d81da_level0_row7\" class=\"row_heading level0 row7\" >7</th>\n",
       "      <td id=\"T_d81da_row7_col0\" class=\"data row7 col0\" >0.4998</td>\n",
       "      <td id=\"T_d81da_row7_col1\" class=\"data row7 col1\" >0.4474</td>\n",
       "      <td id=\"T_d81da_row7_col2\" class=\"data row7 col2\" >0.6689</td>\n",
       "      <td id=\"T_d81da_row7_col3\" class=\"data row7 col3\" >0.4055</td>\n",
       "      <td id=\"T_d81da_row7_col4\" class=\"data row7 col4\" >0.1843</td>\n",
       "      <td id=\"T_d81da_row7_col5\" class=\"data row7 col5\" >0.2351</td>\n",
       "    </tr>\n",
       "    <tr>\n",
       "      <th id=\"T_d81da_level0_row8\" class=\"row_heading level0 row8\" >8</th>\n",
       "      <td id=\"T_d81da_row8_col0\" class=\"data row8 col0\" >0.4910</td>\n",
       "      <td id=\"T_d81da_row8_col1\" class=\"data row8 col1\" >0.4260</td>\n",
       "      <td id=\"T_d81da_row8_col2\" class=\"data row8 col2\" >0.6526</td>\n",
       "      <td id=\"T_d81da_row8_col3\" class=\"data row8 col3\" >0.4115</td>\n",
       "      <td id=\"T_d81da_row8_col4\" class=\"data row8 col4\" >0.1767</td>\n",
       "      <td id=\"T_d81da_row8_col5\" class=\"data row8 col5\" >0.2380</td>\n",
       "    </tr>\n",
       "    <tr>\n",
       "      <th id=\"T_d81da_level0_row9\" class=\"row_heading level0 row9\" >9</th>\n",
       "      <td id=\"T_d81da_row9_col0\" class=\"data row9 col0\" >0.4987</td>\n",
       "      <td id=\"T_d81da_row9_col1\" class=\"data row9 col1\" >0.4437</td>\n",
       "      <td id=\"T_d81da_row9_col2\" class=\"data row9 col2\" >0.6661</td>\n",
       "      <td id=\"T_d81da_row9_col3\" class=\"data row9 col3\" >0.4129</td>\n",
       "      <td id=\"T_d81da_row9_col4\" class=\"data row9 col4\" >0.1852</td>\n",
       "      <td id=\"T_d81da_row9_col5\" class=\"data row9 col5\" >0.2607</td>\n",
       "    </tr>\n",
       "    <tr>\n",
       "      <th id=\"T_d81da_level0_row10\" class=\"row_heading level0 row10\" >Mean</th>\n",
       "      <td id=\"T_d81da_row10_col0\" class=\"data row10 col0\" >0.4984</td>\n",
       "      <td id=\"T_d81da_row10_col1\" class=\"data row10 col1\" >0.4446</td>\n",
       "      <td id=\"T_d81da_row10_col2\" class=\"data row10 col2\" >0.6667</td>\n",
       "      <td id=\"T_d81da_row10_col3\" class=\"data row10 col3\" >0.4067</td>\n",
       "      <td id=\"T_d81da_row10_col4\" class=\"data row10 col4\" >0.1834</td>\n",
       "      <td id=\"T_d81da_row10_col5\" class=\"data row10 col5\" >0.2331</td>\n",
       "    </tr>\n",
       "    <tr>\n",
       "      <th id=\"T_d81da_level0_row11\" class=\"row_heading level0 row11\" >SD</th>\n",
       "      <td id=\"T_d81da_row11_col0\" class=\"data row11 col0\" >0.0044</td>\n",
       "      <td id=\"T_d81da_row11_col1\" class=\"data row11 col1\" >0.0106</td>\n",
       "      <td id=\"T_d81da_row11_col2\" class=\"data row11 col2\" >0.0080</td>\n",
       "      <td id=\"T_d81da_row11_col3\" class=\"data row11 col3\" >0.0083</td>\n",
       "      <td id=\"T_d81da_row11_col4\" class=\"data row11 col4\" >0.0044</td>\n",
       "      <td id=\"T_d81da_row11_col5\" class=\"data row11 col5\" >0.0259</td>\n",
       "    </tr>\n",
       "  </tbody>\n",
       "</table>\n"
      ],
      "text/plain": [
       "<pandas.io.formats.style.Styler at 0x7fe27c516c90>"
      ]
     },
     "metadata": {},
     "output_type": "display_data"
    },
    {
     "data": {
      "text/plain": [
       "LGBMRegressor(bagging_fraction=0.6579004691375484, bagging_freq=0,\n",
       "              boosting_type='gbdt', class_weight=None, colsample_bytree=0.8,\n",
       "              feature_fraction=0.4, importance_type='split',\n",
       "              learning_rate=0.017126008965757278, max_depth=12,\n",
       "              min_child_samples=1, min_child_weight=0.001, min_split_gain=0.0,\n",
       "              n_estimators=300, n_jobs=-1, num_leaves=256, objective=None,\n",
       "              random_state=100, reg_alpha=1e-10, reg_lambda=1e-10,\n",
       "              silent='warn', subsample=1.0, subsample_for_bin=200000,\n",
       "              subsample_freq=0)"
      ]
     },
     "execution_count": 57,
     "metadata": {},
     "output_type": "execute_result"
    }
   ],
   "source": [
    "lgbm = create_model('lightgbm',bagging_fraction=0.6579004691375484, bagging_freq=0,\n",
    "              boosting_type='gbdt', class_weight=None, colsample_bytree=0.8,\n",
    "               feature_fraction=0.4, importance_type='split',\n",
    "              learning_rate=0.017126008965757278, max_depth=12,\n",
    "              min_child_samples=1, min_child_weight=0.001, min_split_gain=0.0,\n",
    "              n_estimators=300, n_jobs=-1, num_leaves=256, objective=None,\n",
    "              random_state=100, reg_alpha=1e-10, reg_lambda=1e-10,\n",
    "              silent='warn', subsample=1.0, subsample_for_bin=200000,\n",
    "              subsample_freq=0)\n",
    "lgbm"
   ]
  },
  {
   "cell_type": "code",
   "execution_count": 58,
   "metadata": {},
   "outputs": [
    {
     "name": "stdout",
     "output_type": "stream",
     "text": [
      "Transformation Pipeline and Model Successfully Saved\n"
     ]
    },
    {
     "data": {
      "text/plain": [
       "(Pipeline(memory=None,\n",
       "          steps=[('dtypes',\n",
       "                  DataTypes_Auto_infer(categorical_features=[],\n",
       "                                       display_types=False, features_todrop=[],\n",
       "                                       id_columns=[], ml_usecase='regression',\n",
       "                                       numerical_features=['user_id',\n",
       "                                                           'category_id',\n",
       "                                                           'video_id', 'age',\n",
       "                                                           'gender',\n",
       "                                                           'profession',\n",
       "                                                           'followers', 'views',\n",
       "                                                           'user_video_count',\n",
       "                                                           'user_category_count',\n",
       "                                                           'category_user_count',\n",
       "                                                           'category_video_count'],...\n",
       "                                class_weight=None, colsample_bytree=0.8,\n",
       "                                feature_fraction=0.4, importance_type='split',\n",
       "                                learning_rate=0.017126008965757278, max_depth=12,\n",
       "                                min_child_samples=1, min_child_weight=0.001,\n",
       "                                min_split_gain=0.0, n_estimators=300, n_jobs=-1,\n",
       "                                num_leaves=256, objective=None, random_state=100,\n",
       "                                reg_alpha=1e-10, reg_lambda=1e-10, silent='warn',\n",
       "                                subsample=1.0, subsample_for_bin=200000,\n",
       "                                subsample_freq=0)]],\n",
       "          verbose=False),\n",
       " 'tuned_lgbm_model.pkl')"
      ]
     },
     "execution_count": 58,
     "metadata": {},
     "output_type": "execute_result"
    }
   ],
   "source": [
    "#save tuned light gbm model for future predictions and ensembling\n",
    "save_model(lgbm, 'tuned_lgbm_model')"
   ]
  },
  {
   "cell_type": "markdown",
   "metadata": {},
   "source": [
    "Light GBM Feature Importances"
   ]
  },
  {
   "cell_type": "code",
   "execution_count": 59,
   "metadata": {},
   "outputs": [
    {
     "data": {
      "image/png": "[encoded data removed]",
      "text/plain": [
       "<Figure size 800x500 with 1 Axes>"
      ]
     },
     "metadata": {
      "needs_background": "light"
     },
     "output_type": "display_data"
    }
   ],
   "source": [
    "#Top 10 important features of LightGBM according to feature importances\n",
    "plot_model(lgbm,'feature')"
   ]
  },
  {
   "cell_type": "markdown",
   "metadata": {},
   "source": [
    "xgboost model"
   ]
  },
  {
   "cell_type": "markdown",
   "metadata": {},
   "source": [
    "Build and Train XGBoost model with tuned parameters"
   ]
  },
  {
   "cell_type": "code",
   "execution_count": 32,
   "metadata": {},
   "outputs": [
    {
     "data": {
      "text/html": [
       "<style type=\"text/css\">\n",
       "#T_1173c_row10_col0, #T_1173c_row10_col1, #T_1173c_row10_col2, #T_1173c_row10_col3, #T_1173c_row10_col4, #T_1173c_row10_col5 {\n",
       "  background: yellow;\n",
       "}\n",
       "</style>\n",
       "<table id=\"T_1173c_\">\n",
       "  <thead>\n",
       "    <tr>\n",
       "      <th class=\"blank level0\" >&nbsp;</th>\n",
       "      <th class=\"col_heading level0 col0\" >MAE</th>\n",
       "      <th class=\"col_heading level0 col1\" >MSE</th>\n",
       "      <th class=\"col_heading level0 col2\" >RMSE</th>\n",
       "      <th class=\"col_heading level0 col3\" >R2</th>\n",
       "      <th class=\"col_heading level0 col4\" >RMSLE</th>\n",
       "      <th class=\"col_heading level0 col5\" >MAPE</th>\n",
       "    </tr>\n",
       "  </thead>\n",
       "  <tbody>\n",
       "    <tr>\n",
       "      <th id=\"T_1173c_level0_row0\" class=\"row_heading level0 row0\" >0</th>\n",
       "      <td id=\"T_1173c_row0_col0\" class=\"data row0 col0\" >0.4936</td>\n",
       "      <td id=\"T_1173c_row0_col1\" class=\"data row0 col1\" >0.4377</td>\n",
       "      <td id=\"T_1173c_row0_col2\" class=\"data row0 col2\" >0.6616</td>\n",
       "      <td id=\"T_1173c_row0_col3\" class=\"data row0 col3\" >0.4222</td>\n",
       "      <td id=\"T_1173c_row0_col4\" class=\"data row0 col4\" >0.1817</td>\n",
       "      <td id=\"T_1173c_row0_col5\" class=\"data row0 col5\" >0.2498</td>\n",
       "    </tr>\n",
       "    <tr>\n",
       "      <th id=\"T_1173c_level0_row1\" class=\"row_heading level0 row1\" >1</th>\n",
       "      <td id=\"T_1173c_row1_col0\" class=\"data row1 col0\" >0.4897</td>\n",
       "      <td id=\"T_1173c_row1_col1\" class=\"data row1 col1\" >0.4434</td>\n",
       "      <td id=\"T_1173c_row1_col2\" class=\"data row1 col2\" >0.6659</td>\n",
       "      <td id=\"T_1173c_row1_col3\" class=\"data row1 col3\" >0.4114</td>\n",
       "      <td id=\"T_1173c_row1_col4\" class=\"data row1 col4\" >0.1828</td>\n",
       "      <td id=\"T_1173c_row1_col5\" class=\"data row1 col5\" >0.2132</td>\n",
       "    </tr>\n",
       "    <tr>\n",
       "      <th id=\"T_1173c_level0_row2\" class=\"row_heading level0 row2\" >2</th>\n",
       "      <td id=\"T_1173c_row2_col0\" class=\"data row2 col0\" >0.4918</td>\n",
       "      <td id=\"T_1173c_row2_col1\" class=\"data row2 col1\" >0.4387</td>\n",
       "      <td id=\"T_1173c_row2_col2\" class=\"data row2 col2\" >0.6623</td>\n",
       "      <td id=\"T_1173c_row2_col3\" class=\"data row2 col3\" >0.4167</td>\n",
       "      <td id=\"T_1173c_row2_col4\" class=\"data row2 col4\" >0.1829</td>\n",
       "      <td id=\"T_1173c_row2_col5\" class=\"data row2 col5\" >0.1845</td>\n",
       "    </tr>\n",
       "    <tr>\n",
       "      <th id=\"T_1173c_level0_row3\" class=\"row_heading level0 row3\" >3</th>\n",
       "      <td id=\"T_1173c_row3_col0\" class=\"data row3 col0\" >0.4815</td>\n",
       "      <td id=\"T_1173c_row3_col1\" class=\"data row3 col1\" >0.4175</td>\n",
       "      <td id=\"T_1173c_row3_col2\" class=\"data row3 col2\" >0.6462</td>\n",
       "      <td id=\"T_1173c_row3_col3\" class=\"data row3 col3\" >0.4252</td>\n",
       "      <td id=\"T_1173c_row3_col4\" class=\"data row3 col4\" >0.1743</td>\n",
       "      <td id=\"T_1173c_row3_col5\" class=\"data row3 col5\" >0.2583</td>\n",
       "    </tr>\n",
       "    <tr>\n",
       "      <th id=\"T_1173c_level0_row4\" class=\"row_heading level0 row4\" >4</th>\n",
       "      <td id=\"T_1173c_row4_col0\" class=\"data row4 col0\" >0.5001</td>\n",
       "      <td id=\"T_1173c_row4_col1\" class=\"data row4 col1\" >0.4540</td>\n",
       "      <td id=\"T_1173c_row4_col2\" class=\"data row4 col2\" >0.6738</td>\n",
       "      <td id=\"T_1173c_row4_col3\" class=\"data row4 col3\" >0.3894</td>\n",
       "      <td id=\"T_1173c_row4_col4\" class=\"data row4 col4\" >0.1842</td>\n",
       "      <td id=\"T_1173c_row4_col5\" class=\"data row4 col5\" >0.2347</td>\n",
       "    </tr>\n",
       "    <tr>\n",
       "      <th id=\"T_1173c_level0_row5\" class=\"row_heading level0 row5\" >5</th>\n",
       "      <td id=\"T_1173c_row5_col0\" class=\"data row5 col0\" >0.4843</td>\n",
       "      <td id=\"T_1173c_row5_col1\" class=\"data row5 col1\" >0.4222</td>\n",
       "      <td id=\"T_1173c_row5_col2\" class=\"data row5 col2\" >0.6497</td>\n",
       "      <td id=\"T_1173c_row5_col3\" class=\"data row5 col3\" >0.4271</td>\n",
       "      <td id=\"T_1173c_row5_col4\" class=\"data row5 col4\" >0.1779</td>\n",
       "      <td id=\"T_1173c_row5_col5\" class=\"data row5 col5\" >0.2614</td>\n",
       "    </tr>\n",
       "    <tr>\n",
       "      <th id=\"T_1173c_level0_row6\" class=\"row_heading level0 row6\" >6</th>\n",
       "      <td id=\"T_1173c_row6_col0\" class=\"data row6 col0\" >0.4983</td>\n",
       "      <td id=\"T_1173c_row6_col1\" class=\"data row6 col1\" >0.4504</td>\n",
       "      <td id=\"T_1173c_row6_col2\" class=\"data row6 col2\" >0.6711</td>\n",
       "      <td id=\"T_1173c_row6_col3\" class=\"data row6 col3\" >0.4182</td>\n",
       "      <td id=\"T_1173c_row6_col4\" class=\"data row6 col4\" >0.1843</td>\n",
       "      <td id=\"T_1173c_row6_col5\" class=\"data row6 col5\" >0.1960</td>\n",
       "    </tr>\n",
       "    <tr>\n",
       "      <th id=\"T_1173c_level0_row7\" class=\"row_heading level0 row7\" >7</th>\n",
       "      <td id=\"T_1173c_row7_col0\" class=\"data row7 col0\" >0.4948</td>\n",
       "      <td id=\"T_1173c_row7_col1\" class=\"data row7 col1\" >0.4444</td>\n",
       "      <td id=\"T_1173c_row7_col2\" class=\"data row7 col2\" >0.6666</td>\n",
       "      <td id=\"T_1173c_row7_col3\" class=\"data row7 col3\" >0.4171</td>\n",
       "      <td id=\"T_1173c_row7_col4\" class=\"data row7 col4\" >0.1856</td>\n",
       "      <td id=\"T_1173c_row7_col5\" class=\"data row7 col5\" >0.2409</td>\n",
       "    </tr>\n",
       "    <tr>\n",
       "      <th id=\"T_1173c_level0_row8\" class=\"row_heading level0 row8\" >8</th>\n",
       "      <td id=\"T_1173c_row8_col0\" class=\"data row8 col0\" >0.4922</td>\n",
       "      <td id=\"T_1173c_row8_col1\" class=\"data row8 col1\" >0.4377</td>\n",
       "      <td id=\"T_1173c_row8_col2\" class=\"data row8 col2\" >0.6616</td>\n",
       "      <td id=\"T_1173c_row8_col3\" class=\"data row8 col3\" >0.4087</td>\n",
       "      <td id=\"T_1173c_row8_col4\" class=\"data row8 col4\" >0.1804</td>\n",
       "      <td id=\"T_1173c_row8_col5\" class=\"data row8 col5\" >0.2486</td>\n",
       "    </tr>\n",
       "    <tr>\n",
       "      <th id=\"T_1173c_level0_row9\" class=\"row_heading level0 row9\" >9</th>\n",
       "      <td id=\"T_1173c_row9_col0\" class=\"data row9 col0\" >0.4911</td>\n",
       "      <td id=\"T_1173c_row9_col1\" class=\"data row9 col1\" >0.4367</td>\n",
       "      <td id=\"T_1173c_row9_col2\" class=\"data row9 col2\" >0.6609</td>\n",
       "      <td id=\"T_1173c_row9_col3\" class=\"data row9 col3\" >0.4158</td>\n",
       "      <td id=\"T_1173c_row9_col4\" class=\"data row9 col4\" >0.1830</td>\n",
       "      <td id=\"T_1173c_row9_col5\" class=\"data row9 col5\" >0.1882</td>\n",
       "    </tr>\n",
       "    <tr>\n",
       "      <th id=\"T_1173c_level0_row10\" class=\"row_heading level0 row10\" >Mean</th>\n",
       "      <td id=\"T_1173c_row10_col0\" class=\"data row10 col0\" >0.4917</td>\n",
       "      <td id=\"T_1173c_row10_col1\" class=\"data row10 col1\" >0.4383</td>\n",
       "      <td id=\"T_1173c_row10_col2\" class=\"data row10 col2\" >0.6620</td>\n",
       "      <td id=\"T_1173c_row10_col3\" class=\"data row10 col3\" >0.4152</td>\n",
       "      <td id=\"T_1173c_row10_col4\" class=\"data row10 col4\" >0.1817</td>\n",
       "      <td id=\"T_1173c_row10_col5\" class=\"data row10 col5\" >0.2276</td>\n",
       "    </tr>\n",
       "    <tr>\n",
       "      <th id=\"T_1173c_level0_row11\" class=\"row_heading level0 row11\" >SD</th>\n",
       "      <td id=\"T_1173c_row11_col0\" class=\"data row11 col0\" >0.0054</td>\n",
       "      <td id=\"T_1173c_row11_col1\" class=\"data row11 col1\" >0.0107</td>\n",
       "      <td id=\"T_1173c_row11_col2\" class=\"data row11 col2\" >0.0081</td>\n",
       "      <td id=\"T_1173c_row11_col3\" class=\"data row11 col3\" >0.0101</td>\n",
       "      <td id=\"T_1173c_row11_col4\" class=\"data row11 col4\" >0.0032</td>\n",
       "      <td id=\"T_1173c_row11_col5\" class=\"data row11 col5\" >0.0280</td>\n",
       "    </tr>\n",
       "  </tbody>\n",
       "</table>\n"
      ],
      "text/plain": [
       "<pandas.io.formats.style.Styler at 0x7f6ee5298dd0>"
      ]
     },
     "metadata": {},
     "output_type": "display_data"
    },
    {
     "name": "stdout",
     "output_type": "stream",
     "text": [
      "CPU times: user 6min 14s, sys: 2min 11s, total: 8min 26s\n",
      "Wall time: 8min 52s\n"
     ]
    },
    {
     "data": {
      "text/plain": [
       "XGBRegressor(base_score=0.5, booster='gbtree', colsample_bylevel=1,\n",
       "             colsample_bynode=1, colsample_bytree=0.5, enable_categorical=False,\n",
       "             gamma=0, gpu_id=0, importance_type=None,\n",
       "             interaction_constraints='', learning_rate=0.020277635007304968,\n",
       "             max_delta_step=0, max_depth=11, min_child_weight=4, missing=nan,\n",
       "             monotone_constraints='()', n_estimators=300, n_jobs=-1,\n",
       "             num_parallel_tree=1, objective='reg:squarederror',\n",
       "             predictor='auto', random_state=100, reg_alpha=1e-10,\n",
       "             reg_lambda=1e-10, scale_pos_weight=46.751325738834,\n",
       "             subsample=0.9840433785610212, tree_method='gpu_hist',\n",
       "             validate_parameters=1, verbosity=0)"
      ]
     },
     "execution_count": 32,
     "metadata": {},
     "output_type": "execute_result"
    }
   ],
   "source": [
    "%%time\n",
    "xgbm=create_model('xgboost',base_score=0.5, booster='gbtree', colsample_bylevel=1,\n",
    "             colsample_bynode=1, colsample_bytree=0.5, enable_categorical=False,\n",
    "             gamma=0, gpu_id=0, importance_type=None,\n",
    "             interaction_constraints='', learning_rate=0.020277635007304968,\n",
    "             max_delta_step=0, max_depth=11, min_child_weight=4,\n",
    "             monotone_constraints='()', n_estimators=300, n_jobs=-1,\n",
    "             num_parallel_tree=1, objective='reg:squarederror',\n",
    "             predictor='auto', random_state=100, reg_alpha=1e-10,\n",
    "             reg_lambda=1e-10, scale_pos_weight=46.751325738834,\n",
    "             subsample=0.9840433785610212, tree_method='gpu_hist',\n",
    "             validate_parameters=1, verbosity=0)\n",
    "xgbm"
   ]
  },
  {
   "cell_type": "code",
   "execution_count": 33,
   "metadata": {},
   "outputs": [
    {
     "name": "stdout",
     "output_type": "stream",
     "text": [
      "Transformation Pipeline and Model Successfully Saved\n"
     ]
    },
    {
     "data": {
      "text/plain": [
       "(Pipeline(memory=None,\n",
       "          steps=[('dtypes',\n",
       "                  DataTypes_Auto_infer(categorical_features=[],\n",
       "                                       display_types=False, features_todrop=[],\n",
       "                                       id_columns=[], ml_usecase='regression',\n",
       "                                       numerical_features=['user_id',\n",
       "                                                           'category_id',\n",
       "                                                           'video_id', 'age',\n",
       "                                                           'gender',\n",
       "                                                           'profession',\n",
       "                                                           'followers', 'views',\n",
       "                                                           'user_video_count',\n",
       "                                                           'user_category_count',\n",
       "                                                           'category_user_count',\n",
       "                                                           'category_video_count'],...\n",
       "                               max_delta_step=0, max_depth=11,\n",
       "                               min_child_weight=4, missing=nan,\n",
       "                               monotone_constraints='()', n_estimators=300,\n",
       "                               n_jobs=-1, num_parallel_tree=1,\n",
       "                               objective='reg:squarederror', predictor='auto',\n",
       "                               random_state=100, reg_alpha=1e-10,\n",
       "                               reg_lambda=1e-10,\n",
       "                               scale_pos_weight=46.751325738834,\n",
       "                               subsample=0.9840433785610212,\n",
       "                               tree_method='gpu_hist', validate_parameters=1,\n",
       "                               verbosity=0)]],\n",
       "          verbose=False),\n",
       " 'tuned_xgb_model.pkl')"
      ]
     },
     "execution_count": 33,
     "metadata": {},
     "output_type": "execute_result"
    }
   ],
   "source": [
    "#save tuned xgboost model for future predictions and ensembling\n",
    "save_model(xgbm, 'tuned_xgb_model')"
   ]
  },
  {
   "cell_type": "markdown",
   "metadata": {},
   "source": [
    "XGBoost Feature Importances"
   ]
  },
  {
   "cell_type": "code",
   "execution_count": 33,
   "metadata": {},
   "outputs": [
    {
     "data": {
      "image/png": "[encoded data removed]",
      "text/plain": [
       "<Figure size 800x500 with 1 Axes>"
      ]
     },
     "metadata": {
      "needs_background": "light"
     },
     "output_type": "display_data"
    }
   ],
   "source": [
    "#Top 10 important features of LightGBM according to feature importances\n",
    "plot_model(xgbm,'feature')"
   ]
  },
  {
   "cell_type": "markdown",
   "metadata": {},
   "source": [
    "Catboost Model Training"
   ]
  },
  {
   "cell_type": "markdown",
   "metadata": {},
   "source": [
    "`Note`: Though Catboost is not used in final submission, this model has very high potential for improving the predictions in future ensembling."
   ]
  },
  {
   "cell_type": "code",
   "execution_count": 36,
   "metadata": {},
   "outputs": [],
   "source": [
    "# catboost=create_model('catboost')\n",
    "# catboost"
   ]
  },
  {
   "cell_type": "code",
   "execution_count": 37,
   "metadata": {},
   "outputs": [],
   "source": [
    "# save_model(catboost, 'catboost_model')"
   ]
  },
  {
   "cell_type": "markdown",
   "metadata": {},
   "source": [
    "Random Forest Model Training"
   ]
  },
  {
   "cell_type": "markdown",
   "metadata": {},
   "source": [
    "`Note`: Though Random Forest is not used in final submission, this model has very high potential for improving the predictions in future ensembling."
   ]
  },
  {
   "cell_type": "code",
   "execution_count": 38,
   "metadata": {},
   "outputs": [],
   "source": [
    "# rf=create_model('rf')\n",
    "# rf"
   ]
  },
  {
   "cell_type": "code",
   "execution_count": 39,
   "metadata": {},
   "outputs": [],
   "source": [
    "# save_model(rf, 'randomforest_model')"
   ]
  },
  {
   "cell_type": "markdown",
   "metadata": {},
   "source": [
    "Ensemble models"
   ]
  },
  {
   "cell_type": "markdown",
   "metadata": {},
   "source": [
    "Stacking of multiple models with restacking (i.e) including original features along with the predictions during stacking"
   ]
  },
  {
   "cell_type": "code",
   "execution_count": 40,
   "metadata": {},
   "outputs": [],
   "source": [
    "# stacked_model = stack_models([lgbm,xgbm,catboost,rf],\n",
    "# #                               meta_model=\n",
    "#                             ),\n",
    "# stacked_model"
   ]
  },
  {
   "cell_type": "code",
   "execution_count": 41,
   "metadata": {},
   "outputs": [],
   "source": [
    "# save_model(stacked_model, 'stacked_model_w_tuned_xgbm')"
   ]
  },
  {
   "cell_type": "markdown",
   "metadata": {},
   "source": [
    "### Predictions"
   ]
  },
  {
   "cell_type": "markdown",
   "metadata": {},
   "source": [
    "For predicting test data, train the model using full train data. <br>\n",
    "In pycaret, it is achieved by invoking `finalize_model()`"
   ]
  },
  {
   "cell_type": "code",
   "execution_count": null,
   "metadata": {
    "execution": {
     "iopub.execute_input": "2022-02-11T10:09:15.709201Z",
     "iopub.status.busy": "2022-02-11T10:09:15.708690Z",
     "iopub.status.idle": "2022-02-11T10:09:25.138798Z",
     "shell.execute_reply": "2022-02-11T10:09:25.137926Z",
     "shell.execute_reply.started": "2022-02-11T10:09:15.709155Z"
    }
   },
   "outputs": [],
   "source": [
    "%%time\n",
    "# final_model = finalize_model(stacked_model[0])\n",
    "#train the model using test predictions based on tuned xgboost model\n",
    "final_model = finalize_model(xgbm)"
   ]
  },
  {
   "cell_type": "markdown",
   "metadata": {},
   "source": [
    "Make predictions on the test data using final model <br>\n",
    "\n",
    "pycaret `predict_model` returns predictions in the column `Label` and return value contains  test input data besides prediction"
   ]
  },
  {
   "cell_type": "code",
   "execution_count": 46,
   "metadata": {
    "execution": {
     "iopub.execute_input": "2022-02-11T10:09:15.709201Z",
     "iopub.status.busy": "2022-02-11T10:09:15.708690Z",
     "iopub.status.idle": "2022-02-11T10:09:25.138798Z",
     "shell.execute_reply": "2022-02-11T10:09:25.137926Z",
     "shell.execute_reply.started": "2022-02-11T10:09:15.709155Z"
    }
   },
   "outputs": [
    {
     "name": "stdout",
     "output_type": "stream",
     "text": [
      "   row_id  user_id  category_id  video_id  age  gender  profession  followers  \\\n",
      "0   89198     7986           12        42   14       1           1        180   \n",
      "1   89199    11278           34       115   14       1           1        230   \n",
      "2   89200    17245            8       110   44       0           2        280   \n",
      "3   89201     9851           16       137   18       1           1        270   \n",
      "4   89202    16008           34        96   47       0           0        230   \n",
      "\n",
      "   views  user_video_count  ...  category_user_count  category_video_count  \\\n",
      "0    138                 2  ...                 2020                     6   \n",
      "1    840                 5  ...                 1679                     5   \n",
      "2    628                 5  ...                 3043                    10   \n",
      "3    462                 3  ...                 1670                     5   \n",
      "4    840                 3  ...                 1679                     5   \n",
      "\n",
      "   category_age_mean  category_gender_mean  category_profession_mean  \\\n",
      "0          24.836205              0.670352                  0.883775   \n",
      "1          24.674553              0.360934                  0.893540   \n",
      "2          24.670680              0.616822                  0.897513   \n",
      "3          24.791973              0.587929                  0.909620   \n",
      "4          24.674553              0.360934                  0.893540   \n",
      "\n",
      "   video_age_mean  video_gender_mean  video_profession_mean  user_id_orig  \\\n",
      "0       24.874652           0.678737               0.862581          7986   \n",
      "1       24.856716           0.334328               0.908955         11278   \n",
      "2       24.645260           0.681957               0.840979         17245   \n",
      "3       24.545171           0.588785               0.886293          9851   \n",
      "4       24.660194           0.425566               0.901294         16008   \n",
      "\n",
      "      Label  \n",
      "0  4.197085  \n",
      "1  3.970400  \n",
      "2  2.388274  \n",
      "3  2.889002  \n",
      "4  2.074492  \n",
      "\n",
      "[5 rows x 21 columns]\n"
     ]
    }
   ],
   "source": [
    "test_preds = predict_model(final_model, data=test)\n",
    "print(test_preds.head())"
   ]
  },
  {
   "cell_type": "code",
   "execution_count": 47,
   "metadata": {},
   "outputs": [
    {
     "data": {
      "text/plain": [
       "XGBRegressor(base_score=0.5, booster='gbtree', colsample_bylevel=1,\n",
       "             colsample_bynode=1, colsample_bytree=0.5, enable_categorical=False,\n",
       "             gamma=0, gpu_id=0, importance_type=None,\n",
       "             interaction_constraints='', learning_rate=0.020277635007304968,\n",
       "             max_delta_step=0, max_depth=11, min_child_weight=4, missing=nan,\n",
       "             monotone_constraints='()', n_estimators=300, n_jobs=-1,\n",
       "             num_parallel_tree=1, objective='reg:squarederror',\n",
       "             predictor='auto', random_state=100, reg_alpha=1e-10,\n",
       "             reg_lambda=1e-10, scale_pos_weight=46.751325738834,\n",
       "             subsample=0.9840433785610212, tree_method='gpu_hist',\n",
       "             validate_parameters=1, verbosity=0)"
      ]
     },
     "execution_count": 47,
     "metadata": {},
     "output_type": "execute_result"
    }
   ],
   "source": [
    "final_model"
   ]
  },
  {
   "cell_type": "code",
   "execution_count": 52,
   "metadata": {},
   "outputs": [],
   "source": [
    "# %%time\n",
    "# #train predictions\n",
    "# train_preds = predict_model(final_model, data=train)\n",
    "# print(train_preds.head())\n",
    "# print('full train score:',r2_score(target,train_preds['Label']))"
   ]
  },
  {
   "cell_type": "markdown",
   "metadata": {},
   "source": [
    "#### Create and Save Submission File using test predictions"
   ]
  },
  {
   "cell_type": "code",
   "execution_count": 48,
   "metadata": {
    "execution": {
     "iopub.execute_input": "2022-02-11T10:09:52.402418Z",
     "iopub.status.busy": "2022-02-11T10:09:52.402078Z",
     "iopub.status.idle": "2022-02-11T10:09:52.438367Z",
     "shell.execute_reply": "2022-02-11T10:09:52.437298Z",
     "shell.execute_reply.started": "2022-02-11T10:09:52.402384Z"
    }
   },
   "outputs": [],
   "source": [
    "submission = test_preds[['row_id','Label']]\n",
    "submission=submission.rename(columns={'Label':'engagement_score'})\n",
    "submission[['row_id','engagement_score']].to_csv('submission.csv',index=False)"
   ]
  },
  {
   "cell_type": "markdown",
   "metadata": {},
   "source": [
    "read and check the submission file"
   ]
  },
  {
   "cell_type": "code",
   "execution_count": 49,
   "metadata": {
    "execution": {
     "iopub.execute_input": "2022-02-11T10:09:53.888767Z",
     "iopub.status.busy": "2022-02-11T10:09:53.888087Z",
     "iopub.status.idle": "2022-02-11T10:09:53.901750Z",
     "shell.execute_reply": "2022-02-11T10:09:53.900359Z",
     "shell.execute_reply.started": "2022-02-11T10:09:53.888715Z"
    }
   },
   "outputs": [],
   "source": [
    "test_sub = pd.read_csv('submission.csv')"
   ]
  },
  {
   "cell_type": "code",
   "execution_count": 50,
   "metadata": {
    "execution": {
     "iopub.execute_input": "2022-02-11T10:09:54.805678Z",
     "iopub.status.busy": "2022-02-11T10:09:54.805403Z",
     "iopub.status.idle": "2022-02-11T10:09:54.816282Z",
     "shell.execute_reply": "2022-02-11T10:09:54.815449Z",
     "shell.execute_reply.started": "2022-02-11T10:09:54.805651Z"
    }
   },
   "outputs": [
    {
     "name": "stdout",
     "output_type": "stream",
     "text": [
      "(11121, 2)\n"
     ]
    },
    {
     "data": {
      "text/html": [
       "<div>\n",
       "<style scoped>\n",
       "    .dataframe tbody tr th:only-of-type {\n",
       "        vertical-align: middle;\n",
       "    }\n",
       "\n",
       "    .dataframe tbody tr th {\n",
       "        vertical-align: top;\n",
       "    }\n",
       "\n",
       "    .dataframe thead th {\n",
       "        text-align: right;\n",
       "    }\n",
       "</style>\n",
       "<table border=\"1\" class=\"dataframe\">\n",
       "  <thead>\n",
       "    <tr style=\"text-align: right;\">\n",
       "      <th></th>\n",
       "      <th>row_id</th>\n",
       "      <th>engagement_score</th>\n",
       "    </tr>\n",
       "  </thead>\n",
       "  <tbody>\n",
       "    <tr>\n",
       "      <th>0</th>\n",
       "      <td>89198</td>\n",
       "      <td>4.197085</td>\n",
       "    </tr>\n",
       "    <tr>\n",
       "      <th>1</th>\n",
       "      <td>89199</td>\n",
       "      <td>3.970400</td>\n",
       "    </tr>\n",
       "    <tr>\n",
       "      <th>2</th>\n",
       "      <td>89200</td>\n",
       "      <td>2.388274</td>\n",
       "    </tr>\n",
       "    <tr>\n",
       "      <th>3</th>\n",
       "      <td>89201</td>\n",
       "      <td>2.889002</td>\n",
       "    </tr>\n",
       "    <tr>\n",
       "      <th>4</th>\n",
       "      <td>89202</td>\n",
       "      <td>2.074492</td>\n",
       "    </tr>\n",
       "  </tbody>\n",
       "</table>\n",
       "</div>"
      ],
      "text/plain": [
       "   row_id  engagement_score\n",
       "0   89198          4.197085\n",
       "1   89199          3.970400\n",
       "2   89200          2.388274\n",
       "3   89201          2.889002\n",
       "4   89202          2.074492"
      ]
     },
     "execution_count": 50,
     "metadata": {},
     "output_type": "execute_result"
    }
   ],
   "source": [
    "print(test_sub.shape)\n",
    "test_sub.head()"
   ]
  }
 ],
 "metadata": {
  "kernelspec": {
   "display_name": "Python 3",
   "language": "python",
   "name": "python3"
  },
  "language_info": {
   "codemirror_mode": {
    "name": "ipython",
    "version": 3
   },
   "file_extension": ".py",
   "mimetype": "text/x-python",
   "name": "python",
   "nbconvert_exporter": "python",
   "pygments_lexer": "ipython3",
   "version": "3.8.8"
  }
 },
 "nbformat": 4,
 "nbformat_minor": 4
}
